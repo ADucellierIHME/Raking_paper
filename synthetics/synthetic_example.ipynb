{
 "cells": [
  {
   "cell_type": "markdown",
   "id": "5bb2c7cd-5a40-484c-9637-c4f2f6651a19",
   "metadata": {},
   "source": [
    "# Raking in 2D\n",
    "\n",
    "This notebook explains how to reproduce the figures in the part 3.2.5 2D Raking Example with Uncertainty Quantification of the paper."
   ]
  },
  {
   "cell_type": "code",
   "execution_count": 1,
   "id": "0598f2c0-d7d2-4d90-a9ac-cca47125636e",
   "metadata": {},
   "outputs": [],
   "source": [
    "# Python modules\n",
    "import altair as alt\n",
    "import numpy as np\n",
    "import pandas as pd\n",
    "from scipy.stats import norm"
   ]
  },
  {
   "cell_type": "markdown",
   "id": "fb3bb8f7-8a43-4df1-93a3-bf329011f425",
   "metadata": {},
   "source": [
    "Modify this to see how much samples you need to get a good estimate of the mean and the covariance of the raked values with the Monte Carlo method."
   ]
  },
  {
   "cell_type": "code",
   "execution_count": 2,
   "id": "6f50dae6-3c54-48fa-82cc-6d249d24c86f",
   "metadata": {},
   "outputs": [],
   "source": [
    "# Parameters\n",
    "Ns = [100, 1000, 10000, 100000] # Number of samples for Monte Carlo method"
   ]
  },
  {
   "cell_type": "markdown",
   "id": "e4c49ef3-9502-4fde-9d65-a07fb06587c5",
   "metadata": {},
   "source": [
    "## Generating the data\n",
    "\n",
    "We first begin by generating a balanced $3 \\times 5$ matrix. We compute the corresponding margins and then we add noise to the data. This way we have margins that sum correctly (thus the raking problem indeed has a solution), but we avoid having observations that already match the margins before the raking. "
   ]
  },
  {
   "cell_type": "code",
   "execution_count": 3,
   "id": "bcb3d946-404f-4a55-ae2a-73fadb9ad25d",
   "metadata": {},
   "outputs": [],
   "source": [
    "# Define variables and margins names\n",
    "x1 = [1, 2, 3, 1, 2, 3, 1, 2, 3, 1, 2, 3, 1, 2, 3]\n",
    "x2 = [1, 1, 1, 2, 2, 2, 3, 3, 3, 4, 4, 4, 5, 5, 5]\n",
    "margins = ['s1_1', 's1_2', 's1_3', 's1_4', 's1_5', 's2_1', 's2_2']\n",
    "\n",
    "# Generate balanced table\n",
    "rng = np.random.default_rng(0)\n",
    "beta_ij = rng.uniform(low=2.0, high=3.0, size=(3, 5))\n",
    "\n",
    "# Compute the margins\n",
    "s1 = np.sum(beta_ij, axis=0)\n",
    "s2 = np.sum(beta_ij, axis=1)\n",
    "\n",
    "# Add noise to the data\n",
    "mean = beta_ij.flatten(order='F') + rng.normal(0.0, 0.1, size=15)"
   ]
  },
  {
   "cell_type": "markdown",
   "id": "167a5da2-5a7a-4bb9-9324-b34dace83fe1",
   "metadata": {},
   "source": [
    "We then generate samples for the observations in order to be able to compare the two methods of uncertainty propagation (Monte Carlo simulation or combination of Delta method and Implicit Function Theorem)."
   ]
  },
  {
   "cell_type": "code",
   "execution_count": 4,
   "id": "5bd3f668-8856-4aa0-8800-79aebf05b0cd",
   "metadata": {},
   "outputs": [],
   "source": [
    "# Define the covariance matrix of the observations\n",
    "cov = 0.01 * np.ones((15, 15))\n",
    "np.fill_diagonal(cov, np.arange(0.01, 0.16, 0.01))\n",
    "\n",
    "# Generate samples\n",
    "ys = []\n",
    "for N in Ns:\n",
    "    y = rng.multivariate_normal(mean, cov, N)\n",
    "    ys.append(y)"
   ]
  },
  {
   "cell_type": "markdown",
   "id": "6768874a-6791-48c3-8ce2-9646934b86bb",
   "metadata": {},
   "source": [
    "## Applying the raking procedure to the true expectancy of the observations\n",
    "\n",
    "We start by computing the constraint matrix and the margin vector."
   ]
  },
  {
   "cell_type": "code",
   "execution_count": 5,
   "id": "a45250c8-bad2-4d58-bee3-0d27d8085e54",
   "metadata": {},
   "outputs": [],
   "source": [
    "from raking.compute_constraints import constraints_2D"
   ]
  },
  {
   "cell_type": "code",
   "execution_count": 6,
   "id": "2353d5ef-1f83-4be5-bce5-8d521d85b5d9",
   "metadata": {},
   "outputs": [],
   "source": [
    "(A, s) = constraints_2D(s1, s2, 3, 5)"
   ]
  },
  {
   "cell_type": "markdown",
   "id": "d485e260-a865-4fc4-a3aa-993c69231aa0",
   "metadata": {},
   "source": [
    "We then rake the true expectancy of the observations using the $\\chi^2$ distance."
   ]
  },
  {
   "cell_type": "code",
   "execution_count": 7,
   "id": "98022d31-ec68-4e0f-a3e1-c603912da793",
   "metadata": {},
   "outputs": [],
   "source": [
    "from raking.raking_methods import raking_chi2"
   ]
  },
  {
   "cell_type": "code",
   "execution_count": 8,
   "id": "bcdcb6bf-ddef-472f-9d42-41c72c85d2f2",
   "metadata": {},
   "outputs": [],
   "source": [
    "(beta_0, lambda_k) = raking_chi2(mean, A, s)"
   ]
  },
  {
   "cell_type": "markdown",
   "id": "34733a53-35ea-43d0-ad77-9a3ae45b386f",
   "metadata": {},
   "source": [
    "We can verify that the solution of the raking problem verify the constraints:\n",
    "\n",
    "$A \\beta_0 = s$"
   ]
  },
  {
   "cell_type": "code",
   "execution_count": 9,
   "id": "9930847f-c8e4-4337-adb5-693644749e59",
   "metadata": {},
   "outputs": [
    {
     "data": {
      "text/plain": [
       "True"
      ]
     },
     "execution_count": 9,
     "metadata": {},
     "output_type": "execute_result"
    }
   ],
   "source": [
    "np.allclose(np.matmul(A, beta_0), s)"
   ]
  },
  {
   "cell_type": "markdown",
   "id": "fbbfa4dd-8fda-4895-87dd-6fea471b2f8f",
   "metadata": {},
   "source": [
    "We store the results into a dataframe for plotting."
   ]
  },
  {
   "cell_type": "code",
   "execution_count": 10,
   "id": "a5ad4fc9-c6cd-4852-a7c7-032e7d6e045e",
   "metadata": {},
   "outputs": [],
   "source": [
    "df_raked = pd.DataFrame({'X1': x1, \\\n",
    "                         'X2': x2, \\\n",
    "                         'observations': mean, \\\n",
    "                         'raked_values': beta_0})"
   ]
  },
  {
   "cell_type": "markdown",
   "id": "60001bd2-0b08-4030-a071-600e1df280ee",
   "metadata": {},
   "source": [
    "## Propagate the uncertainties using Delta method and IFT\n",
    "\n",
    "We start by computing the gradient of the raked values with respect to the observations $y$: $\\frac{\\partial \\beta}{\\partial y}$ and the gradient of the raked values with respect to the margins $s$: $\\frac{\\partial \\beta}{\\partial s}$ using the Implicit Function Theorem."
   ]
  },
  {
   "cell_type": "code",
   "execution_count": 11,
   "id": "b6a99251-35d6-4eca-aeb0-a571c62e126b",
   "metadata": {},
   "outputs": [],
   "source": [
    "from raking.uncertainty_methods import compute_gradient"
   ]
  },
  {
   "cell_type": "code",
   "execution_count": 12,
   "id": "2b31d9a6-755e-4071-8412-d6b4ee9bb502",
   "metadata": {},
   "outputs": [],
   "source": [
    "(Dphi_y, Dphi_s) = compute_gradient(beta_0, lambda_k, mean, A, 'chi2')"
   ]
  },
  {
   "cell_type": "markdown",
   "id": "f84d8984-37f7-4fed-87ca-6a96fb46c2f2",
   "metadata": {},
   "source": [
    "We store the results into a dataframe for plotting."
   ]
  },
  {
   "cell_type": "code",
   "execution_count": 13,
   "id": "9af1b4a1-0cec-4518-8d09-9ae39cfd0049",
   "metadata": {},
   "outputs": [],
   "source": [
    "df_y = []\n",
    "df_s = []\n",
    "for i in range(0, 15):\n",
    "    df_y.append(pd.DataFrame({'raked_1': np.repeat(x1[i], 15), \\\n",
    "                              'raked_2': np.repeat(x2[i], 15), \\\n",
    "                              'X1': x1, \\\n",
    "                              'X2': x2, \\\n",
    "                              'grad_y': Dphi_y[i, :]}))\n",
    "    df_s.append(pd.DataFrame({'raked_1': np.repeat(x1[i], 7), \\\n",
    "                              'raked_2': np.repeat(x2[i], 7), \\\n",
    "                              'margins': margins, \\\n",
    "                              'grad_s': Dphi_s[i, :]}))\n",
    "df_y = pd.concat(df_y)\n",
    "df_s = pd.concat(df_s)"
   ]
  },
  {
   "cell_type": "markdown",
   "id": "92f2f1fc-973f-4307-a533-7405b6f37f42",
   "metadata": {},
   "source": [
    "Then we compute the covariance matrix of the raked values using the Delta method."
   ]
  },
  {
   "cell_type": "code",
   "execution_count": 14,
   "id": "8d6166d0-2a71-4f62-9df6-d2163e75c2a2",
   "metadata": {},
   "outputs": [],
   "source": [
    "from raking.uncertainty_methods import compute_covariance"
   ]
  },
  {
   "cell_type": "code",
   "execution_count": 15,
   "id": "a55a044b-398c-4528-affe-7c0072684b77",
   "metadata": {},
   "outputs": [],
   "source": [
    "covariance_0 = compute_covariance(Dphi_y, Dphi_s, cov, np.zeros((7, 7)), np.zeros((15, 7)))"
   ]
  },
  {
   "cell_type": "markdown",
   "id": "388655ae-7803-4079-824a-560132ba7285",
   "metadata": {},
   "source": [
    "## Monte Carlo simulation"
   ]
  },
  {
   "cell_type": "code",
   "execution_count": 18,
   "id": "28f88d1b-25f9-43db-843a-fa4a61adecb7",
   "metadata": {},
   "outputs": [],
   "source": [
    "betas = []\n",
    "mean_samples = []\n",
    "covariance_samples = []"
   ]
  },
  {
   "cell_type": "code",
   "execution_count": 19,
   "id": "6f194f45-4b8c-4fb2-b19f-2bb6ecabe8d3",
   "metadata": {},
   "outputs": [],
   "source": [
    "for (N, y) in zip(Ns, ys):\n",
    "    # We first apply the raking procedure to each sample\n",
    "    beta = np.zeros((N, 15))\n",
    "    for n in range(0, N):\n",
    "        y_n = y[n, :]\n",
    "        (beta_n, lambda_k) = raking_chi2(y_n, A, s)\n",
    "        beta[n, :] = beta_n\n",
    "    betas.append(beta)\n",
    "    # We compute the mean of the raked values\n",
    "    mean_sample = np.mean(beta, 0)\n",
    "    mean_samples.append(mean_sample)\n",
    "    # We compute the covariance of the raked values\n",
    "    covariance_sample = np.matmul(np.transpose(beta - mean_sample), beta - mean_sample) / (N - 1)\n",
    "    covariance_samples.append(covariance_sample)"
   ]
  },
  {
   "cell_type": "markdown",
   "id": "59ef1e90-507e-4af2-989d-1ccf61a6626c",
   "metadata": {},
   "source": [
    "We also want to verify how well the delta method and the Monte Carlo simulation approximate the expectancy and the covariance of the raked values. We assume that if we do 1000000 simulations, we approximate well the true solution. We first generate 1000000 samples."
   ]
  },
  {
   "cell_type": "code",
   "execution_count": 20,
   "id": "c5833b43-c145-401e-bef2-c30f5931fdb7",
   "metadata": {},
   "outputs": [],
   "source": [
    "y_ref = rng.multivariate_normal(mean, cov, 1000000)"
   ]
  },
  {
   "cell_type": "markdown",
   "id": "f5e0372a-56d3-48df-85b6-8000bcb99a1b",
   "metadata": {},
   "source": [
    "We then apply the raking procedure to each sample."
   ]
  },
  {
   "cell_type": "code",
   "execution_count": 21,
   "id": "5149c611-df91-40ad-942e-b70de66e10ac",
   "metadata": {},
   "outputs": [],
   "source": [
    "beta_ref = np.zeros((1000000, 15))\n",
    "for n in range(0, 1000000):\n",
    "    y_ref_n = y_ref[n, :]\n",
    "    (beta_ref_n, lambda_k) = raking_chi2(y_ref_n, A, s)\n",
    "    beta_ref[n, :] = beta_ref_n"
   ]
  },
  {
   "cell_type": "markdown",
   "id": "28505082-b483-48e3-939a-084e869b554d",
   "metadata": {},
   "source": [
    "We compute the mean of the raked values."
   ]
  },
  {
   "cell_type": "code",
   "execution_count": 22,
   "id": "10f46a35-5894-46c2-a0db-65d63c4672ba",
   "metadata": {},
   "outputs": [],
   "source": [
    "mean_ref = np.mean(beta_ref, 0)"
   ]
  },
  {
   "cell_type": "markdown",
   "id": "f470761b-cb8a-46fe-b9f3-b5c2e7431734",
   "metadata": {},
   "source": [
    "We compute the cobariance of the raked values."
   ]
  },
  {
   "cell_type": "code",
   "execution_count": 23,
   "id": "3ef43643-62e7-4596-9add-ca48e67d4e76",
   "metadata": {},
   "outputs": [],
   "source": [
    "covariance_ref = np.matmul(np.transpose(beta_ref - mean_ref), beta_ref - mean_ref) / (1000000 - 1)"
   ]
  },
  {
   "cell_type": "markdown",
   "id": "c4145845-4be9-4134-ba91-5aa7d731feee",
   "metadata": {},
   "source": [
    "## Plots"
   ]
  },
  {
   "cell_type": "markdown",
   "id": "99edded8-4383-405c-a06b-349ca69f7f6c",
   "metadata": {},
   "source": [
    "We gather initial values and corresponding raked values, with their associated variances."
   ]
  },
  {
   "cell_type": "code",
   "execution_count": 24,
   "id": "49ff5b81-86e0-48fb-92f3-084178cd1c52",
   "metadata": {},
   "outputs": [],
   "source": [
    "initial = pd.DataFrame({'X1': x1, \\\n",
    "                         'X2': x2, \\\n",
    "                         'variance': np.arange(0.01, 0.16, 0.01)})\n",
    "variance = pd.DataFrame({'X1': x1, \\\n",
    "                         'X2': x2, \\\n",
    "                         'variance': np.diag(covariance_0)})\n",
    "df_obs = df_raked.drop(columns=['raked_values']).rename(columns={'observations': 'Value'})\n",
    "df_obs['Type'] = 'Initial'\n",
    "df_obs['width'] = 1\n",
    "df_obs = df_obs.merge(initial, how='inner', \\\n",
    "    left_on=['X1', 'X2'], \\\n",
    "    right_on=['X1', 'X2'])\n",
    "df_raked = df_raked.drop(columns=['observations']).rename(columns={'raked_values': 'Value'})\n",
    "df_raked['Type'] = 'Raked'\n",
    "df_raked['width'] = 2\n",
    "df_raked = df_raked.merge(variance, how='inner', \\\n",
    "    left_on=['X1', 'X2'], \\\n",
    "    right_on=['X1', 'X2'])\n",
    "df_raked = pd.concat([df_obs, df_raked])\n",
    "df_raked['Upper'] = df_raked['Value'] + np.sqrt(df_raked['variance'])\n",
    "df_raked['Lower'] = df_raked['Value'] - np.sqrt(df_raked['variance'])"
   ]
  },
  {
   "cell_type": "markdown",
   "id": "288f8b3a-0c42-4928-84b8-736291a77289",
   "metadata": {},
   "source": [
    "We plot initial values and raked values with their uncertainties (plus or minus the standard deviation)."
   ]
  },
  {
   "cell_type": "code",
   "execution_count": 25,
   "id": "121b74cd-7709-44fd-aed6-08314cbc6518",
   "metadata": {},
   "outputs": [
    {
     "data": {
      "text/html": [
       "\n",
       "<style>\n",
       "  #altair-viz-9b9298c8b1bf4ed1b2564c62d6fdef7f.vega-embed {\n",
       "    width: 100%;\n",
       "    display: flex;\n",
       "  }\n",
       "\n",
       "  #altair-viz-9b9298c8b1bf4ed1b2564c62d6fdef7f.vega-embed details,\n",
       "  #altair-viz-9b9298c8b1bf4ed1b2564c62d6fdef7f.vega-embed details summary {\n",
       "    position: relative;\n",
       "  }\n",
       "</style>\n",
       "<div id=\"altair-viz-9b9298c8b1bf4ed1b2564c62d6fdef7f\"></div>\n",
       "<script type=\"text/javascript\">\n",
       "  var VEGA_DEBUG = (typeof VEGA_DEBUG == \"undefined\") ? {} : VEGA_DEBUG;\n",
       "  (function(spec, embedOpt){\n",
       "    let outputDiv = document.currentScript.previousElementSibling;\n",
       "    if (outputDiv.id !== \"altair-viz-9b9298c8b1bf4ed1b2564c62d6fdef7f\") {\n",
       "      outputDiv = document.getElementById(\"altair-viz-9b9298c8b1bf4ed1b2564c62d6fdef7f\");\n",
       "    }\n",
       "\n",
       "    const paths = {\n",
       "      \"vega\": \"https://cdn.jsdelivr.net/npm/vega@5?noext\",\n",
       "      \"vega-lib\": \"https://cdn.jsdelivr.net/npm/vega-lib?noext\",\n",
       "      \"vega-lite\": \"https://cdn.jsdelivr.net/npm/vega-lite@5.20.1?noext\",\n",
       "      \"vega-embed\": \"https://cdn.jsdelivr.net/npm/vega-embed@6?noext\",\n",
       "    };\n",
       "\n",
       "    function maybeLoadScript(lib, version) {\n",
       "      var key = `${lib.replace(\"-\", \"\")}_version`;\n",
       "      return (VEGA_DEBUG[key] == version) ?\n",
       "        Promise.resolve(paths[lib]) :\n",
       "        new Promise(function(resolve, reject) {\n",
       "          var s = document.createElement('script');\n",
       "          document.getElementsByTagName(\"head\")[0].appendChild(s);\n",
       "          s.async = true;\n",
       "          s.onload = () => {\n",
       "            VEGA_DEBUG[key] = version;\n",
       "            return resolve(paths[lib]);\n",
       "          };\n",
       "          s.onerror = () => reject(`Error loading script: ${paths[lib]}`);\n",
       "          s.src = paths[lib];\n",
       "        });\n",
       "    }\n",
       "\n",
       "    function showError(err) {\n",
       "      outputDiv.innerHTML = `<div class=\"error\" style=\"color:red;\">${err}</div>`;\n",
       "      throw err;\n",
       "    }\n",
       "\n",
       "    function displayChart(vegaEmbed) {\n",
       "      vegaEmbed(outputDiv, spec, embedOpt)\n",
       "        .catch(err => showError(`Javascript Error: ${err.message}<br>This usually means there's a typo in your chart specification. See the javascript console for the full traceback.`));\n",
       "    }\n",
       "\n",
       "    if(typeof define === \"function\" && define.amd) {\n",
       "      requirejs.config({paths});\n",
       "      let deps = [\"vega-embed\"];\n",
       "      require(deps, displayChart, err => showError(`Error loading script: ${err.message}`));\n",
       "    } else {\n",
       "      maybeLoadScript(\"vega\", \"5\")\n",
       "        .then(() => maybeLoadScript(\"vega-lite\", \"5.20.1\"))\n",
       "        .then(() => maybeLoadScript(\"vega-embed\", \"6\"))\n",
       "        .catch(showError)\n",
       "        .then(() => displayChart(vegaEmbed));\n",
       "    }\n",
       "  })({\"config\": {\"view\": {\"continuousWidth\": 300, \"continuousHeight\": 300}, \"axis\": {\"labelFontSize\": 24, \"titleFontSize\": 24}, \"legend\": {\"labelFontSize\": 24, \"titleFontSize\": 24}}, \"data\": {\"name\": \"data-87688b60c08d475708ca8cb0a3745b12\"}, \"facet\": {\"column\": {\"field\": \"X2\", \"header\": {\"labelFontSize\": 24, \"title\": \"X2\", \"titleFontSize\": 24}, \"type\": \"nominal\"}}, \"spec\": {\"layer\": [{\"mark\": {\"type\": \"point\", \"filled\": true}, \"encoding\": {\"color\": {\"field\": \"Type\", \"type\": \"nominal\"}, \"shape\": {\"field\": \"Type\", \"type\": \"nominal\"}, \"x\": {\"field\": \"Value\", \"type\": \"quantitative\"}, \"y\": {\"field\": \"X1\", \"type\": \"nominal\"}}}, {\"mark\": {\"type\": \"errorbar\", \"clip\": true, \"opacity\": 0.5}, \"encoding\": {\"color\": {\"field\": \"Type\", \"legend\": null, \"type\": \"nominal\"}, \"strokeWidth\": {\"field\": \"width\", \"legend\": null, \"type\": \"quantitative\"}, \"x\": {\"axis\": {\"title\": \"Raked value\"}, \"field\": \"Upper\", \"scale\": {\"zero\": false}, \"type\": \"quantitative\"}, \"x2\": {\"field\": \"Lower\"}, \"y\": {\"axis\": {\"title\": \"X1\"}, \"field\": \"X1\", \"type\": \"nominal\"}}}], \"resolve\": {\"scale\": {\"color\": \"independent\", \"shape\": \"independent\"}}}, \"$schema\": \"https://vega.github.io/schema/vega-lite/v5.20.1.json\", \"datasets\": {\"data-87688b60c08d475708ca8cb0a3745b12\": [{\"X1\": 1, \"X2\": 1, \"Value\": 2.5637349518511092, \"Type\": \"Initial\", \"width\": 1, \"variance\": 0.01, \"Upper\": 2.6637349518511093, \"Lower\": 2.463734951851109}, {\"X1\": 2, \"X2\": 1, \"Value\": 2.858329678991991, \"Type\": \"Initial\", \"width\": 1, \"variance\": 0.02, \"Upper\": 2.9997510352293006, \"Lower\": 2.7169083227546813}, {\"X1\": 3, \"X2\": 1, \"Value\": 2.784223538484617, \"Type\": \"Initial\", \"width\": 1, \"variance\": 0.03, \"Upper\": 2.9574286192415045, \"Lower\": 2.611018457727729}, {\"X1\": 1, \"X2\": 2, \"Value\": 2.3109497674012833, \"Type\": \"Initial\", \"width\": 1, \"variance\": 0.04, \"Upper\": 2.5109497674012835, \"Lower\": 2.110949767401283}, {\"X1\": 2, \"X2\": 2, \"Value\": 2.7108871127114478, \"Type\": \"Initial\", \"width\": 1, \"variance\": 0.05, \"Upper\": 2.934493910461427, \"Lower\": 2.4872803149614686}, {\"X1\": 3, \"X2\": 2, \"Value\": 1.9898850338757446, \"Type\": \"Initial\", \"width\": 1, \"variance\": 0.06, \"Upper\": 2.2348340081540625, \"Lower\": 1.7449360595974268}, {\"X1\": 1, \"X2\": 3, \"Value\": 2.177619870991163, \"Type\": \"Initial\", \"width\": 1, \"variance\": 0.07, \"Upper\": 2.4421950020976224, \"Lower\": 1.9130447398847041}, {\"X1\": 2, \"X2\": 3, \"Value\": 2.662977093635337, \"Type\": \"Initial\", \"width\": 1, \"variance\": 0.08, \"Upper\": 2.945819806109956, \"Lower\": 2.380134381160718}, {\"X1\": 3, \"X2\": 3, \"Value\": 2.8925552835968715, \"Type\": \"Initial\", \"width\": 1, \"variance\": 0.09, \"Upper\": 3.1925552835968714, \"Lower\": 2.5925552835968717}, {\"X1\": 1, \"X2\": 4, \"Value\": 2.10687465369371, \"Type\": \"Initial\", \"width\": 1, \"variance\": 0.1, \"Upper\": 2.423102419710548, \"Lower\": 1.7906468876768722}, {\"X1\": 2, \"X2\": 4, \"Value\": 2.5530262212415105, \"Type\": \"Initial\", \"width\": 1, \"variance\": 0.11, \"Upper\": 2.8846887002770503, \"Lower\": 2.2213637422059707}, {\"X1\": 3, \"X2\": 4, \"Value\": 1.9592356503700832, \"Type\": \"Initial\", \"width\": 1, \"variance\": 0.12, \"Upper\": 2.3056458118838585, \"Lower\": 1.6128254888563078}, {\"X1\": 1, \"X2\": 5, \"Value\": 2.7210977015744304, \"Type\": \"Initial\", \"width\": 1, \"variance\": 0.13, \"Upper\": 3.0816528291208294, \"Lower\": 2.3605425740280315}, {\"X1\": 2, \"X2\": 5, \"Value\": 2.8892998412210344, \"Type\": \"Initial\", \"width\": 1, \"variance\": 0.14, \"Upper\": 3.2634655798984284, \"Lower\": 2.5151341025436404}, {\"X1\": 3, \"X2\": 5, \"Value\": 2.751674958776949, \"Type\": \"Initial\", \"width\": 1, \"variance\": 0.15, \"Upper\": 3.1389732933976906, \"Lower\": 2.364376624156207}, {\"X1\": 1, \"X2\": 1, \"Value\": 2.58994150818443, \"Type\": \"Raked\", \"width\": 2, \"variance\": 0.011745743564998565, \"Upper\": 2.698319289878828, \"Lower\": 2.481563726490032}, {\"X1\": 2, \"X2\": 1, \"Value\": 2.9252081543638564, \"Type\": \"Raked\", \"width\": 2, \"variance\": 0.014746800743295882, \"Upper\": 3.046644560533077, \"Lower\": 2.803771748194636}, {\"X1\": 3, \"X2\": 1, \"Value\": 2.850422220872039, \"Type\": \"Raked\", \"width\": 2, \"variance\": 0.01822722574173685, \"Upper\": 2.985430464108283, \"Lower\": 2.715413977635795}, {\"X1\": 1, \"X2\": 2, \"Value\": 2.2465984277484936, \"Type\": \"Raked\", \"width\": 2, \"variance\": 0.021545077977265157, \"Upper\": 2.393380844874201, \"Lower\": 2.0998160106227863}, {\"X1\": 2, \"X2\": 2, \"Value\": 2.671116910733625, \"Type\": \"Raked\", \"width\": 2, \"variance\": 0.024796509571526314, \"Upper\": 2.8285859857024147, \"Lower\": 2.5136478357648353}, {\"X1\": 3, \"X2\": 2, \"Value\": 1.961445710589925, \"Type\": \"Raked\", \"width\": 2, \"variance\": 0.027529493612554138, \"Upper\": 2.127365852864919, \"Lower\": 1.7955255683149314}, {\"X1\": 1, \"X2\": 3, \"Value\": 2.1270534805896344, \"Type\": \"Raked\", \"width\": 2, \"variance\": 0.033377022150674826, \"Upper\": 2.309747274000015, \"Lower\": 1.944359687179254}, {\"X1\": 2, \"X2\": 3, \"Value\": 2.6362269032692587, \"Type\": \"Raked\", \"width\": 2, \"variance\": 0.036860861600944914, \"Upper\": 2.828218730181096, \"Lower\": 2.444235076357421}, {\"X1\": 3, \"X2\": 3, \"Value\": 2.8645940686494846, \"Type\": \"Raked\", \"width\": 2, \"variance\": 0.03953187402760226, \"Upper\": 3.063420309441796, \"Lower\": 2.6657678278571733}, {\"X1\": 1, \"X2\": 4, \"Value\": 2.0796305661910894, \"Type\": \"Raked\", \"width\": 2, \"variance\": 0.046833908551462675, \"Upper\": 2.2960419996955665, \"Lower\": 1.8632191326866123}, {\"X1\": 2, \"X2\": 4, \"Value\": 2.553650899259654, \"Type\": \"Raked\", \"width\": 2, \"variance\": 0.0507227580231168, \"Upper\": 2.7788680345382932, \"Lower\": 2.328433763981015}, {\"X1\": 3, \"X2\": 4, \"Value\": 1.960456817271945, \"Type\": \"Raked\", \"width\": 2, \"variance\": 0.054500208854164074, \"Upper\": 2.1939096151865645, \"Lower\": 1.7270040193573257}, {\"X1\": 1, \"X2\": 5, \"Value\": 2.7342958628869063, \"Type\": \"Raked\", \"width\": 2, \"variance\": 0.057423682631482405, \"Upper\": 2.9739282535011187, \"Lower\": 2.494663472272694}, {\"X1\": 2, \"X2\": 5, \"Value\": 2.9413824541233926, \"Type\": \"Raked\", \"width\": 2, \"variance\": 0.06180801062350869, \"Upper\": 3.1899946232211835, \"Lower\": 2.6927702850256017}, {\"X1\": 3, \"X2\": 5, \"Value\": 2.8023185417452017, \"Type\": \"Raked\", \"width\": 2, \"variance\": 0.06418546355696782, \"Upper\": 3.0556670439254354, \"Lower\": 2.548970039564968}]}}, {\"mode\": \"vega-lite\"});\n",
       "</script>"
      ],
      "text/plain": [
       "alt.FacetChart(...)"
      ]
     },
     "execution_count": 25,
     "metadata": {},
     "output_type": "execute_result"
    }
   ],
   "source": [
    "bar = alt.Chart(df_raked).mark_errorbar(clip=True, opacity=0.5).encode(\n",
    "    alt.X('Upper:Q', scale=alt.Scale(zero=False), axis=alt.Axis(title='Raked value')),\n",
    "    alt.X2('Lower:Q'),\n",
    "    alt.Y('X1:N', axis=alt.Axis(title='X1')),\n",
    "    color=alt.Color('Type:N', legend=None),\n",
    "    strokeWidth=alt.StrokeWidth('width:Q', legend=None)\n",
    ")\n",
    "point = alt.Chart(df_raked).mark_point(\n",
    "    filled=True\n",
    ").encode(\n",
    "    alt.X('Value:Q'),\n",
    "    alt.Y('X1:N'),\n",
    "    color=alt.Color('Type:N'),\n",
    "    shape=alt.Shape('Type:N')\n",
    ")\n",
    "chart = alt.layer(point, bar).resolve_scale(\n",
    "    shape='independent',\n",
    "    color='independent'\n",
    ").facet(\n",
    "    column=alt.Column('X2:N', header=alt.Header(title='X2', titleFontSize=24, labelFontSize=24)),\n",
    ").configure_axis(\n",
    "    labelFontSize=24,\n",
    "    titleFontSize=24\n",
    ").configure_legend(\n",
    "    labelFontSize=24,\n",
    "    titleFontSize=24\n",
    ")\n",
    "chart"
   ]
  },
  {
   "cell_type": "code",
   "execution_count": 26,
   "id": "02081e9f-d2bf-4e73-b470-72d465a2a46a",
   "metadata": {},
   "outputs": [],
   "source": [
    "#chart.save('synthetics_raked_values_1.svg')"
   ]
  },
  {
   "cell_type": "code",
   "execution_count": 27,
   "id": "f48d13da-24a3-41c7-ae7a-9ff5e4634944",
   "metadata": {},
   "outputs": [
    {
     "data": {
      "text/html": [
       "\n",
       "<style>\n",
       "  #altair-viz-f57fb270f8f144a6a9c5504605ad8fa5.vega-embed {\n",
       "    width: 100%;\n",
       "    display: flex;\n",
       "  }\n",
       "\n",
       "  #altair-viz-f57fb270f8f144a6a9c5504605ad8fa5.vega-embed details,\n",
       "  #altair-viz-f57fb270f8f144a6a9c5504605ad8fa5.vega-embed details summary {\n",
       "    position: relative;\n",
       "  }\n",
       "</style>\n",
       "<div id=\"altair-viz-f57fb270f8f144a6a9c5504605ad8fa5\"></div>\n",
       "<script type=\"text/javascript\">\n",
       "  var VEGA_DEBUG = (typeof VEGA_DEBUG == \"undefined\") ? {} : VEGA_DEBUG;\n",
       "  (function(spec, embedOpt){\n",
       "    let outputDiv = document.currentScript.previousElementSibling;\n",
       "    if (outputDiv.id !== \"altair-viz-f57fb270f8f144a6a9c5504605ad8fa5\") {\n",
       "      outputDiv = document.getElementById(\"altair-viz-f57fb270f8f144a6a9c5504605ad8fa5\");\n",
       "    }\n",
       "\n",
       "    const paths = {\n",
       "      \"vega\": \"https://cdn.jsdelivr.net/npm/vega@5?noext\",\n",
       "      \"vega-lib\": \"https://cdn.jsdelivr.net/npm/vega-lib?noext\",\n",
       "      \"vega-lite\": \"https://cdn.jsdelivr.net/npm/vega-lite@5.20.1?noext\",\n",
       "      \"vega-embed\": \"https://cdn.jsdelivr.net/npm/vega-embed@6?noext\",\n",
       "    };\n",
       "\n",
       "    function maybeLoadScript(lib, version) {\n",
       "      var key = `${lib.replace(\"-\", \"\")}_version`;\n",
       "      return (VEGA_DEBUG[key] == version) ?\n",
       "        Promise.resolve(paths[lib]) :\n",
       "        new Promise(function(resolve, reject) {\n",
       "          var s = document.createElement('script');\n",
       "          document.getElementsByTagName(\"head\")[0].appendChild(s);\n",
       "          s.async = true;\n",
       "          s.onload = () => {\n",
       "            VEGA_DEBUG[key] = version;\n",
       "            return resolve(paths[lib]);\n",
       "          };\n",
       "          s.onerror = () => reject(`Error loading script: ${paths[lib]}`);\n",
       "          s.src = paths[lib];\n",
       "        });\n",
       "    }\n",
       "\n",
       "    function showError(err) {\n",
       "      outputDiv.innerHTML = `<div class=\"error\" style=\"color:red;\">${err}</div>`;\n",
       "      throw err;\n",
       "    }\n",
       "\n",
       "    function displayChart(vegaEmbed) {\n",
       "      vegaEmbed(outputDiv, spec, embedOpt)\n",
       "        .catch(err => showError(`Javascript Error: ${err.message}<br>This usually means there's a typo in your chart specification. See the javascript console for the full traceback.`));\n",
       "    }\n",
       "\n",
       "    if(typeof define === \"function\" && define.amd) {\n",
       "      requirejs.config({paths});\n",
       "      let deps = [\"vega-embed\"];\n",
       "      require(deps, displayChart, err => showError(`Error loading script: ${err.message}`));\n",
       "    } else {\n",
       "      maybeLoadScript(\"vega\", \"5\")\n",
       "        .then(() => maybeLoadScript(\"vega-lite\", \"5.20.1\"))\n",
       "        .then(() => maybeLoadScript(\"vega-embed\", \"6\"))\n",
       "        .catch(showError)\n",
       "        .then(() => displayChart(vegaEmbed));\n",
       "    }\n",
       "  })({\"config\": {\"view\": {\"continuousWidth\": 300, \"continuousHeight\": 300}, \"axis\": {\"labelFontSize\": 24, \"titleFontSize\": 24}, \"legend\": {\"labelFontSize\": 24, \"titleFontSize\": 24}}, \"data\": {\"name\": \"data-87688b60c08d475708ca8cb0a3745b12\"}, \"facet\": {\"column\": {\"field\": \"X1\", \"header\": {\"labelFontSize\": 24, \"title\": \"X1\", \"titleFontSize\": 24}, \"type\": \"nominal\"}}, \"spec\": {\"layer\": [{\"mark\": {\"type\": \"point\", \"filled\": true}, \"encoding\": {\"color\": {\"field\": \"Type\", \"type\": \"nominal\"}, \"shape\": {\"field\": \"Type\", \"type\": \"nominal\"}, \"x\": {\"field\": \"Value\", \"type\": \"quantitative\"}, \"y\": {\"field\": \"X2\", \"type\": \"nominal\"}}}, {\"mark\": {\"type\": \"errorbar\", \"clip\": true, \"opacity\": 0.5}, \"encoding\": {\"color\": {\"field\": \"Type\", \"legend\": null, \"type\": \"nominal\"}, \"strokeWidth\": {\"field\": \"width\", \"legend\": null, \"type\": \"quantitative\"}, \"x\": {\"axis\": {\"title\": \"Raked value\"}, \"field\": \"Upper\", \"scale\": {\"zero\": false}, \"type\": \"quantitative\"}, \"x2\": {\"field\": \"Lower\"}, \"y\": {\"axis\": {\"title\": \"X2\"}, \"field\": \"X2\", \"type\": \"nominal\"}}}], \"resolve\": {\"scale\": {\"color\": \"independent\", \"shape\": \"independent\"}}}, \"$schema\": \"https://vega.github.io/schema/vega-lite/v5.20.1.json\", \"datasets\": {\"data-87688b60c08d475708ca8cb0a3745b12\": [{\"X1\": 1, \"X2\": 1, \"Value\": 2.5637349518511092, \"Type\": \"Initial\", \"width\": 1, \"variance\": 0.01, \"Upper\": 2.6637349518511093, \"Lower\": 2.463734951851109}, {\"X1\": 2, \"X2\": 1, \"Value\": 2.858329678991991, \"Type\": \"Initial\", \"width\": 1, \"variance\": 0.02, \"Upper\": 2.9997510352293006, \"Lower\": 2.7169083227546813}, {\"X1\": 3, \"X2\": 1, \"Value\": 2.784223538484617, \"Type\": \"Initial\", \"width\": 1, \"variance\": 0.03, \"Upper\": 2.9574286192415045, \"Lower\": 2.611018457727729}, {\"X1\": 1, \"X2\": 2, \"Value\": 2.3109497674012833, \"Type\": \"Initial\", \"width\": 1, \"variance\": 0.04, \"Upper\": 2.5109497674012835, \"Lower\": 2.110949767401283}, {\"X1\": 2, \"X2\": 2, \"Value\": 2.7108871127114478, \"Type\": \"Initial\", \"width\": 1, \"variance\": 0.05, \"Upper\": 2.934493910461427, \"Lower\": 2.4872803149614686}, {\"X1\": 3, \"X2\": 2, \"Value\": 1.9898850338757446, \"Type\": \"Initial\", \"width\": 1, \"variance\": 0.06, \"Upper\": 2.2348340081540625, \"Lower\": 1.7449360595974268}, {\"X1\": 1, \"X2\": 3, \"Value\": 2.177619870991163, \"Type\": \"Initial\", \"width\": 1, \"variance\": 0.07, \"Upper\": 2.4421950020976224, \"Lower\": 1.9130447398847041}, {\"X1\": 2, \"X2\": 3, \"Value\": 2.662977093635337, \"Type\": \"Initial\", \"width\": 1, \"variance\": 0.08, \"Upper\": 2.945819806109956, \"Lower\": 2.380134381160718}, {\"X1\": 3, \"X2\": 3, \"Value\": 2.8925552835968715, \"Type\": \"Initial\", \"width\": 1, \"variance\": 0.09, \"Upper\": 3.1925552835968714, \"Lower\": 2.5925552835968717}, {\"X1\": 1, \"X2\": 4, \"Value\": 2.10687465369371, \"Type\": \"Initial\", \"width\": 1, \"variance\": 0.1, \"Upper\": 2.423102419710548, \"Lower\": 1.7906468876768722}, {\"X1\": 2, \"X2\": 4, \"Value\": 2.5530262212415105, \"Type\": \"Initial\", \"width\": 1, \"variance\": 0.11, \"Upper\": 2.8846887002770503, \"Lower\": 2.2213637422059707}, {\"X1\": 3, \"X2\": 4, \"Value\": 1.9592356503700832, \"Type\": \"Initial\", \"width\": 1, \"variance\": 0.12, \"Upper\": 2.3056458118838585, \"Lower\": 1.6128254888563078}, {\"X1\": 1, \"X2\": 5, \"Value\": 2.7210977015744304, \"Type\": \"Initial\", \"width\": 1, \"variance\": 0.13, \"Upper\": 3.0816528291208294, \"Lower\": 2.3605425740280315}, {\"X1\": 2, \"X2\": 5, \"Value\": 2.8892998412210344, \"Type\": \"Initial\", \"width\": 1, \"variance\": 0.14, \"Upper\": 3.2634655798984284, \"Lower\": 2.5151341025436404}, {\"X1\": 3, \"X2\": 5, \"Value\": 2.751674958776949, \"Type\": \"Initial\", \"width\": 1, \"variance\": 0.15, \"Upper\": 3.1389732933976906, \"Lower\": 2.364376624156207}, {\"X1\": 1, \"X2\": 1, \"Value\": 2.58994150818443, \"Type\": \"Raked\", \"width\": 2, \"variance\": 0.011745743564998565, \"Upper\": 2.698319289878828, \"Lower\": 2.481563726490032}, {\"X1\": 2, \"X2\": 1, \"Value\": 2.9252081543638564, \"Type\": \"Raked\", \"width\": 2, \"variance\": 0.014746800743295882, \"Upper\": 3.046644560533077, \"Lower\": 2.803771748194636}, {\"X1\": 3, \"X2\": 1, \"Value\": 2.850422220872039, \"Type\": \"Raked\", \"width\": 2, \"variance\": 0.01822722574173685, \"Upper\": 2.985430464108283, \"Lower\": 2.715413977635795}, {\"X1\": 1, \"X2\": 2, \"Value\": 2.2465984277484936, \"Type\": \"Raked\", \"width\": 2, \"variance\": 0.021545077977265157, \"Upper\": 2.393380844874201, \"Lower\": 2.0998160106227863}, {\"X1\": 2, \"X2\": 2, \"Value\": 2.671116910733625, \"Type\": \"Raked\", \"width\": 2, \"variance\": 0.024796509571526314, \"Upper\": 2.8285859857024147, \"Lower\": 2.5136478357648353}, {\"X1\": 3, \"X2\": 2, \"Value\": 1.961445710589925, \"Type\": \"Raked\", \"width\": 2, \"variance\": 0.027529493612554138, \"Upper\": 2.127365852864919, \"Lower\": 1.7955255683149314}, {\"X1\": 1, \"X2\": 3, \"Value\": 2.1270534805896344, \"Type\": \"Raked\", \"width\": 2, \"variance\": 0.033377022150674826, \"Upper\": 2.309747274000015, \"Lower\": 1.944359687179254}, {\"X1\": 2, \"X2\": 3, \"Value\": 2.6362269032692587, \"Type\": \"Raked\", \"width\": 2, \"variance\": 0.036860861600944914, \"Upper\": 2.828218730181096, \"Lower\": 2.444235076357421}, {\"X1\": 3, \"X2\": 3, \"Value\": 2.8645940686494846, \"Type\": \"Raked\", \"width\": 2, \"variance\": 0.03953187402760226, \"Upper\": 3.063420309441796, \"Lower\": 2.6657678278571733}, {\"X1\": 1, \"X2\": 4, \"Value\": 2.0796305661910894, \"Type\": \"Raked\", \"width\": 2, \"variance\": 0.046833908551462675, \"Upper\": 2.2960419996955665, \"Lower\": 1.8632191326866123}, {\"X1\": 2, \"X2\": 4, \"Value\": 2.553650899259654, \"Type\": \"Raked\", \"width\": 2, \"variance\": 0.0507227580231168, \"Upper\": 2.7788680345382932, \"Lower\": 2.328433763981015}, {\"X1\": 3, \"X2\": 4, \"Value\": 1.960456817271945, \"Type\": \"Raked\", \"width\": 2, \"variance\": 0.054500208854164074, \"Upper\": 2.1939096151865645, \"Lower\": 1.7270040193573257}, {\"X1\": 1, \"X2\": 5, \"Value\": 2.7342958628869063, \"Type\": \"Raked\", \"width\": 2, \"variance\": 0.057423682631482405, \"Upper\": 2.9739282535011187, \"Lower\": 2.494663472272694}, {\"X1\": 2, \"X2\": 5, \"Value\": 2.9413824541233926, \"Type\": \"Raked\", \"width\": 2, \"variance\": 0.06180801062350869, \"Upper\": 3.1899946232211835, \"Lower\": 2.6927702850256017}, {\"X1\": 3, \"X2\": 5, \"Value\": 2.8023185417452017, \"Type\": \"Raked\", \"width\": 2, \"variance\": 0.06418546355696782, \"Upper\": 3.0556670439254354, \"Lower\": 2.548970039564968}]}}, {\"mode\": \"vega-lite\"});\n",
       "</script>"
      ],
      "text/plain": [
       "alt.FacetChart(...)"
      ]
     },
     "execution_count": 27,
     "metadata": {},
     "output_type": "execute_result"
    }
   ],
   "source": [
    "bar = alt.Chart(df_raked).mark_errorbar(clip=True, opacity=0.5).encode(\n",
    "    alt.X('Upper:Q', scale=alt.Scale(zero=False), axis=alt.Axis(title='Raked value')),\n",
    "    alt.X2('Lower:Q'),\n",
    "    alt.Y('X2:N', axis=alt.Axis(title='X2')),\n",
    "    color=alt.Color('Type:N', legend=None),\n",
    "    strokeWidth=alt.StrokeWidth('width:Q', legend=None)\n",
    ")\n",
    "point = alt.Chart(df_raked).mark_point(\n",
    "    filled=True\n",
    ").encode(\n",
    "    alt.X('Value:Q'),\n",
    "    alt.Y('X2:N'),\n",
    "    color=alt.Color('Type:N'),\n",
    "    shape=alt.Shape('Type:N')\n",
    ")\n",
    "chart = alt.layer(point, bar).resolve_scale(\n",
    "    shape='independent',\n",
    "    color='independent'\n",
    ").facet(\n",
    "    column=alt.Column('X1:N', header=alt.Header(title='X1', titleFontSize=24, labelFontSize=24)),\n",
    ").configure_axis(\n",
    "    labelFontSize=24,\n",
    "    titleFontSize=24\n",
    ").configure_legend(\n",
    "    labelFontSize=24,\n",
    "    titleFontSize=24\n",
    ")\n",
    "chart"
   ]
  },
  {
   "cell_type": "code",
   "execution_count": 28,
   "id": "f9ab02a6-3439-40bc-a863-d468872053ec",
   "metadata": {},
   "outputs": [],
   "source": [
    "#chart.save('synthetics_raked_values_2.svg')"
   ]
  },
  {
   "cell_type": "markdown",
   "id": "14c31498-e48d-46f8-9b07-3f13a72fa666",
   "metadata": {},
   "source": [
    "Now we take one observation ($X_1 = 3$ and $X_2 = 4$) and we look at how it will influence the raked values."
   ]
  },
  {
   "cell_type": "code",
   "execution_count": 29,
   "id": "43c9632f-ad59-4793-9837-063822d1288c",
   "metadata": {},
   "outputs": [
    {
     "data": {
      "text/html": [
       "\n",
       "<style>\n",
       "  #altair-viz-d6b604ac330f4d0f816e45adee4a78bc.vega-embed {\n",
       "    width: 100%;\n",
       "    display: flex;\n",
       "  }\n",
       "\n",
       "  #altair-viz-d6b604ac330f4d0f816e45adee4a78bc.vega-embed details,\n",
       "  #altair-viz-d6b604ac330f4d0f816e45adee4a78bc.vega-embed details summary {\n",
       "    position: relative;\n",
       "  }\n",
       "</style>\n",
       "<div id=\"altair-viz-d6b604ac330f4d0f816e45adee4a78bc\"></div>\n",
       "<script type=\"text/javascript\">\n",
       "  var VEGA_DEBUG = (typeof VEGA_DEBUG == \"undefined\") ? {} : VEGA_DEBUG;\n",
       "  (function(spec, embedOpt){\n",
       "    let outputDiv = document.currentScript.previousElementSibling;\n",
       "    if (outputDiv.id !== \"altair-viz-d6b604ac330f4d0f816e45adee4a78bc\") {\n",
       "      outputDiv = document.getElementById(\"altair-viz-d6b604ac330f4d0f816e45adee4a78bc\");\n",
       "    }\n",
       "\n",
       "    const paths = {\n",
       "      \"vega\": \"https://cdn.jsdelivr.net/npm/vega@5?noext\",\n",
       "      \"vega-lib\": \"https://cdn.jsdelivr.net/npm/vega-lib?noext\",\n",
       "      \"vega-lite\": \"https://cdn.jsdelivr.net/npm/vega-lite@5.20.1?noext\",\n",
       "      \"vega-embed\": \"https://cdn.jsdelivr.net/npm/vega-embed@6?noext\",\n",
       "    };\n",
       "\n",
       "    function maybeLoadScript(lib, version) {\n",
       "      var key = `${lib.replace(\"-\", \"\")}_version`;\n",
       "      return (VEGA_DEBUG[key] == version) ?\n",
       "        Promise.resolve(paths[lib]) :\n",
       "        new Promise(function(resolve, reject) {\n",
       "          var s = document.createElement('script');\n",
       "          document.getElementsByTagName(\"head\")[0].appendChild(s);\n",
       "          s.async = true;\n",
       "          s.onload = () => {\n",
       "            VEGA_DEBUG[key] = version;\n",
       "            return resolve(paths[lib]);\n",
       "          };\n",
       "          s.onerror = () => reject(`Error loading script: ${paths[lib]}`);\n",
       "          s.src = paths[lib];\n",
       "        });\n",
       "    }\n",
       "\n",
       "    function showError(err) {\n",
       "      outputDiv.innerHTML = `<div class=\"error\" style=\"color:red;\">${err}</div>`;\n",
       "      throw err;\n",
       "    }\n",
       "\n",
       "    function displayChart(vegaEmbed) {\n",
       "      vegaEmbed(outputDiv, spec, embedOpt)\n",
       "        .catch(err => showError(`Javascript Error: ${err.message}<br>This usually means there's a typo in your chart specification. See the javascript console for the full traceback.`));\n",
       "    }\n",
       "\n",
       "    if(typeof define === \"function\" && define.amd) {\n",
       "      requirejs.config({paths});\n",
       "      let deps = [\"vega-embed\"];\n",
       "      require(deps, displayChart, err => showError(`Error loading script: ${err.message}`));\n",
       "    } else {\n",
       "      maybeLoadScript(\"vega\", \"5\")\n",
       "        .then(() => maybeLoadScript(\"vega-lite\", \"5.20.1\"))\n",
       "        .then(() => maybeLoadScript(\"vega-embed\", \"6\"))\n",
       "        .catch(showError)\n",
       "        .then(() => displayChart(vegaEmbed));\n",
       "    }\n",
       "  })({\"config\": {\"view\": {\"continuousWidth\": 300, \"continuousHeight\": 300}, \"axis\": {\"labelFontSize\": 12, \"titleFontSize\": 12}, \"legend\": {\"labelFontSize\": 10, \"titleFontSize\": 10}, \"title\": {\"fontSize\": 12}}, \"layer\": [{\"mark\": {\"type\": \"rect\"}, \"encoding\": {\"color\": {\"field\": \"grad_y\", \"legend\": {\"title\": [\"Effect of\", \"one obs.\"]}, \"scale\": {\"domain\": [-0.5873646452030208, 0.5873646452030208], \"reverse\": true, \"scheme\": \"redblue\"}, \"type\": \"quantitative\"}, \"x\": {\"axis\": {\"title\": \"X1\"}, \"field\": \"raked_1\", \"type\": \"nominal\"}, \"y\": {\"axis\": {\"title\": \"X2\"}, \"field\": \"raked_2\", \"type\": \"nominal\"}}}, {\"mark\": {\"type\": \"text\", \"baseline\": \"middle\"}, \"encoding\": {\"text\": {\"field\": \"grad_y\", \"format\": \".2f\", \"type\": \"quantitative\"}, \"x\": {\"axis\": {\"title\": \"X1\"}, \"field\": \"raked_1\", \"type\": \"nominal\"}, \"y\": {\"axis\": {\"title\": \"X2\"}, \"field\": \"raked_2\", \"type\": \"nominal\"}}}], \"data\": {\"name\": \"data-b07db9779e1ed9da50883acfdc2159e2\"}, \"height\": 180, \"width\": 120, \"$schema\": \"https://vega.github.io/schema/vega-lite/v5.20.1.json\", \"datasets\": {\"data-b07db9779e1ed9da50883acfdc2159e2\": [{\"raked_1\": 1, \"raked_2\": 1, \"X1\": 3, \"X2\": 4, \"grad_y\": 0.07189018830423881}, {\"raked_1\": 2, \"raked_2\": 1, \"X1\": 3, \"X2\": 4, \"grad_y\": 0.08420406280385358}, {\"raked_1\": 3, \"raked_2\": 1, \"X1\": 3, \"X2\": 4, \"grad_y\": -0.15609425110809239}, {\"raked_1\": 1, \"raked_2\": 2, \"X1\": 3, \"X2\": 4, \"grad_y\": 0.05389199779978289}, {\"raked_1\": 2, \"raked_2\": 2, \"X1\": 3, \"X2\": 4, \"grad_y\": 0.06706266346936787}, {\"raked_1\": 3, \"raked_2\": 2, \"X1\": 3, \"X2\": 4, \"grad_y\": -0.12095466126915076}, {\"raked_1\": 1, \"raked_2\": 3, \"X1\": 3, \"X2\": 4, \"grad_y\": 0.06744275821820028}, {\"raked_1\": 2, \"raked_2\": 3, \"X1\": 3, \"X2\": 4, \"grad_y\": 0.08625076680779503}, {\"raked_1\": 3, \"raked_2\": 3, \"X1\": 3, \"X2\": 4, \"grad_y\": -0.15369352502599531}, {\"raked_1\": 1, \"raked_2\": 4, \"X1\": 3, \"X2\": 4, \"grad_y\": -0.2672011614143447}, {\"raked_1\": 2, \"raked_2\": 4, \"X1\": 3, \"X2\": 4, \"grad_y\": -0.3201634837886761}, {\"raked_1\": 3, \"raked_2\": 4, \"X1\": 3, \"X2\": 4, \"grad_y\": 0.5873646452030208}, {\"raked_1\": 1, \"raked_2\": 5, \"X1\": 3, \"X2\": 4, \"grad_y\": 0.07397621709212272}, {\"raked_1\": 2, \"raked_2\": 5, \"X1\": 3, \"X2\": 4, \"grad_y\": 0.08264599070765961}, {\"raked_1\": 3, \"raked_2\": 5, \"X1\": 3, \"X2\": 4, \"grad_y\": -0.15662220779978234}]}}, {\"mode\": \"vega-lite\"});\n",
       "</script>"
      ],
      "text/plain": [
       "alt.LayerChart(...)"
      ]
     },
     "execution_count": 29,
     "metadata": {},
     "output_type": "execute_result"
    }
   ],
   "source": [
    "index = np.argmax(np.abs(df_y.grad_y))\n",
    "index_var1 = df_y.iloc[index].X1\n",
    "index_var2 = df_y.iloc[index].X2\n",
    "df_y_loc = df_y.loc[(df_y.X1==index_var1)&(df_y.X2==index_var2)]\n",
    "max_scale = max(abs(df_y_loc['grad_y'].min()), abs(df_y_loc['grad_y'].max()))\n",
    "\n",
    "base = alt.Chart(df_y_loc).encode(\n",
    "    x=alt.X('raked_1:N', axis=alt.Axis(title='X1')),\n",
    "    y=alt.Y('raked_2:N', axis=alt.Axis(title='X2')),\n",
    ")\n",
    "\n",
    "heatmap = base.mark_rect().encode(\n",
    "    color=alt.Color('grad_y:Q',\n",
    "        scale=alt.Scale(scheme='redblue', domain=[-max_scale, max_scale], reverse=True),\n",
    "        legend=alt.Legend(title=['Effect of', 'one obs.']))\n",
    ")\n",
    "\n",
    "text = base.mark_text(baseline='middle').encode(\n",
    "    alt.Text('grad_y:Q', format='.2f')\n",
    ")\n",
    "\n",
    "chart = alt.layer(heatmap, text\n",
    ").properties(\n",
    "    width=120,\n",
    "    height=180\n",
    ").configure_title(\n",
    "    fontSize=12\n",
    ").configure_axis(\n",
    "    labelFontSize=12,\n",
    "    titleFontSize=12\n",
    ").configure_legend(\n",
    "    labelFontSize=10,\n",
    "    titleFontSize=10\n",
    ")\n",
    "chart"
   ]
  },
  {
   "cell_type": "code",
   "execution_count": 30,
   "id": "698f5f64-ed5b-44dc-b752-95f1debc2ca1",
   "metadata": {},
   "outputs": [],
   "source": [
    "#chart.save('synthetics_most_important_initial_value.svg')"
   ]
  },
  {
   "cell_type": "markdown",
   "id": "2673f417-8389-4756-9a9d-4f21ba1c4dfe",
   "metadata": {},
   "source": [
    "Now we take one raked value ($X_1 = 3$ and $X_2 = 4$) and we look at how it is nfluenced by the observations."
   ]
  },
  {
   "cell_type": "code",
   "execution_count": 31,
   "id": "215ef5ee-1716-4ceb-b329-af0bbe58ba07",
   "metadata": {},
   "outputs": [
    {
     "data": {
      "text/html": [
       "\n",
       "<style>\n",
       "  #altair-viz-78b4b7f411ed4a68a868bb80037169e8.vega-embed {\n",
       "    width: 100%;\n",
       "    display: flex;\n",
       "  }\n",
       "\n",
       "  #altair-viz-78b4b7f411ed4a68a868bb80037169e8.vega-embed details,\n",
       "  #altair-viz-78b4b7f411ed4a68a868bb80037169e8.vega-embed details summary {\n",
       "    position: relative;\n",
       "  }\n",
       "</style>\n",
       "<div id=\"altair-viz-78b4b7f411ed4a68a868bb80037169e8\"></div>\n",
       "<script type=\"text/javascript\">\n",
       "  var VEGA_DEBUG = (typeof VEGA_DEBUG == \"undefined\") ? {} : VEGA_DEBUG;\n",
       "  (function(spec, embedOpt){\n",
       "    let outputDiv = document.currentScript.previousElementSibling;\n",
       "    if (outputDiv.id !== \"altair-viz-78b4b7f411ed4a68a868bb80037169e8\") {\n",
       "      outputDiv = document.getElementById(\"altair-viz-78b4b7f411ed4a68a868bb80037169e8\");\n",
       "    }\n",
       "\n",
       "    const paths = {\n",
       "      \"vega\": \"https://cdn.jsdelivr.net/npm/vega@5?noext\",\n",
       "      \"vega-lib\": \"https://cdn.jsdelivr.net/npm/vega-lib?noext\",\n",
       "      \"vega-lite\": \"https://cdn.jsdelivr.net/npm/vega-lite@5.20.1?noext\",\n",
       "      \"vega-embed\": \"https://cdn.jsdelivr.net/npm/vega-embed@6?noext\",\n",
       "    };\n",
       "\n",
       "    function maybeLoadScript(lib, version) {\n",
       "      var key = `${lib.replace(\"-\", \"\")}_version`;\n",
       "      return (VEGA_DEBUG[key] == version) ?\n",
       "        Promise.resolve(paths[lib]) :\n",
       "        new Promise(function(resolve, reject) {\n",
       "          var s = document.createElement('script');\n",
       "          document.getElementsByTagName(\"head\")[0].appendChild(s);\n",
       "          s.async = true;\n",
       "          s.onload = () => {\n",
       "            VEGA_DEBUG[key] = version;\n",
       "            return resolve(paths[lib]);\n",
       "          };\n",
       "          s.onerror = () => reject(`Error loading script: ${paths[lib]}`);\n",
       "          s.src = paths[lib];\n",
       "        });\n",
       "    }\n",
       "\n",
       "    function showError(err) {\n",
       "      outputDiv.innerHTML = `<div class=\"error\" style=\"color:red;\">${err}</div>`;\n",
       "      throw err;\n",
       "    }\n",
       "\n",
       "    function displayChart(vegaEmbed) {\n",
       "      vegaEmbed(outputDiv, spec, embedOpt)\n",
       "        .catch(err => showError(`Javascript Error: ${err.message}<br>This usually means there's a typo in your chart specification. See the javascript console for the full traceback.`));\n",
       "    }\n",
       "\n",
       "    if(typeof define === \"function\" && define.amd) {\n",
       "      requirejs.config({paths});\n",
       "      let deps = [\"vega-embed\"];\n",
       "      require(deps, displayChart, err => showError(`Error loading script: ${err.message}`));\n",
       "    } else {\n",
       "      maybeLoadScript(\"vega\", \"5\")\n",
       "        .then(() => maybeLoadScript(\"vega-lite\", \"5.20.1\"))\n",
       "        .then(() => maybeLoadScript(\"vega-embed\", \"6\"))\n",
       "        .catch(showError)\n",
       "        .then(() => displayChart(vegaEmbed));\n",
       "    }\n",
       "  })({\"config\": {\"view\": {\"continuousWidth\": 300, \"continuousHeight\": 300}, \"axis\": {\"labelFontSize\": 12, \"titleFontSize\": 12}, \"legend\": {\"labelFontSize\": 10, \"titleFontSize\": 10}, \"title\": {\"fontSize\": 12}}, \"layer\": [{\"mark\": {\"type\": \"rect\"}, \"encoding\": {\"color\": {\"field\": \"grad_y\", \"legend\": {\"title\": [\"Effect of\", \"all obs.\"]}, \"scale\": {\"domain\": [-0.5873646452030208, 0.5873646452030208], \"reverse\": true, \"scheme\": \"redblue\"}, \"type\": \"quantitative\"}, \"x\": {\"axis\": {\"title\": \"X1\"}, \"field\": \"X1\", \"type\": \"nominal\"}, \"y\": {\"axis\": {\"title\": \"X2\"}, \"field\": \"X2\", \"type\": \"nominal\"}}}, {\"mark\": {\"type\": \"text\", \"baseline\": \"middle\"}, \"encoding\": {\"text\": {\"field\": \"grad_y\", \"format\": \".2f\", \"type\": \"quantitative\"}, \"x\": {\"axis\": {\"title\": \"X1\"}, \"field\": \"X1\", \"type\": \"nominal\"}, \"y\": {\"axis\": {\"title\": \"X2\"}, \"field\": \"X2\", \"type\": \"nominal\"}}}], \"data\": {\"name\": \"data-be5e4e628350708d3fa22cc42a6b10cb\"}, \"height\": 180, \"width\": 120, \"$schema\": \"https://vega.github.io/schema/vega-lite/v5.20.1.json\", \"datasets\": {\"data-be5e4e628350708d3fa22cc42a6b10cb\": [{\"raked_1\": 3, \"raked_2\": 4, \"X1\": 1, \"X2\": 1, \"grad_y\": 0.055466325680407595}, {\"raked_1\": 3, \"raked_2\": 4, \"X1\": 2, \"X2\": 1, \"grad_y\": 0.05903115124639551}, {\"raked_1\": 3, \"raked_2\": 4, \"X1\": 3, \"X2\": 1, \"grad_y\": -0.11238386672849192}, {\"raked_1\": 3, \"raked_2\": 4, \"X1\": 1, \"X2\": 2, \"grad_y\": 0.04438996389972948}, {\"raked_1\": 3, \"raked_2\": 4, \"X1\": 2, \"X2\": 2, \"grad_y\": 0.04772730341559318}, {\"raked_1\": 3, \"raked_2\": 4, \"X1\": 3, \"X2\": 2, \"grad_y\": -0.1173164733142853}, {\"raked_1\": 3, \"raked_2\": 4, \"X1\": 1, \"X2\": 3, \"grad_y\": 0.059233263338503477}, {\"raked_1\": 3, \"raked_2\": 4, \"X1\": 2, \"X2\": 3, \"grad_y\": 0.06278081652379157}, {\"raked_1\": 3, \"raked_2\": 4, \"X1\": 3, \"X2\": 3, \"grad_y\": -0.10303182493487233}, {\"raked_1\": 3, \"raked_2\": 4, \"X1\": 1, \"X2\": 4, \"grad_y\": -0.24511122770665272}, {\"raked_1\": 3, \"raked_2\": 4, \"X1\": 2, \"X2\": 4, \"grad_y\": -0.2456059259194808}, {\"raked_1\": 3, \"raked_2\": 4, \"X1\": 3, \"X2\": 4, \"grad_y\": 0.5873646452030208}, {\"raked_1\": 3, \"raked_2\": 4, \"X1\": 1, \"X2\": 5, \"grad_y\": 0.05348911620625837}, {\"raked_1\": 3, \"raked_2\": 4, \"X1\": 2, \"X2\": 5, \"grad_y\": 0.057016969278628885}, {\"raked_1\": 3, \"raked_2\": 4, \"X1\": 3, \"X2\": 5, \"grad_y\": -0.11349916002010325}]}}, {\"mode\": \"vega-lite\"});\n",
       "</script>"
      ],
      "text/plain": [
       "alt.LayerChart(...)"
      ]
     },
     "execution_count": 31,
     "metadata": {},
     "output_type": "execute_result"
    }
   ],
   "source": [
    "index = np.argmax(np.abs(df_y.grad_y))\n",
    "index_raked_1 = df_y.iloc[index].raked_1\n",
    "index_raked_2 = df_y.iloc[index].raked_2\n",
    "df_y_loc = df_y.loc[(df_y.raked_1==index_raked_1)&(df_y.raked_2==index_raked_2)]\n",
    "max_scale = max(abs(df_y_loc['grad_y'].min()), abs(df_y_loc['grad_y'].max()))\n",
    "\n",
    "base = alt.Chart(df_y_loc).encode(\n",
    "    x=alt.X('X1:N', axis=alt.Axis(title='X1')),\n",
    "    y=alt.Y('X2:N', axis=alt.Axis(title='X2')),\n",
    ")\n",
    "\n",
    "heatmap = base.mark_rect().encode(\n",
    "    color=alt.Color('grad_y:Q',\n",
    "        scale=alt.Scale(scheme='redblue', domain=[-max_scale, max_scale], reverse=True),\n",
    "        legend=alt.Legend(title=['Effect of', 'all obs.']))\n",
    ")\n",
    "\n",
    "text = base.mark_text(baseline='middle').encode(\n",
    "    alt.Text('grad_y:Q', format='.2f')\n",
    ")\n",
    "\n",
    "chart = alt.layer(heatmap, text\n",
    ").properties(\n",
    "    width=120,\n",
    "    height=180\n",
    ").configure_title(\n",
    "    fontSize=12\n",
    ").configure_axis(\n",
    "    labelFontSize=12,\n",
    "    titleFontSize=12\n",
    ").configure_legend(\n",
    "    labelFontSize=10,\n",
    "    titleFontSize=10\n",
    ")\n",
    "chart"
   ]
  },
  {
   "cell_type": "code",
   "execution_count": 32,
   "id": "8393765c-807f-4704-ade7-3b2587fe59f8",
   "metadata": {},
   "outputs": [],
   "source": [
    "#chart.save('synthetics_most_important_raked_value.svg')"
   ]
  },
  {
   "cell_type": "markdown",
   "id": "fd65c784-50c0-4e53-a27f-9caf46e94e1f",
   "metadata": {},
   "source": [
    "We compare the raked value of the mean of the observations with the mean of the raked values for each sample of observations."
   ]
  },
  {
   "cell_type": "code",
   "execution_count": 51,
   "id": "eea2a6e1-ac9f-4290-8392-7eea55285423",
   "metadata": {},
   "outputs": [],
   "source": [
    "simulations = []\n",
    "for (N, mean_sample) in zip(Ns, mean_samples):\n",
    "    simulations.append( \\\n",
    "        pd.DataFrame({'X1': x1, \\\n",
    "                      'X2': x2, \\\n",
    "                      'method': np.repeat('Monte Carlo (N = ' + str(N) + ')', len(mean_sample)), \\\n",
    "                      'value': mean_sample})\n",
    "    )\n",
    "delta_method = pd.DataFrame({'X1': x1, \\\n",
    "                             'X2': x2, \\\n",
    "                             'method': np.repeat('Uncertainty propagation method', len(x1)), \\\n",
    "                             'value': df_raked.loc[df_raked.Type=='Raked'].Value})\n",
    "simulations.append(delta_method)\n",
    "simulations = pd.concat(simulations)\n",
    "\n",
    "reference = pd.DataFrame({'X1': x1, \\\n",
    "                          'X2': x2, \\\n",
    "                          'reference': mean_ref})\n",
    "df = simulations.merge(reference, how='left', on=['X1', 'X2'])"
   ]
  },
  {
   "cell_type": "code",
   "execution_count": 52,
   "id": "96862424-c30f-4c4b-ba85-b898a65c26cf",
   "metadata": {},
   "outputs": [],
   "source": [
    "min_x = 1.8\n",
    "max_x = 3.0"
   ]
  },
  {
   "cell_type": "code",
   "execution_count": 63,
   "id": "28562964-ea66-45a6-81c9-0d3941e94b60",
   "metadata": {},
   "outputs": [
    {
     "data": {
      "text/html": [
       "\n",
       "<style>\n",
       "  #altair-viz-c9b819ebe4c94a1ab18ccf2cab9e0bec.vega-embed {\n",
       "    width: 100%;\n",
       "    display: flex;\n",
       "  }\n",
       "\n",
       "  #altair-viz-c9b819ebe4c94a1ab18ccf2cab9e0bec.vega-embed details,\n",
       "  #altair-viz-c9b819ebe4c94a1ab18ccf2cab9e0bec.vega-embed details summary {\n",
       "    position: relative;\n",
       "  }\n",
       "</style>\n",
       "<div id=\"altair-viz-c9b819ebe4c94a1ab18ccf2cab9e0bec\"></div>\n",
       "<script type=\"text/javascript\">\n",
       "  var VEGA_DEBUG = (typeof VEGA_DEBUG == \"undefined\") ? {} : VEGA_DEBUG;\n",
       "  (function(spec, embedOpt){\n",
       "    let outputDiv = document.currentScript.previousElementSibling;\n",
       "    if (outputDiv.id !== \"altair-viz-c9b819ebe4c94a1ab18ccf2cab9e0bec\") {\n",
       "      outputDiv = document.getElementById(\"altair-viz-c9b819ebe4c94a1ab18ccf2cab9e0bec\");\n",
       "    }\n",
       "\n",
       "    const paths = {\n",
       "      \"vega\": \"https://cdn.jsdelivr.net/npm/vega@5?noext\",\n",
       "      \"vega-lib\": \"https://cdn.jsdelivr.net/npm/vega-lib?noext\",\n",
       "      \"vega-lite\": \"https://cdn.jsdelivr.net/npm/vega-lite@5.20.1?noext\",\n",
       "      \"vega-embed\": \"https://cdn.jsdelivr.net/npm/vega-embed@6?noext\",\n",
       "    };\n",
       "\n",
       "    function maybeLoadScript(lib, version) {\n",
       "      var key = `${lib.replace(\"-\", \"\")}_version`;\n",
       "      return (VEGA_DEBUG[key] == version) ?\n",
       "        Promise.resolve(paths[lib]) :\n",
       "        new Promise(function(resolve, reject) {\n",
       "          var s = document.createElement('script');\n",
       "          document.getElementsByTagName(\"head\")[0].appendChild(s);\n",
       "          s.async = true;\n",
       "          s.onload = () => {\n",
       "            VEGA_DEBUG[key] = version;\n",
       "            return resolve(paths[lib]);\n",
       "          };\n",
       "          s.onerror = () => reject(`Error loading script: ${paths[lib]}`);\n",
       "          s.src = paths[lib];\n",
       "        });\n",
       "    }\n",
       "\n",
       "    function showError(err) {\n",
       "      outputDiv.innerHTML = `<div class=\"error\" style=\"color:red;\">${err}</div>`;\n",
       "      throw err;\n",
       "    }\n",
       "\n",
       "    function displayChart(vegaEmbed) {\n",
       "      vegaEmbed(outputDiv, spec, embedOpt)\n",
       "        .catch(err => showError(`Javascript Error: ${err.message}<br>This usually means there's a typo in your chart specification. See the javascript console for the full traceback.`));\n",
       "    }\n",
       "\n",
       "    if(typeof define === \"function\" && define.amd) {\n",
       "      requirejs.config({paths});\n",
       "      let deps = [\"vega-embed\"];\n",
       "      require(deps, displayChart, err => showError(`Error loading script: ${err.message}`));\n",
       "    } else {\n",
       "      maybeLoadScript(\"vega\", \"5\")\n",
       "        .then(() => maybeLoadScript(\"vega-lite\", \"5.20.1\"))\n",
       "        .then(() => maybeLoadScript(\"vega-embed\", \"6\"))\n",
       "        .catch(showError)\n",
       "        .then(() => displayChart(vegaEmbed));\n",
       "    }\n",
       "  })({\"config\": {\"view\": {\"continuousWidth\": 300, \"continuousHeight\": 300}, \"axis\": {\"labelFontSize\": 18, \"titleFontSize\": 18}}, \"data\": {\"name\": \"data-92d8fe9ece13d462643cebea14963ca9\"}, \"facet\": {\"column\": {\"field\": \"method\", \"header\": {\"labelFontSize\": 18}, \"sort\": [\"Uncertainty propagation method\", \"Monte Carlo (N = 100)\", \"Monte Carlo (N = 1000)\", \"Monte Carlo (N = 10000)\", \"Monte Carlo (N = 100000)\"], \"title\": null, \"type\": \"nominal\"}}, \"spec\": {\"layer\": [{\"mark\": {\"type\": \"rule\", \"strokeDash\": [8, 8]}, \"encoding\": {\"x\": {\"value\": 0}, \"x2\": {\"value\": \"width\"}, \"y\": {\"value\": \"height\"}, \"y2\": {\"value\": 0}}}, {\"mark\": {\"type\": \"point\", \"size\": 60}, \"encoding\": {\"color\": {\"field\": \"X1\", \"legend\": null, \"type\": \"nominal\"}, \"shape\": {\"field\": \"X2\", \"legend\": null, \"type\": \"nominal\"}, \"x\": {\"axis\": {\"title\": \"\\u03b2\\u2080\"}, \"field\": \"reference\", \"scale\": {\"domain\": [1.8, 3.0], \"zero\": false}, \"type\": \"quantitative\"}, \"y\": {\"axis\": {\"title\": \"\\u03b2\"}, \"field\": \"value\", \"scale\": {\"domain\": [1.8, 3.0], \"zero\": false}, \"type\": \"quantitative\"}}}]}, \"$schema\": \"https://vega.github.io/schema/vega-lite/v5.20.1.json\", \"datasets\": {\"data-92d8fe9ece13d462643cebea14963ca9\": [{\"X1\": 1, \"X2\": 1, \"method\": \"Monte Carlo (N = 100)\", \"value\": 2.584401042940578, \"reference\": 2.590590683352859}, {\"X1\": 2, \"X2\": 1, \"method\": \"Monte Carlo (N = 100)\", \"value\": 2.898485596007899, \"reference\": 2.923247680443245}, {\"X1\": 3, \"X2\": 1, \"method\": \"Monte Carlo (N = 100)\", \"value\": 2.8826840700609013, \"reference\": 2.8517325086030905}, {\"X1\": 1, \"X2\": 2, \"method\": \"Monte Carlo (N = 100)\", \"value\": 2.264174799131745, \"reference\": 2.2478092091365665}, {\"X1\": 2, \"X2\": 2, \"method\": \"Monte Carlo (N = 100)\", \"value\": 2.648130409938208, \"reference\": 2.6716752807524604}, {\"X1\": 3, \"X2\": 2, \"method\": \"Monte Carlo (N = 100)\", \"value\": 1.9668559020599525, \"reference\": 1.9596765717904576}, {\"X1\": 1, \"X2\": 3, \"method\": \"Monte Carlo (N = 100)\", \"value\": 2.13157050122953, \"reference\": 2.1245003659461967}, {\"X1\": 2, \"X2\": 3, \"method\": \"Monte Carlo (N = 100)\", \"value\": 2.6435886725573425, \"reference\": 2.6352947182291295}, {\"X1\": 3, \"X2\": 3, \"method\": \"Monte Carlo (N = 100)\", \"value\": 2.8527151823961954, \"reference\": 2.868079177095453}, {\"X1\": 1, \"X2\": 4, \"method\": \"Monte Carlo (N = 100)\", \"value\": 2.0774443514163226, \"reference\": 2.079924108090948}, {\"X1\": 2, \"X2\": 4, \"method\": \"Monte Carlo (N = 100)\", \"value\": 2.621966298397298, \"reference\": 2.556696844462739}, {\"X1\": 3, \"X2\": 4, \"method\": \"Monte Carlo (N = 100)\", \"value\": 1.894327624158941, \"reference\": 1.9571172384476967}, {\"X1\": 1, \"X2\": 5, \"method\": \"Monte Carlo (N = 100)\", \"value\": 2.719929139969853, \"reference\": 2.73469543282593}, {\"X1\": 2, \"X2\": 5, \"method\": \"Monte Carlo (N = 100)\", \"value\": 2.9154143452940047, \"reference\": 2.9406708076385373}, {\"X1\": 3, \"X2\": 5, \"method\": \"Monte Carlo (N = 100)\", \"value\": 2.8426545521556585, \"reference\": 2.802631845166396}, {\"X1\": 1, \"X2\": 1, \"method\": \"Monte Carlo (N = 1000)\", \"value\": 2.593390087031372, \"reference\": 2.590590683352859}, {\"X1\": 2, \"X2\": 1, \"method\": \"Monte Carlo (N = 1000)\", \"value\": 2.924470962481269, \"reference\": 2.923247680443245}, {\"X1\": 3, \"X2\": 1, \"method\": \"Monte Carlo (N = 1000)\", \"value\": 2.8477097926671586, \"reference\": 2.8517325086030905}, {\"X1\": 1, \"X2\": 2, \"method\": \"Monte Carlo (N = 1000)\", \"value\": 2.2474378812946503, \"reference\": 2.2478092091365665}, {\"X1\": 2, \"X2\": 2, \"method\": \"Monte Carlo (N = 1000)\", \"value\": 2.6715053125110266, \"reference\": 2.6716752807524604}, {\"X1\": 3, \"X2\": 2, \"method\": \"Monte Carlo (N = 1000)\", \"value\": 1.9602177590094245, \"reference\": 1.9596765717904576}, {\"X1\": 1, \"X2\": 3, \"method\": \"Monte Carlo (N = 1000)\", \"value\": 2.117079718910705, \"reference\": 2.1245003659461967}, {\"X1\": 2, \"X2\": 3, \"method\": \"Monte Carlo (N = 1000)\", \"value\": 2.6325601680751913, \"reference\": 2.6352947182291295}, {\"X1\": 3, \"X2\": 3, \"method\": \"Monte Carlo (N = 1000)\", \"value\": 2.878234393063536, \"reference\": 2.868079177095453}, {\"X1\": 1, \"X2\": 4, \"method\": \"Monte Carlo (N = 1000)\", \"value\": 2.084215833061088, \"reference\": 2.079924108090948}, {\"X1\": 2, \"X2\": 4, \"method\": \"Monte Carlo (N = 1000)\", \"value\": 2.5557689286730216, \"reference\": 2.556696844462739}, {\"X1\": 3, \"X2\": 4, \"method\": \"Monte Carlo (N = 1000)\", \"value\": 1.9537534855046488, \"reference\": 1.9571172384476967}, {\"X1\": 1, \"X2\": 5, \"method\": \"Monte Carlo (N = 1000)\", \"value\": 2.7353962772225437, \"reference\": 2.73469543282593}, {\"X1\": 2, \"X2\": 5, \"method\": \"Monte Carlo (N = 1000)\", \"value\": 2.943279956141354, \"reference\": 2.9406708076385373}, {\"X1\": 3, \"X2\": 5, \"method\": \"Monte Carlo (N = 1000)\", \"value\": 2.799321919117186, \"reference\": 2.802631845166396}, {\"X1\": 1, \"X2\": 1, \"method\": \"Monte Carlo (N = 10000)\", \"value\": 2.590485155933281, \"reference\": 2.590590683352859}, {\"X1\": 2, \"X2\": 1, \"method\": \"Monte Carlo (N = 10000)\", \"value\": 2.9255926912641357, \"reference\": 2.923247680443245}, {\"X1\": 3, \"X2\": 1, \"method\": \"Monte Carlo (N = 10000)\", \"value\": 2.8494930710272923, \"reference\": 2.8517325086030905}, {\"X1\": 1, \"X2\": 2, \"method\": \"Monte Carlo (N = 10000)\", \"value\": 2.2488352513473098, \"reference\": 2.2478092091365665}, {\"X1\": 2, \"X2\": 2, \"method\": \"Monte Carlo (N = 10000)\", \"value\": 2.6724495187847928, \"reference\": 2.6716752807524604}, {\"X1\": 3, \"X2\": 2, \"method\": \"Monte Carlo (N = 10000)\", \"value\": 1.9578762976783484, \"reference\": 1.9596765717904576}, {\"X1\": 1, \"X2\": 3, \"method\": \"Monte Carlo (N = 10000)\", \"value\": 2.122832639560437, \"reference\": 2.1245003659461967}, {\"X1\": 2, \"X2\": 3, \"method\": \"Monte Carlo (N = 10000)\", \"value\": 2.6350626401030475, \"reference\": 2.6352947182291295}, {\"X1\": 3, \"X2\": 3, \"method\": \"Monte Carlo (N = 10000)\", \"value\": 2.869978960753034, \"reference\": 2.868079177095453}, {\"X1\": 1, \"X2\": 4, \"method\": \"Monte Carlo (N = 10000)\", \"value\": 2.080110789162816, \"reference\": 2.079924108090948}, {\"X1\": 2, \"X2\": 4, \"method\": \"Monte Carlo (N = 10000)\", \"value\": 2.5571770583078033, \"reference\": 2.556696844462739}, {\"X1\": 3, \"X2\": 4, \"method\": \"Monte Carlo (N = 10000)\", \"value\": 1.9564503099836366, \"reference\": 1.9571172384476967}, {\"X1\": 1, \"X2\": 5, \"method\": \"Monte Carlo (N = 10000)\", \"value\": 2.7352559619498993, \"reference\": 2.73469543282593}, {\"X1\": 2, \"X2\": 5, \"method\": \"Monte Carlo (N = 10000)\", \"value\": 2.93730341994858, \"reference\": 2.9406708076385373}, {\"X1\": 3, \"X2\": 5, \"method\": \"Monte Carlo (N = 10000)\", \"value\": 2.805438701617679, \"reference\": 2.802631845166396}, {\"X1\": 1, \"X2\": 1, \"method\": \"Monte Carlo (N = 100000)\", \"value\": 2.5907556976089854, \"reference\": 2.590590683352859}, {\"X1\": 2, \"X2\": 1, \"method\": \"Monte Carlo (N = 100000)\", \"value\": 2.9231583358341124, \"reference\": 2.923247680443245}, {\"X1\": 3, \"X2\": 1, \"method\": \"Monte Carlo (N = 100000)\", \"value\": 2.8516568364144206, \"reference\": 2.8517325086030905}, {\"X1\": 1, \"X2\": 2, \"method\": \"Monte Carlo (N = 100000)\", \"value\": 2.248254032649555, \"reference\": 2.2478092091365665}, {\"X1\": 2, \"X2\": 2, \"method\": \"Monte Carlo (N = 100000)\", \"value\": 2.671203002657131, \"reference\": 2.6716752807524604}, {\"X1\": 3, \"X2\": 2, \"method\": \"Monte Carlo (N = 100000)\", \"value\": 1.9597040260376726, \"reference\": 1.9596765717904576}, {\"X1\": 1, \"X2\": 3, \"method\": \"Monte Carlo (N = 100000)\", \"value\": 2.124378876021134, \"reference\": 2.1245003659461967}, {\"X1\": 2, \"X2\": 3, \"method\": \"Monte Carlo (N = 100000)\", \"value\": 2.635553559229806, \"reference\": 2.6352947182291295}, {\"X1\": 3, \"X2\": 3, \"method\": \"Monte Carlo (N = 100000)\", \"value\": 2.8679418180754372, \"reference\": 2.868079177095453}, {\"X1\": 1, \"X2\": 4, \"method\": \"Monte Carlo (N = 100000)\", \"value\": 2.0795884633398414, \"reference\": 2.079924108090948}, {\"X1\": 2, \"X2\": 4, \"method\": \"Monte Carlo (N = 100000)\", \"value\": 2.55725592311108, \"reference\": 2.556696844462739}, {\"X1\": 3, \"X2\": 4, \"method\": \"Monte Carlo (N = 100000)\", \"value\": 1.9568938067799746, \"reference\": 1.9571172384476967}, {\"X1\": 1, \"X2\": 5, \"method\": \"Monte Carlo (N = 100000)\", \"value\": 2.734542728760451, \"reference\": 2.73469543282593}, {\"X1\": 2, \"X2\": 5, \"method\": \"Monte Carlo (N = 100000)\", \"value\": 2.9404145111194078, \"reference\": 2.9406708076385373}, {\"X1\": 3, \"X2\": 5, \"method\": \"Monte Carlo (N = 100000)\", \"value\": 2.803040853765749, \"reference\": 2.802631845166396}, {\"X1\": 1, \"X2\": 1, \"method\": \"Uncertainty propagation method\", \"value\": 2.58994150818443, \"reference\": 2.590590683352859}, {\"X1\": 2, \"X2\": 1, \"method\": \"Uncertainty propagation method\", \"value\": 2.9252081543638564, \"reference\": 2.923247680443245}, {\"X1\": 3, \"X2\": 1, \"method\": \"Uncertainty propagation method\", \"value\": 2.850422220872039, \"reference\": 2.8517325086030905}, {\"X1\": 1, \"X2\": 2, \"method\": \"Uncertainty propagation method\", \"value\": 2.2465984277484936, \"reference\": 2.2478092091365665}, {\"X1\": 2, \"X2\": 2, \"method\": \"Uncertainty propagation method\", \"value\": 2.671116910733625, \"reference\": 2.6716752807524604}, {\"X1\": 3, \"X2\": 2, \"method\": \"Uncertainty propagation method\", \"value\": 1.961445710589925, \"reference\": 1.9596765717904576}, {\"X1\": 1, \"X2\": 3, \"method\": \"Uncertainty propagation method\", \"value\": 2.1270534805896344, \"reference\": 2.1245003659461967}, {\"X1\": 2, \"X2\": 3, \"method\": \"Uncertainty propagation method\", \"value\": 2.6362269032692587, \"reference\": 2.6352947182291295}, {\"X1\": 3, \"X2\": 3, \"method\": \"Uncertainty propagation method\", \"value\": 2.8645940686494846, \"reference\": 2.868079177095453}, {\"X1\": 1, \"X2\": 4, \"method\": \"Uncertainty propagation method\", \"value\": 2.0796305661910894, \"reference\": 2.079924108090948}, {\"X1\": 2, \"X2\": 4, \"method\": \"Uncertainty propagation method\", \"value\": 2.553650899259654, \"reference\": 2.556696844462739}, {\"X1\": 3, \"X2\": 4, \"method\": \"Uncertainty propagation method\", \"value\": 1.960456817271945, \"reference\": 1.9571172384476967}, {\"X1\": 1, \"X2\": 5, \"method\": \"Uncertainty propagation method\", \"value\": 2.7342958628869063, \"reference\": 2.73469543282593}, {\"X1\": 2, \"X2\": 5, \"method\": \"Uncertainty propagation method\", \"value\": 2.9413824541233926, \"reference\": 2.9406708076385373}, {\"X1\": 3, \"X2\": 5, \"method\": \"Uncertainty propagation method\", \"value\": 2.8023185417452017, \"reference\": 2.802631845166396}]}}, {\"mode\": \"vega-lite\"});\n",
       "</script>"
      ],
      "text/plain": [
       "alt.FacetChart(...)"
      ]
     },
     "execution_count": 63,
     "metadata": {},
     "output_type": "execute_result"
    }
   ],
   "source": [
    "points = alt.Chart().mark_point(size=60).encode(\n",
    "    x=alt.X('reference:Q', scale=alt.Scale(domain=[min_x, max_x], zero=False), axis=alt.Axis(title='β₀')),\n",
    "    y=alt.Y('value:Q', scale=alt.Scale(domain=[min_x, max_x], zero=False), axis=alt.Axis(title='β')),\n",
    "    color=alt.Color('X1:N', legend=None),\n",
    "    shape=alt.Shape('X2:N', legend=None)\n",
    ")\n",
    "diagonal = alt.Chart().mark_rule(strokeDash=[8, 8]).encode(\n",
    "    x=alt.value(0),\n",
    "    x2=alt.value('width'),\n",
    "    y=alt.value('height'),\n",
    "    y2=alt.value(0)\n",
    ")\n",
    "chart = alt.layer(\n",
    "    diagonal,\n",
    "    points,\n",
    "    data=df\n",
    ").facet(\n",
    "    column=alt.Column('method:N',\n",
    "        sort=['Uncertainty propagation method'] + [('Monte Carlo (N = ' + str(N) + ')') for N in Ns],\n",
    "        title=None,\n",
    "        header=alt.Header(labelFontSize=18)\n",
    "    )\n",
    ").configure_axis(\n",
    "    labelFontSize=18,\n",
    "    titleFontSize=18\n",
    ")\n",
    "chart"
   ]
  },
  {
   "cell_type": "code",
   "execution_count": 62,
   "id": "5195c9e1-7081-4a0b-8a1b-800d29a1d54a",
   "metadata": {},
   "outputs": [],
   "source": [
    "chart.save('mean_comparison.svg')"
   ]
  },
  {
   "cell_type": "markdown",
   "id": "6eb9d491-e1d8-4c02-851d-5db395a260a7",
   "metadata": {},
   "source": [
    "We compare the covariance matrix of the mean of the observations with the covariance matrix of the raked values for each sample of observations."
   ]
  },
  {
   "cell_type": "code",
   "execution_count": 67,
   "id": "782fb21b-3e10-40a4-821d-635811d1989a",
   "metadata": {},
   "outputs": [],
   "source": [
    "simulations = []\n",
    "for (N, covariance_sample) in zip(Ns, covariance_samples):\n",
    "    simulations.append( \\\n",
    "        pd.DataFrame({'X1': x1, \\\n",
    "                      'X2': x2, \\\n",
    "                      'method': np.repeat('Monte Carlo (N = ' + str(N) + ')', len(x1)), \\\n",
    "                      'value': np.diag(covariance_sample)})\n",
    "    )\n",
    "delta_method = pd.DataFrame({'X1': x1, \\\n",
    "                             'X2': x2, \\\n",
    "                             'method': np.repeat('Uncertainty propagation method', len(x1)), \\\n",
    "                             'value': np.diag(covariance_0)})\n",
    "simulations.append(delta_method)\n",
    "simulations = pd.concat(simulations)\n",
    "\n",
    "reference = pd.DataFrame({'X1': x1, \\\n",
    "                          'X2': x2, \\\n",
    "                          'reference': np.diag(covariance_ref)})\n",
    "df = simulations.merge(reference, how='left', on=['X1', 'X2'])"
   ]
  },
  {
   "cell_type": "code",
   "execution_count": 68,
   "id": "16ec6366-ebb5-4cc2-b28d-6b83177fcd19",
   "metadata": {},
   "outputs": [],
   "source": [
    "min_x = 0.01\n",
    "max_x = 0.07"
   ]
  },
  {
   "cell_type": "code",
   "execution_count": 69,
   "id": "6ac5c136-63d7-4539-be2d-9b2b7e69e0ad",
   "metadata": {},
   "outputs": [
    {
     "data": {
      "text/html": [
       "\n",
       "<style>\n",
       "  #altair-viz-054df750c9ca4c4cb166143576dc7bc1.vega-embed {\n",
       "    width: 100%;\n",
       "    display: flex;\n",
       "  }\n",
       "\n",
       "  #altair-viz-054df750c9ca4c4cb166143576dc7bc1.vega-embed details,\n",
       "  #altair-viz-054df750c9ca4c4cb166143576dc7bc1.vega-embed details summary {\n",
       "    position: relative;\n",
       "  }\n",
       "</style>\n",
       "<div id=\"altair-viz-054df750c9ca4c4cb166143576dc7bc1\"></div>\n",
       "<script type=\"text/javascript\">\n",
       "  var VEGA_DEBUG = (typeof VEGA_DEBUG == \"undefined\") ? {} : VEGA_DEBUG;\n",
       "  (function(spec, embedOpt){\n",
       "    let outputDiv = document.currentScript.previousElementSibling;\n",
       "    if (outputDiv.id !== \"altair-viz-054df750c9ca4c4cb166143576dc7bc1\") {\n",
       "      outputDiv = document.getElementById(\"altair-viz-054df750c9ca4c4cb166143576dc7bc1\");\n",
       "    }\n",
       "\n",
       "    const paths = {\n",
       "      \"vega\": \"https://cdn.jsdelivr.net/npm/vega@5?noext\",\n",
       "      \"vega-lib\": \"https://cdn.jsdelivr.net/npm/vega-lib?noext\",\n",
       "      \"vega-lite\": \"https://cdn.jsdelivr.net/npm/vega-lite@5.20.1?noext\",\n",
       "      \"vega-embed\": \"https://cdn.jsdelivr.net/npm/vega-embed@6?noext\",\n",
       "    };\n",
       "\n",
       "    function maybeLoadScript(lib, version) {\n",
       "      var key = `${lib.replace(\"-\", \"\")}_version`;\n",
       "      return (VEGA_DEBUG[key] == version) ?\n",
       "        Promise.resolve(paths[lib]) :\n",
       "        new Promise(function(resolve, reject) {\n",
       "          var s = document.createElement('script');\n",
       "          document.getElementsByTagName(\"head\")[0].appendChild(s);\n",
       "          s.async = true;\n",
       "          s.onload = () => {\n",
       "            VEGA_DEBUG[key] = version;\n",
       "            return resolve(paths[lib]);\n",
       "          };\n",
       "          s.onerror = () => reject(`Error loading script: ${paths[lib]}`);\n",
       "          s.src = paths[lib];\n",
       "        });\n",
       "    }\n",
       "\n",
       "    function showError(err) {\n",
       "      outputDiv.innerHTML = `<div class=\"error\" style=\"color:red;\">${err}</div>`;\n",
       "      throw err;\n",
       "    }\n",
       "\n",
       "    function displayChart(vegaEmbed) {\n",
       "      vegaEmbed(outputDiv, spec, embedOpt)\n",
       "        .catch(err => showError(`Javascript Error: ${err.message}<br>This usually means there's a typo in your chart specification. See the javascript console for the full traceback.`));\n",
       "    }\n",
       "\n",
       "    if(typeof define === \"function\" && define.amd) {\n",
       "      requirejs.config({paths});\n",
       "      let deps = [\"vega-embed\"];\n",
       "      require(deps, displayChart, err => showError(`Error loading script: ${err.message}`));\n",
       "    } else {\n",
       "      maybeLoadScript(\"vega\", \"5\")\n",
       "        .then(() => maybeLoadScript(\"vega-lite\", \"5.20.1\"))\n",
       "        .then(() => maybeLoadScript(\"vega-embed\", \"6\"))\n",
       "        .catch(showError)\n",
       "        .then(() => displayChart(vegaEmbed));\n",
       "    }\n",
       "  })({\"config\": {\"view\": {\"continuousWidth\": 300, \"continuousHeight\": 300}, \"axis\": {\"labelFontSize\": 18, \"titleFontSize\": 18}}, \"data\": {\"name\": \"data-a91044df99f172b6392a54a7ff93b871\"}, \"facet\": {\"column\": {\"field\": \"method\", \"header\": {\"labelFontSize\": 18}, \"sort\": [\"Uncertainty propagation method\", \"Monte Carlo (N = 100)\", \"Monte Carlo (N = 1000)\", \"Monte Carlo (N = 10000)\", \"Monte Carlo (N = 100000)\"], \"title\": null, \"type\": \"nominal\"}}, \"spec\": {\"layer\": [{\"mark\": {\"type\": \"rule\", \"strokeDash\": [8, 8]}, \"encoding\": {\"x\": {\"value\": 0}, \"x2\": {\"value\": \"width\"}, \"y\": {\"value\": \"height\"}, \"y2\": {\"value\": 0}}}, {\"mark\": {\"type\": \"point\", \"size\": 60}, \"encoding\": {\"color\": {\"field\": \"X1\", \"legend\": null, \"type\": \"nominal\"}, \"shape\": {\"field\": \"X2\", \"legend\": null, \"type\": \"nominal\"}, \"x\": {\"axis\": {\"title\": \"\\u03a3\\u2080\"}, \"field\": \"reference\", \"scale\": {\"domain\": [0.01, 0.07], \"zero\": false}, \"type\": \"quantitative\"}, \"y\": {\"axis\": {\"title\": \"\\u03a3\"}, \"field\": \"value\", \"scale\": {\"domain\": [0.01, 0.07], \"zero\": false}, \"type\": \"quantitative\"}}}]}, \"$schema\": \"https://vega.github.io/schema/vega-lite/v5.20.1.json\", \"datasets\": {\"data-a91044df99f172b6392a54a7ff93b871\": [{\"X1\": 1, \"X2\": 1, \"method\": \"Monte Carlo (N = 100)\", \"value\": 0.011834318279536068, \"reference\": 0.012218866508919912}, {\"X1\": 2, \"X2\": 1, \"method\": \"Monte Carlo (N = 100)\", \"value\": 0.01311881588573871, \"reference\": 0.01523385239985933}, {\"X1\": 3, \"X2\": 1, \"method\": \"Monte Carlo (N = 100)\", \"value\": 0.014831338857581871, \"reference\": 0.018887946329746785}, {\"X1\": 1, \"X2\": 2, \"method\": \"Monte Carlo (N = 100)\", \"value\": 0.024556515254936042, \"reference\": 0.022096954948329226}, {\"X1\": 2, \"X2\": 2, \"method\": \"Monte Carlo (N = 100)\", \"value\": 0.020539005510158113, \"reference\": 0.02545996816106664}, {\"X1\": 3, \"X2\": 2, \"method\": \"Monte Carlo (N = 100)\", \"value\": 0.02736322479630206, \"reference\": 0.028233489620669176}, {\"X1\": 1, \"X2\": 3, \"method\": \"Monte Carlo (N = 100)\", \"value\": 0.032379361166654526, \"reference\": 0.03426465747588373}, {\"X1\": 2, \"X2\": 3, \"method\": \"Monte Carlo (N = 100)\", \"value\": 0.03466452950688998, \"reference\": 0.03773362227611468}, {\"X1\": 3, \"X2\": 3, \"method\": \"Monte Carlo (N = 100)\", \"value\": 0.03941080568282855, \"reference\": 0.04064047068237904}, {\"X1\": 1, \"X2\": 4, \"method\": \"Monte Carlo (N = 100)\", \"value\": 0.05339272758058777, \"reference\": 0.04880880669747688}, {\"X1\": 2, \"X2\": 4, \"method\": \"Monte Carlo (N = 100)\", \"value\": 0.05094732540865126, \"reference\": 0.05289464878826943}, {\"X1\": 3, \"X2\": 4, \"method\": \"Monte Carlo (N = 100)\", \"value\": 0.0651157735897861, \"reference\": 0.05703369622545977}, {\"X1\": 1, \"X2\": 5, \"method\": \"Monte Carlo (N = 100)\", \"value\": 0.06387127248630463, \"reference\": 0.05960835097902881}, {\"X1\": 2, \"X2\": 5, \"method\": \"Monte Carlo (N = 100)\", \"value\": 0.058280996864395064, \"reference\": 0.0638894070508236}, {\"X1\": 3, \"X2\": 5, \"method\": \"Monte Carlo (N = 100)\", \"value\": 0.06916169152279865, \"reference\": 0.06669506805786005}, {\"X1\": 1, \"X2\": 1, \"method\": \"Monte Carlo (N = 1000)\", \"value\": 0.012632609223514071, \"reference\": 0.012218866508919912}, {\"X1\": 2, \"X2\": 1, \"method\": \"Monte Carlo (N = 1000)\", \"value\": 0.014026822376918189, \"reference\": 0.01523385239985933}, {\"X1\": 3, \"X2\": 1, \"method\": \"Monte Carlo (N = 1000)\", \"value\": 0.019196450002801655, \"reference\": 0.018887946329746785}, {\"X1\": 1, \"X2\": 2, \"method\": \"Monte Carlo (N = 1000)\", \"value\": 0.02265431494657304, \"reference\": 0.022096954948329226}, {\"X1\": 2, \"X2\": 2, \"method\": \"Monte Carlo (N = 1000)\", \"value\": 0.023908988162313127, \"reference\": 0.02545996816106664}, {\"X1\": 3, \"X2\": 2, \"method\": \"Monte Carlo (N = 1000)\", \"value\": 0.02736718063251928, \"reference\": 0.028233489620669176}, {\"X1\": 1, \"X2\": 3, \"method\": \"Monte Carlo (N = 1000)\", \"value\": 0.034483806679268064, \"reference\": 0.03426465747588373}, {\"X1\": 2, \"X2\": 3, \"method\": \"Monte Carlo (N = 1000)\", \"value\": 0.041365636357636876, \"reference\": 0.03773362227611468}, {\"X1\": 3, \"X2\": 3, \"method\": \"Monte Carlo (N = 1000)\", \"value\": 0.03976463702776167, \"reference\": 0.04064047068237904}, {\"X1\": 1, \"X2\": 4, \"method\": \"Monte Carlo (N = 1000)\", \"value\": 0.05190180465423581, \"reference\": 0.04880880669747688}, {\"X1\": 2, \"X2\": 4, \"method\": \"Monte Carlo (N = 1000)\", \"value\": 0.05287524609983979, \"reference\": 0.05289464878826943}, {\"X1\": 3, \"X2\": 4, \"method\": \"Monte Carlo (N = 1000)\", \"value\": 0.057259146884541236, \"reference\": 0.05703369622545977}, {\"X1\": 1, \"X2\": 5, \"method\": \"Monte Carlo (N = 1000)\", \"value\": 0.05852952031773238, \"reference\": 0.05960835097902881}, {\"X1\": 2, \"X2\": 5, \"method\": \"Monte Carlo (N = 1000)\", \"value\": 0.0625727259005021, \"reference\": 0.0638894070508236}, {\"X1\": 3, \"X2\": 5, \"method\": \"Monte Carlo (N = 1000)\", \"value\": 0.06445976839133387, \"reference\": 0.06669506805786005}, {\"X1\": 1, \"X2\": 1, \"method\": \"Monte Carlo (N = 10000)\", \"value\": 0.012384620732394063, \"reference\": 0.012218866508919912}, {\"X1\": 2, \"X2\": 1, \"method\": \"Monte Carlo (N = 10000)\", \"value\": 0.015154952627913963, \"reference\": 0.01523385239985933}, {\"X1\": 3, \"X2\": 1, \"method\": \"Monte Carlo (N = 10000)\", \"value\": 0.019148083291493544, \"reference\": 0.018887946329746785}, {\"X1\": 1, \"X2\": 2, \"method\": \"Monte Carlo (N = 10000)\", \"value\": 0.022318100320359562, \"reference\": 0.022096954948329226}, {\"X1\": 2, \"X2\": 2, \"method\": \"Monte Carlo (N = 10000)\", \"value\": 0.02593737657311645, \"reference\": 0.02545996816106664}, {\"X1\": 3, \"X2\": 2, \"method\": \"Monte Carlo (N = 10000)\", \"value\": 0.028251089021118912, \"reference\": 0.028233489620669176}, {\"X1\": 1, \"X2\": 3, \"method\": \"Monte Carlo (N = 10000)\", \"value\": 0.03456787726879764, \"reference\": 0.03426465747588373}, {\"X1\": 2, \"X2\": 3, \"method\": \"Monte Carlo (N = 10000)\", \"value\": 0.03909786050852083, \"reference\": 0.03773362227611468}, {\"X1\": 3, \"X2\": 3, \"method\": \"Monte Carlo (N = 10000)\", \"value\": 0.04057711739184815, \"reference\": 0.04064047068237904}, {\"X1\": 1, \"X2\": 4, \"method\": \"Monte Carlo (N = 10000)\", \"value\": 0.04961356628530226, \"reference\": 0.04880880669747688}, {\"X1\": 2, \"X2\": 4, \"method\": \"Monte Carlo (N = 10000)\", \"value\": 0.0534352840794659, \"reference\": 0.05289464878826943}, {\"X1\": 3, \"X2\": 4, \"method\": \"Monte Carlo (N = 10000)\", \"value\": 0.056605884034120965, \"reference\": 0.05703369622545977}, {\"X1\": 1, \"X2\": 5, \"method\": \"Monte Carlo (N = 10000)\", \"value\": 0.059525839650379976, \"reference\": 0.05960835097902881}, {\"X1\": 2, \"X2\": 5, \"method\": \"Monte Carlo (N = 10000)\", \"value\": 0.06486885471997166, \"reference\": 0.0638894070508236}, {\"X1\": 3, \"X2\": 5, \"method\": \"Monte Carlo (N = 10000)\", \"value\": 0.0676245663902552, \"reference\": 0.06669506805786005}, {\"X1\": 1, \"X2\": 1, \"method\": \"Monte Carlo (N = 100000)\", \"value\": 0.012242788770480056, \"reference\": 0.012218866508919912}, {\"X1\": 2, \"X2\": 1, \"method\": \"Monte Carlo (N = 100000)\", \"value\": 0.015204773488679579, \"reference\": 0.01523385239985933}, {\"X1\": 3, \"X2\": 1, \"method\": \"Monte Carlo (N = 100000)\", \"value\": 0.01882129497875933, \"reference\": 0.018887946329746785}, {\"X1\": 1, \"X2\": 2, \"method\": \"Monte Carlo (N = 100000)\", \"value\": 0.022044153068402794, \"reference\": 0.022096954948329226}, {\"X1\": 2, \"X2\": 2, \"method\": \"Monte Carlo (N = 100000)\", \"value\": 0.025360489439430388, \"reference\": 0.02545996816106664}, {\"X1\": 3, \"X2\": 2, \"method\": \"Monte Carlo (N = 100000)\", \"value\": 0.02843717213245211, \"reference\": 0.028233489620669176}, {\"X1\": 1, \"X2\": 3, \"method\": \"Monte Carlo (N = 100000)\", \"value\": 0.03424143671338346, \"reference\": 0.03426465747588373}, {\"X1\": 2, \"X2\": 3, \"method\": \"Monte Carlo (N = 100000)\", \"value\": 0.0375261222153061, \"reference\": 0.03773362227611468}, {\"X1\": 3, \"X2\": 3, \"method\": \"Monte Carlo (N = 100000)\", \"value\": 0.0405723932095491, \"reference\": 0.04064047068237904}, {\"X1\": 1, \"X2\": 4, \"method\": \"Monte Carlo (N = 100000)\", \"value\": 0.048899694716809716, \"reference\": 0.04880880669747688}, {\"X1\": 2, \"X2\": 4, \"method\": \"Monte Carlo (N = 100000)\", \"value\": 0.05283232071523052, \"reference\": 0.05289464878826943}, {\"X1\": 3, \"X2\": 4, \"method\": \"Monte Carlo (N = 100000)\", \"value\": 0.05662283685564648, \"reference\": 0.05703369622545977}, {\"X1\": 1, \"X2\": 5, \"method\": \"Monte Carlo (N = 100000)\", \"value\": 0.059422492324898955, \"reference\": 0.05960835097902881}, {\"X1\": 2, \"X2\": 5, \"method\": \"Monte Carlo (N = 100000)\", \"value\": 0.06382657555476805, \"reference\": 0.0638894070508236}, {\"X1\": 3, \"X2\": 5, \"method\": \"Monte Carlo (N = 100000)\", \"value\": 0.06665577071106385, \"reference\": 0.06669506805786005}, {\"X1\": 1, \"X2\": 1, \"method\": \"Uncertainty propagation method\", \"value\": 0.011745743564998565, \"reference\": 0.012218866508919912}, {\"X1\": 2, \"X2\": 1, \"method\": \"Uncertainty propagation method\", \"value\": 0.014746800743295882, \"reference\": 0.01523385239985933}, {\"X1\": 3, \"X2\": 1, \"method\": \"Uncertainty propagation method\", \"value\": 0.01822722574173685, \"reference\": 0.018887946329746785}, {\"X1\": 1, \"X2\": 2, \"method\": \"Uncertainty propagation method\", \"value\": 0.021545077977265157, \"reference\": 0.022096954948329226}, {\"X1\": 2, \"X2\": 2, \"method\": \"Uncertainty propagation method\", \"value\": 0.024796509571526314, \"reference\": 0.02545996816106664}, {\"X1\": 3, \"X2\": 2, \"method\": \"Uncertainty propagation method\", \"value\": 0.027529493612554138, \"reference\": 0.028233489620669176}, {\"X1\": 1, \"X2\": 3, \"method\": \"Uncertainty propagation method\", \"value\": 0.033377022150674826, \"reference\": 0.03426465747588373}, {\"X1\": 2, \"X2\": 3, \"method\": \"Uncertainty propagation method\", \"value\": 0.036860861600944914, \"reference\": 0.03773362227611468}, {\"X1\": 3, \"X2\": 3, \"method\": \"Uncertainty propagation method\", \"value\": 0.03953187402760226, \"reference\": 0.04064047068237904}, {\"X1\": 1, \"X2\": 4, \"method\": \"Uncertainty propagation method\", \"value\": 0.046833908551462675, \"reference\": 0.04880880669747688}, {\"X1\": 2, \"X2\": 4, \"method\": \"Uncertainty propagation method\", \"value\": 0.0507227580231168, \"reference\": 0.05289464878826943}, {\"X1\": 3, \"X2\": 4, \"method\": \"Uncertainty propagation method\", \"value\": 0.054500208854164074, \"reference\": 0.05703369622545977}, {\"X1\": 1, \"X2\": 5, \"method\": \"Uncertainty propagation method\", \"value\": 0.057423682631482405, \"reference\": 0.05960835097902881}, {\"X1\": 2, \"X2\": 5, \"method\": \"Uncertainty propagation method\", \"value\": 0.06180801062350869, \"reference\": 0.0638894070508236}, {\"X1\": 3, \"X2\": 5, \"method\": \"Uncertainty propagation method\", \"value\": 0.06418546355696782, \"reference\": 0.06669506805786005}]}}, {\"mode\": \"vega-lite\"});\n",
       "</script>"
      ],
      "text/plain": [
       "alt.FacetChart(...)"
      ]
     },
     "execution_count": 69,
     "metadata": {},
     "output_type": "execute_result"
    }
   ],
   "source": [
    "points = alt.Chart().mark_point(size=60).encode(\n",
    "    x=alt.X('reference:Q', scale=alt.Scale(domain=[min_x, max_x], zero=False), axis=alt.Axis(title='Σ₀')),\n",
    "    y=alt.Y('value:Q', scale=alt.Scale(domain=[min_x, max_x], zero=False), axis=alt.Axis(title='Σ')),\n",
    "    color=alt.Color('X1:N', legend=None),\n",
    "    shape=alt.Shape('X2:N', legend=None)\n",
    ")\n",
    "diagonal = alt.Chart().mark_rule(strokeDash=[8, 8]).encode(\n",
    "    x=alt.value(0),\n",
    "    x2=alt.value('width'),\n",
    "    y=alt.value('height'),\n",
    "    y2=alt.value(0)\n",
    ")\n",
    "chart = alt.layer(\n",
    "    diagonal,\n",
    "    points,\n",
    "    data=df\n",
    ").facet(\n",
    "    column=alt.Column('method:N',\n",
    "        sort=['Uncertainty propagation method'] + [('Monte Carlo (N = ' + str(N) + ')') for N in Ns],\n",
    "        title=None,\n",
    "        header=alt.Header(labelFontSize=18)\n",
    "    )\n",
    ").configure_axis(\n",
    "    labelFontSize=18,\n",
    "    titleFontSize=18\n",
    ")\n",
    "chart"
   ]
  },
  {
   "cell_type": "code",
   "execution_count": 70,
   "id": "8fc8b66f-ce96-451d-ba85-89a74f910398",
   "metadata": {},
   "outputs": [],
   "source": [
    "chart.save('variance_comparison.svg')"
   ]
  },
  {
   "cell_type": "markdown",
   "id": "72378009-d396-4079-afa4-2962c4508d03",
   "metadata": {},
   "source": [
    "We compare the 2.5% percentiles for both methods."
   ]
  },
  {
   "cell_type": "code",
   "execution_count": 71,
   "id": "120962f1-47fa-45cc-91d5-a8e02ae5fc1e",
   "metadata": {},
   "outputs": [],
   "source": [
    "simulations = []\n",
    "for (N, beta) in zip(Ns, betas):\n",
    "    simulations.append( \\\n",
    "        pd.DataFrame({'X1': x1, \\\n",
    "                      'X2': x2, \\\n",
    "                      'method': np.repeat('Monte Carlo (N = ' + str(N) + ')', len(x1)), \\\n",
    "                      'value': np.quantile(beta, 0.025, axis=0)})\n",
    "    )\n",
    "delta_method = pd.DataFrame({'X1': x1, \\\n",
    "                             'X2': x2, \\\n",
    "                             'method': np.repeat('Uncertainty propagation method', len(x1)), \\\n",
    "                             'value': df_raked.loc[df_raked.Type=='Raked'].Value + \\\n",
    "                                 np.sqrt(np.diag(covariance_0)) * norm.ppf(0.025, 0, 1)})\n",
    "simulations.append(delta_method)\n",
    "simulations = pd.concat(simulations)\n",
    "\n",
    "reference = pd.DataFrame({'X1': x1, \\\n",
    "                          'X2': x2, \\\n",
    "                          'reference': np.quantile(beta_ref, 0.025, axis=0)})\n",
    "df = simulations.merge(reference, how='left', on=['X1', 'X2'])"
   ]
  },
  {
   "cell_type": "code",
   "execution_count": 72,
   "id": "801a3149-b99c-43f8-be30-d5113877493d",
   "metadata": {},
   "outputs": [],
   "source": [
    "min_x = 1.2\n",
    "max_x = 2.8"
   ]
  },
  {
   "cell_type": "code",
   "execution_count": 73,
   "id": "ecb90f57-4639-4859-aae0-0573dd10177b",
   "metadata": {},
   "outputs": [
    {
     "data": {
      "text/html": [
       "\n",
       "<style>\n",
       "  #altair-viz-7900cdf8f19545569dd0bb58182c571d.vega-embed {\n",
       "    width: 100%;\n",
       "    display: flex;\n",
       "  }\n",
       "\n",
       "  #altair-viz-7900cdf8f19545569dd0bb58182c571d.vega-embed details,\n",
       "  #altair-viz-7900cdf8f19545569dd0bb58182c571d.vega-embed details summary {\n",
       "    position: relative;\n",
       "  }\n",
       "</style>\n",
       "<div id=\"altair-viz-7900cdf8f19545569dd0bb58182c571d\"></div>\n",
       "<script type=\"text/javascript\">\n",
       "  var VEGA_DEBUG = (typeof VEGA_DEBUG == \"undefined\") ? {} : VEGA_DEBUG;\n",
       "  (function(spec, embedOpt){\n",
       "    let outputDiv = document.currentScript.previousElementSibling;\n",
       "    if (outputDiv.id !== \"altair-viz-7900cdf8f19545569dd0bb58182c571d\") {\n",
       "      outputDiv = document.getElementById(\"altair-viz-7900cdf8f19545569dd0bb58182c571d\");\n",
       "    }\n",
       "\n",
       "    const paths = {\n",
       "      \"vega\": \"https://cdn.jsdelivr.net/npm/vega@5?noext\",\n",
       "      \"vega-lib\": \"https://cdn.jsdelivr.net/npm/vega-lib?noext\",\n",
       "      \"vega-lite\": \"https://cdn.jsdelivr.net/npm/vega-lite@5.20.1?noext\",\n",
       "      \"vega-embed\": \"https://cdn.jsdelivr.net/npm/vega-embed@6?noext\",\n",
       "    };\n",
       "\n",
       "    function maybeLoadScript(lib, version) {\n",
       "      var key = `${lib.replace(\"-\", \"\")}_version`;\n",
       "      return (VEGA_DEBUG[key] == version) ?\n",
       "        Promise.resolve(paths[lib]) :\n",
       "        new Promise(function(resolve, reject) {\n",
       "          var s = document.createElement('script');\n",
       "          document.getElementsByTagName(\"head\")[0].appendChild(s);\n",
       "          s.async = true;\n",
       "          s.onload = () => {\n",
       "            VEGA_DEBUG[key] = version;\n",
       "            return resolve(paths[lib]);\n",
       "          };\n",
       "          s.onerror = () => reject(`Error loading script: ${paths[lib]}`);\n",
       "          s.src = paths[lib];\n",
       "        });\n",
       "    }\n",
       "\n",
       "    function showError(err) {\n",
       "      outputDiv.innerHTML = `<div class=\"error\" style=\"color:red;\">${err}</div>`;\n",
       "      throw err;\n",
       "    }\n",
       "\n",
       "    function displayChart(vegaEmbed) {\n",
       "      vegaEmbed(outputDiv, spec, embedOpt)\n",
       "        .catch(err => showError(`Javascript Error: ${err.message}<br>This usually means there's a typo in your chart specification. See the javascript console for the full traceback.`));\n",
       "    }\n",
       "\n",
       "    if(typeof define === \"function\" && define.amd) {\n",
       "      requirejs.config({paths});\n",
       "      let deps = [\"vega-embed\"];\n",
       "      require(deps, displayChart, err => showError(`Error loading script: ${err.message}`));\n",
       "    } else {\n",
       "      maybeLoadScript(\"vega\", \"5\")\n",
       "        .then(() => maybeLoadScript(\"vega-lite\", \"5.20.1\"))\n",
       "        .then(() => maybeLoadScript(\"vega-embed\", \"6\"))\n",
       "        .catch(showError)\n",
       "        .then(() => displayChart(vegaEmbed));\n",
       "    }\n",
       "  })({\"config\": {\"view\": {\"continuousWidth\": 300, \"continuousHeight\": 300}, \"axis\": {\"labelFontSize\": 18, \"titleFontSize\": 18}}, \"data\": {\"name\": \"data-8d13ddce8e6281b596f7b6b1be758baf\"}, \"facet\": {\"column\": {\"field\": \"method\", \"header\": {\"labelFontSize\": 18}, \"sort\": [\"Uncertainty propagation method\", \"Monte Carlo (N = 100)\", \"Monte Carlo (N = 1000)\", \"Monte Carlo (N = 10000)\", \"Monte Carlo (N = 100000)\"], \"title\": null, \"type\": \"nominal\"}}, \"spec\": {\"layer\": [{\"mark\": {\"type\": \"rule\", \"strokeDash\": [8, 8]}, \"encoding\": {\"x\": {\"value\": 0}, \"x2\": {\"value\": \"width\"}, \"y\": {\"value\": \"height\"}, \"y2\": {\"value\": 0}}}, {\"mark\": {\"type\": \"point\", \"size\": 60}, \"encoding\": {\"color\": {\"field\": \"X1\", \"legend\": null, \"type\": \"nominal\"}, \"shape\": {\"field\": \"X2\", \"legend\": null, \"type\": \"nominal\"}, \"x\": {\"axis\": {\"title\": \"\\u03a3\\u2080\"}, \"field\": \"reference\", \"scale\": {\"domain\": [1.2, 2.8], \"zero\": false}, \"type\": \"quantitative\"}, \"y\": {\"axis\": {\"title\": \"\\u03a3\"}, \"field\": \"value\", \"scale\": {\"domain\": [1.2, 2.8], \"zero\": false}, \"type\": \"quantitative\"}}}]}, \"$schema\": \"https://vega.github.io/schema/vega-lite/v5.20.1.json\", \"datasets\": {\"data-8d13ddce8e6281b596f7b6b1be758baf\": [{\"X1\": 1, \"X2\": 1, \"method\": \"Monte Carlo (N = 100)\", \"value\": 2.377555904444464, \"reference\": 2.376820328702072}, {\"X1\": 2, \"X2\": 1, \"method\": \"Monte Carlo (N = 100)\", \"value\": 2.708704928715905, \"reference\": 2.6833609383129944}, {\"X1\": 3, \"X2\": 1, \"method\": \"Monte Carlo (N = 100)\", \"value\": 2.668115725863526, \"reference\": 2.589834810778284}, {\"X1\": 1, \"X2\": 2, \"method\": \"Monte Carlo (N = 100)\", \"value\": 1.9977044576687926, \"reference\": 1.9607045582199036}, {\"X1\": 2, \"X2\": 2, \"method\": \"Monte Carlo (N = 100)\", \"value\": 2.356887625132376, \"reference\": 2.3623402262259123}, {\"X1\": 3, \"X2\": 2, \"method\": \"Monte Carlo (N = 100)\", \"value\": 1.647877058935684, \"reference\": 1.6258214601694512}, {\"X1\": 1, \"X2\": 3, \"method\": \"Monte Carlo (N = 100)\", \"value\": 1.770513677239153, \"reference\": 1.7589085813814784}, {\"X1\": 2, \"X2\": 3, \"method\": \"Monte Carlo (N = 100)\", \"value\": 2.2748093149527633, \"reference\": 2.254292783101626}, {\"X1\": 3, \"X2\": 3, \"method\": \"Monte Carlo (N = 100)\", \"value\": 2.467337127936002, \"reference\": 2.4746084436682265}, {\"X1\": 1, \"X2\": 4, \"method\": \"Monte Carlo (N = 100)\", \"value\": 1.6126478962507427, \"reference\": 1.6446741350749312}, {\"X1\": 2, \"X2\": 4, \"method\": \"Monte Carlo (N = 100)\", \"value\": 2.066813695086831, \"reference\": 2.1097403368585863}, {\"X1\": 3, \"X2\": 4, \"method\": \"Monte Carlo (N = 100)\", \"value\": 1.2967074897747937, \"reference\": 1.4732100954806187}, {\"X1\": 1, \"X2\": 5, \"method\": \"Monte Carlo (N = 100)\", \"value\": 2.27980814422938, \"reference\": 2.253401707844561}, {\"X1\": 2, \"X2\": 5, \"method\": \"Monte Carlo (N = 100)\", \"value\": 2.43809631437804, \"reference\": 2.440377873908211}, {\"X1\": 3, \"X2\": 5, \"method\": \"Monte Carlo (N = 100)\", \"value\": 2.353389993276741, \"reference\": 2.287624361163373}, {\"X1\": 1, \"X2\": 1, \"method\": \"Monte Carlo (N = 1000)\", \"value\": 2.376657952568106, \"reference\": 2.376820328702072}, {\"X1\": 2, \"X2\": 1, \"method\": \"Monte Carlo (N = 1000)\", \"value\": 2.711180514796018, \"reference\": 2.6833609383129944}, {\"X1\": 3, \"X2\": 1, \"method\": \"Monte Carlo (N = 1000)\", \"value\": 2.6028112084629473, \"reference\": 2.589834810778284}, {\"X1\": 1, \"X2\": 2, \"method\": \"Monte Carlo (N = 1000)\", \"value\": 1.9424129924889741, \"reference\": 1.9607045582199036}, {\"X1\": 2, \"X2\": 2, \"method\": \"Monte Carlo (N = 1000)\", \"value\": 2.3741823172447836, \"reference\": 2.3623402262259123}, {\"X1\": 3, \"X2\": 2, \"method\": \"Monte Carlo (N = 1000)\", \"value\": 1.6497829334820047, \"reference\": 1.6258214601694512}, {\"X1\": 1, \"X2\": 3, \"method\": \"Monte Carlo (N = 1000)\", \"value\": 1.7429615404266507, \"reference\": 1.7589085813814784}, {\"X1\": 2, \"X2\": 3, \"method\": \"Monte Carlo (N = 1000)\", \"value\": 2.2199425549886116, \"reference\": 2.254292783101626}, {\"X1\": 3, \"X2\": 3, \"method\": \"Monte Carlo (N = 1000)\", \"value\": 2.5149119177911476, \"reference\": 2.4746084436682265}, {\"X1\": 1, \"X2\": 4, \"method\": \"Monte Carlo (N = 1000)\", \"value\": 1.6163877596703815, \"reference\": 1.6446741350749312}, {\"X1\": 2, \"X2\": 4, \"method\": \"Monte Carlo (N = 1000)\", \"value\": 2.0983921897702698, \"reference\": 2.1097403368585863}, {\"X1\": 3, \"X2\": 4, \"method\": \"Monte Carlo (N = 1000)\", \"value\": 1.4712446373555315, \"reference\": 1.4732100954806187}, {\"X1\": 1, \"X2\": 5, \"method\": \"Monte Carlo (N = 1000)\", \"value\": 2.2680913995110963, \"reference\": 2.253401707844561}, {\"X1\": 2, \"X2\": 5, \"method\": \"Monte Carlo (N = 1000)\", \"value\": 2.455154354377002, \"reference\": 2.440377873908211}, {\"X1\": 3, \"X2\": 5, \"method\": \"Monte Carlo (N = 1000)\", \"value\": 2.3066965139634092, \"reference\": 2.287624361163373}, {\"X1\": 1, \"X2\": 1, \"method\": \"Monte Carlo (N = 10000)\", \"value\": 2.37675654226534, \"reference\": 2.376820328702072}, {\"X1\": 2, \"X2\": 1, \"method\": \"Monte Carlo (N = 10000)\", \"value\": 2.6865843398746914, \"reference\": 2.6833609383129944}, {\"X1\": 3, \"X2\": 1, \"method\": \"Monte Carlo (N = 10000)\", \"value\": 2.588769457576058, \"reference\": 2.589834810778284}, {\"X1\": 1, \"X2\": 2, \"method\": \"Monte Carlo (N = 10000)\", \"value\": 1.9631069911824923, \"reference\": 1.9607045582199036}, {\"X1\": 2, \"X2\": 2, \"method\": \"Monte Carlo (N = 10000)\", \"value\": 2.363246389010136, \"reference\": 2.3623402262259123}, {\"X1\": 3, \"X2\": 2, \"method\": \"Monte Carlo (N = 10000)\", \"value\": 1.6291671783177362, \"reference\": 1.6258214601694512}, {\"X1\": 1, \"X2\": 3, \"method\": \"Monte Carlo (N = 10000)\", \"value\": 1.7644284187727892, \"reference\": 1.7589085813814784}, {\"X1\": 2, \"X2\": 3, \"method\": \"Monte Carlo (N = 10000)\", \"value\": 2.2443425664009196, \"reference\": 2.254292783101626}, {\"X1\": 3, \"X2\": 3, \"method\": \"Monte Carlo (N = 10000)\", \"value\": 2.484773145889673, \"reference\": 2.4746084436682265}, {\"X1\": 1, \"X2\": 4, \"method\": \"Monte Carlo (N = 10000)\", \"value\": 1.643242537768124, \"reference\": 1.6446741350749312}, {\"X1\": 2, \"X2\": 4, \"method\": \"Monte Carlo (N = 10000)\", \"value\": 2.102216269448844, \"reference\": 2.1097403368585863}, {\"X1\": 3, \"X2\": 4, \"method\": \"Monte Carlo (N = 10000)\", \"value\": 1.4758813025374748, \"reference\": 1.4732100954806187}, {\"X1\": 1, \"X2\": 5, \"method\": \"Monte Carlo (N = 10000)\", \"value\": 2.2510922236686315, \"reference\": 2.253401707844561}, {\"X1\": 2, \"X2\": 5, \"method\": \"Monte Carlo (N = 10000)\", \"value\": 2.433002603884389, \"reference\": 2.440377873908211}, {\"X1\": 3, \"X2\": 5, \"method\": \"Monte Carlo (N = 10000)\", \"value\": 2.2914634370141056, \"reference\": 2.287624361163373}, {\"X1\": 1, \"X2\": 1, \"method\": \"Monte Carlo (N = 100000)\", \"value\": 2.3766216137913845, \"reference\": 2.376820328702072}, {\"X1\": 2, \"X2\": 1, \"method\": \"Monte Carlo (N = 100000)\", \"value\": 2.682536658331729, \"reference\": 2.6833609383129944}, {\"X1\": 3, \"X2\": 1, \"method\": \"Monte Carlo (N = 100000)\", \"value\": 2.5902817322995046, \"reference\": 2.589834810778284}, {\"X1\": 1, \"X2\": 2, \"method\": \"Monte Carlo (N = 100000)\", \"value\": 1.961034428511174, \"reference\": 1.9607045582199036}, {\"X1\": 2, \"X2\": 2, \"method\": \"Monte Carlo (N = 100000)\", \"value\": 2.362729742462268, \"reference\": 2.3623402262259123}, {\"X1\": 3, \"X2\": 2, \"method\": \"Monte Carlo (N = 100000)\", \"value\": 1.6252404927440005, \"reference\": 1.6258214601694512}, {\"X1\": 1, \"X2\": 3, \"method\": \"Monte Carlo (N = 100000)\", \"value\": 1.7588180004771083, \"reference\": 1.7589085813814784}, {\"X1\": 2, \"X2\": 3, \"method\": \"Monte Carlo (N = 100000)\", \"value\": 2.2554276543495697, \"reference\": 2.254292783101626}, {\"X1\": 3, \"X2\": 3, \"method\": \"Monte Carlo (N = 100000)\", \"value\": 2.4744862882783156, \"reference\": 2.4746084436682265}, {\"X1\": 1, \"X2\": 4, \"method\": \"Monte Carlo (N = 100000)\", \"value\": 1.6429744118216827, \"reference\": 1.6446741350749312}, {\"X1\": 2, \"X2\": 4, \"method\": \"Monte Carlo (N = 100000)\", \"value\": 2.111007307227605, \"reference\": 2.1097403368585863}, {\"X1\": 3, \"X2\": 4, \"method\": \"Monte Carlo (N = 100000)\", \"value\": 1.4764287067887554, \"reference\": 1.4732100954806187}, {\"X1\": 1, \"X2\": 5, \"method\": \"Monte Carlo (N = 100000)\", \"value\": 2.253942650422645, \"reference\": 2.253401707844561}, {\"X1\": 2, \"X2\": 5, \"method\": \"Monte Carlo (N = 100000)\", \"value\": 2.4393633769706127, \"reference\": 2.440377873908211}, {\"X1\": 3, \"X2\": 5, \"method\": \"Monte Carlo (N = 100000)\", \"value\": 2.287908970681203, \"reference\": 2.287624361163373}, {\"X1\": 1, \"X2\": 1, \"method\": \"Uncertainty propagation method\", \"value\": 2.3775249593390657, \"reference\": 2.376820328702072}, {\"X1\": 2, \"X2\": 1, \"method\": \"Uncertainty propagation method\", \"value\": 2.687197171860207, \"reference\": 2.6833609383129944}, {\"X1\": 3, \"X2\": 1, \"method\": \"Uncertainty propagation method\", \"value\": 2.585810926512977, \"reference\": 2.589834810778284}, {\"X1\": 1, \"X2\": 2, \"method\": \"Uncertainty propagation method\", \"value\": 1.9589101766183719, \"reference\": 1.9607045582199036}, {\"X1\": 2, \"X2\": 2, \"method\": \"Uncertainty propagation method\", \"value\": 2.3624831951159595, \"reference\": 2.3623402262259123}, {\"X1\": 3, \"X2\": 2, \"method\": \"Uncertainty propagation method\", \"value\": 1.6362482074211757, \"reference\": 1.6258214601694512}, {\"X1\": 1, \"X2\": 3, \"method\": \"Uncertainty propagation method\", \"value\": 1.7689802253062872, \"reference\": 1.7589085813814784}, {\"X1\": 2, \"X2\": 3, \"method\": \"Uncertainty propagation method\", \"value\": 2.2599298371960095, \"reference\": 2.254292783101626}, {\"X1\": 3, \"X2\": 3, \"method\": \"Uncertainty propagation method\", \"value\": 2.4749017975150656, \"reference\": 2.4746084436682265}, {\"X1\": 1, \"X2\": 4, \"method\": \"Uncertainty propagation method\", \"value\": 1.6554719506796296, \"reference\": 1.6446741350749312}, {\"X1\": 2, \"X2\": 4, \"method\": \"Uncertainty propagation method\", \"value\": 2.1122334254122364, \"reference\": 2.1097403368585863}, {\"X1\": 3, \"X2\": 4, \"method\": \"Uncertainty propagation method\", \"value\": 1.5028977412691837, \"reference\": 1.4732100954806187}, {\"X1\": 1, \"X2\": 5, \"method\": \"Uncertainty propagation method\", \"value\": 2.264625007753816, \"reference\": 2.253401707844561}, {\"X1\": 2, \"X2\": 5, \"method\": \"Uncertainty propagation method\", \"value\": 2.45411155657334, \"reference\": 2.440377873908211}, {\"X1\": 3, \"X2\": 5, \"method\": \"Uncertainty propagation method\", \"value\": 2.3057646019347766, \"reference\": 2.287624361163373}]}}, {\"mode\": \"vega-lite\"});\n",
       "</script>"
      ],
      "text/plain": [
       "alt.FacetChart(...)"
      ]
     },
     "execution_count": 73,
     "metadata": {},
     "output_type": "execute_result"
    }
   ],
   "source": [
    "points = alt.Chart().mark_point(size=60).encode(\n",
    "    x=alt.X('reference:Q', scale=alt.Scale(domain=[min_x, max_x], zero=False), axis=alt.Axis(title='Σ₀')),\n",
    "    y=alt.Y('value:Q', scale=alt.Scale(domain=[min_x, max_x], zero=False), axis=alt.Axis(title='Σ')),\n",
    "    color=alt.Color('X1:N', legend=None),\n",
    "    shape=alt.Shape('X2:N', legend=None)\n",
    ")\n",
    "diagonal = alt.Chart().mark_rule(strokeDash=[8, 8]).encode(\n",
    "    x=alt.value(0),\n",
    "    x2=alt.value('width'),\n",
    "    y=alt.value('height'),\n",
    "    y2=alt.value(0)\n",
    ")\n",
    "chart = alt.layer(\n",
    "    diagonal,\n",
    "    points,\n",
    "    data=df\n",
    ").facet(\n",
    "    column=alt.Column('method:N',\n",
    "        sort=['Uncertainty propagation method'] + [('Monte Carlo (N = ' + str(N) + ')') for N in Ns],\n",
    "        title=None,\n",
    "        header=alt.Header(labelFontSize=18)\n",
    "    )\n",
    ").configure_axis(\n",
    "    labelFontSize=18,\n",
    "    titleFontSize=18\n",
    ")\n",
    "chart"
   ]
  },
  {
   "cell_type": "code",
   "execution_count": 74,
   "id": "3217195f-f867-492b-abcc-77d4de0da3c9",
   "metadata": {},
   "outputs": [],
   "source": [
    "chart.save('lower_interval_comparison.svg')"
   ]
  },
  {
   "cell_type": "markdown",
   "id": "0d8b7a5d-b81a-40d7-aa52-a74f36adcf26",
   "metadata": {},
   "source": [
    "We compare the 97.55% percentiles for both methods."
   ]
  },
  {
   "cell_type": "code",
   "execution_count": 75,
   "id": "9500a268-c649-4569-9990-9f9e0fc11b51",
   "metadata": {},
   "outputs": [],
   "source": [
    "simulations = []\n",
    "for (N, beta) in zip(Ns, betas):\n",
    "    simulations.append( \\\n",
    "        pd.DataFrame({'X1': x1, \\\n",
    "                      'X2': x2, \\\n",
    "                      'method': np.repeat('Monte Carlo (N = ' + str(N) + ')', len(x1)), \\\n",
    "                      'value': np.quantile(beta, 0.975, axis=0)})\n",
    "    )\n",
    "delta_method = pd.DataFrame({'X1': x1, \\\n",
    "                             'X2': x2, \\\n",
    "                             'method': np.repeat('Uncertainty propagation method', len(x1)), \\\n",
    "                             'value': df_raked.loc[df_raked.Type=='Raked'].Value + \\\n",
    "                                 np.sqrt(np.diag(covariance_0)) * norm.ppf(0.975, 0, 1)})\n",
    "simulations.append(delta_method)\n",
    "simulations = pd.concat(simulations)\n",
    "\n",
    "reference = pd.DataFrame({'X1': x1, \\\n",
    "                          'X2': x2, \\\n",
    "                          'reference': np.quantile(beta_ref, 0.975, axis=0)})\n",
    "df = simulations.merge(reference, how='left', on=['X1', 'X2'])"
   ]
  },
  {
   "cell_type": "code",
   "execution_count": 76,
   "id": "8992e0ab-c67f-4f78-b5b4-3fd0d9ad0ce7",
   "metadata": {},
   "outputs": [],
   "source": [
    "min_x = 2.2\n",
    "max_x = 3.5"
   ]
  },
  {
   "cell_type": "code",
   "execution_count": 77,
   "id": "c026e22b-27cb-4147-9b2f-2418bce1df27",
   "metadata": {},
   "outputs": [
    {
     "data": {
      "text/html": [
       "\n",
       "<style>\n",
       "  #altair-viz-d75b3400f1014f47b83d5e3d595e0103.vega-embed {\n",
       "    width: 100%;\n",
       "    display: flex;\n",
       "  }\n",
       "\n",
       "  #altair-viz-d75b3400f1014f47b83d5e3d595e0103.vega-embed details,\n",
       "  #altair-viz-d75b3400f1014f47b83d5e3d595e0103.vega-embed details summary {\n",
       "    position: relative;\n",
       "  }\n",
       "</style>\n",
       "<div id=\"altair-viz-d75b3400f1014f47b83d5e3d595e0103\"></div>\n",
       "<script type=\"text/javascript\">\n",
       "  var VEGA_DEBUG = (typeof VEGA_DEBUG == \"undefined\") ? {} : VEGA_DEBUG;\n",
       "  (function(spec, embedOpt){\n",
       "    let outputDiv = document.currentScript.previousElementSibling;\n",
       "    if (outputDiv.id !== \"altair-viz-d75b3400f1014f47b83d5e3d595e0103\") {\n",
       "      outputDiv = document.getElementById(\"altair-viz-d75b3400f1014f47b83d5e3d595e0103\");\n",
       "    }\n",
       "\n",
       "    const paths = {\n",
       "      \"vega\": \"https://cdn.jsdelivr.net/npm/vega@5?noext\",\n",
       "      \"vega-lib\": \"https://cdn.jsdelivr.net/npm/vega-lib?noext\",\n",
       "      \"vega-lite\": \"https://cdn.jsdelivr.net/npm/vega-lite@5.20.1?noext\",\n",
       "      \"vega-embed\": \"https://cdn.jsdelivr.net/npm/vega-embed@6?noext\",\n",
       "    };\n",
       "\n",
       "    function maybeLoadScript(lib, version) {\n",
       "      var key = `${lib.replace(\"-\", \"\")}_version`;\n",
       "      return (VEGA_DEBUG[key] == version) ?\n",
       "        Promise.resolve(paths[lib]) :\n",
       "        new Promise(function(resolve, reject) {\n",
       "          var s = document.createElement('script');\n",
       "          document.getElementsByTagName(\"head\")[0].appendChild(s);\n",
       "          s.async = true;\n",
       "          s.onload = () => {\n",
       "            VEGA_DEBUG[key] = version;\n",
       "            return resolve(paths[lib]);\n",
       "          };\n",
       "          s.onerror = () => reject(`Error loading script: ${paths[lib]}`);\n",
       "          s.src = paths[lib];\n",
       "        });\n",
       "    }\n",
       "\n",
       "    function showError(err) {\n",
       "      outputDiv.innerHTML = `<div class=\"error\" style=\"color:red;\">${err}</div>`;\n",
       "      throw err;\n",
       "    }\n",
       "\n",
       "    function displayChart(vegaEmbed) {\n",
       "      vegaEmbed(outputDiv, spec, embedOpt)\n",
       "        .catch(err => showError(`Javascript Error: ${err.message}<br>This usually means there's a typo in your chart specification. See the javascript console for the full traceback.`));\n",
       "    }\n",
       "\n",
       "    if(typeof define === \"function\" && define.amd) {\n",
       "      requirejs.config({paths});\n",
       "      let deps = [\"vega-embed\"];\n",
       "      require(deps, displayChart, err => showError(`Error loading script: ${err.message}`));\n",
       "    } else {\n",
       "      maybeLoadScript(\"vega\", \"5\")\n",
       "        .then(() => maybeLoadScript(\"vega-lite\", \"5.20.1\"))\n",
       "        .then(() => maybeLoadScript(\"vega-embed\", \"6\"))\n",
       "        .catch(showError)\n",
       "        .then(() => displayChart(vegaEmbed));\n",
       "    }\n",
       "  })({\"config\": {\"view\": {\"continuousWidth\": 300, \"continuousHeight\": 300}, \"axis\": {\"labelFontSize\": 18, \"titleFontSize\": 18}}, \"data\": {\"name\": \"data-a374c86f5c1a21af6d0b5043dfcd4eb5\"}, \"facet\": {\"column\": {\"field\": \"method\", \"header\": {\"labelFontSize\": 18}, \"sort\": [\"Uncertainty propagation method\", \"Monte Carlo (N = 100)\", \"Monte Carlo (N = 1000)\", \"Monte Carlo (N = 10000)\", \"Monte Carlo (N = 100000)\"], \"title\": null, \"type\": \"nominal\"}}, \"spec\": {\"layer\": [{\"mark\": {\"type\": \"rule\", \"strokeDash\": [8, 8]}, \"encoding\": {\"x\": {\"value\": 0}, \"x2\": {\"value\": \"width\"}, \"y\": {\"value\": \"height\"}, \"y2\": {\"value\": 0}}}, {\"mark\": {\"type\": \"point\", \"size\": 60}, \"encoding\": {\"color\": {\"field\": \"X1\", \"legend\": null, \"type\": \"nominal\"}, \"shape\": {\"field\": \"X2\", \"legend\": null, \"type\": \"nominal\"}, \"x\": {\"axis\": {\"title\": \"\\u03a3\\u2080\"}, \"field\": \"reference\", \"scale\": {\"domain\": [2.2, 3.5], \"zero\": false}, \"type\": \"quantitative\"}, \"y\": {\"axis\": {\"title\": \"\\u03a3\"}, \"field\": \"value\", \"scale\": {\"domain\": [2.2, 3.5], \"zero\": false}, \"type\": \"quantitative\"}}}]}, \"$schema\": \"https://vega.github.io/schema/vega-lite/v5.20.1.json\", \"datasets\": {\"data-a374c86f5c1a21af6d0b5043dfcd4eb5\": [{\"X1\": 1, \"X2\": 1, \"method\": \"Monte Carlo (N = 100)\", \"value\": 2.8041551959264766, \"reference\": 2.8114327369983307}, {\"X1\": 2, \"X2\": 1, \"method\": \"Monte Carlo (N = 100)\", \"value\": 3.156688967522699, \"reference\": 3.168868850634267}, {\"X1\": 3, \"X2\": 1, \"method\": \"Monte Carlo (N = 100)\", \"value\": 3.1430438101651363, \"reference\": 3.1290649578904537}, {\"X1\": 1, \"X2\": 2, \"method\": \"Monte Carlo (N = 100)\", \"value\": 2.5259593507593237, \"reference\": 2.544454427920859}, {\"X1\": 2, \"X2\": 2, \"method\": \"Monte Carlo (N = 100)\", \"value\": 2.943452426082088, \"reference\": 2.9890683785753684}, {\"X1\": 3, \"X2\": 2, \"method\": \"Monte Carlo (N = 100)\", \"value\": 2.269838309476788, \"reference\": 2.2864812275802273}, {\"X1\": 1, \"X2\": 3, \"method\": \"Monte Carlo (N = 100)\", \"value\": 2.462573078064288, \"reference\": 2.486217880388986}, {\"X1\": 2, \"X2\": 3, \"method\": \"Monte Carlo (N = 100)\", \"value\": 2.9520443914054737, \"reference\": 3.016646285925518}, {\"X1\": 3, \"X2\": 3, \"method\": \"Monte Carlo (N = 100)\", \"value\": 3.240515615928069, \"reference\": 3.2658414188918976}, {\"X1\": 1, \"X2\": 4, \"method\": \"Monte Carlo (N = 100)\", \"value\": 2.4996197795830652, \"reference\": 2.5135984193453154}, {\"X1\": 2, \"X2\": 4, \"method\": \"Monte Carlo (N = 100)\", \"value\": 3.0039937780437955, \"reference\": 3.013019692393826}, {\"X1\": 3, \"X2\": 4, \"method\": \"Monte Carlo (N = 100)\", \"value\": 2.2958800659647634, \"reference\": 2.412448154161459}, {\"X1\": 1, \"X2\": 5, \"method\": \"Monte Carlo (N = 100)\", \"value\": 3.186590277873976, \"reference\": 3.2131981398743408}, {\"X1\": 2, \"X2\": 5, \"method\": \"Monte Carlo (N = 100)\", \"value\": 3.39904130290881, \"reference\": 3.4338183460204723}, {\"X1\": 3, \"X2\": 5, \"method\": \"Monte Carlo (N = 100)\", \"value\": 3.3477795113560664, \"reference\": 3.303157787449}, {\"X1\": 1, \"X2\": 1, \"method\": \"Monte Carlo (N = 1000)\", \"value\": 2.8227461163736627, \"reference\": 2.8114327369983307}, {\"X1\": 2, \"X2\": 1, \"method\": \"Monte Carlo (N = 1000)\", \"value\": 3.1577014530812764, \"reference\": 3.168868850634267}, {\"X1\": 3, \"X2\": 1, \"method\": \"Monte Carlo (N = 1000)\", \"value\": 3.143740703073443, \"reference\": 3.1290649578904537}, {\"X1\": 1, \"X2\": 2, \"method\": \"Monte Carlo (N = 1000)\", \"value\": 2.546094205661109, \"reference\": 2.544454427920859}, {\"X1\": 2, \"X2\": 2, \"method\": \"Monte Carlo (N = 1000)\", \"value\": 2.979867692566713, \"reference\": 2.9890683785753684}, {\"X1\": 3, \"X2\": 2, \"method\": \"Monte Carlo (N = 1000)\", \"value\": 2.2673973348850085, \"reference\": 2.2864812275802273}, {\"X1\": 1, \"X2\": 3, \"method\": \"Monte Carlo (N = 1000)\", \"value\": 2.4676100354504196, \"reference\": 2.486217880388986}, {\"X1\": 2, \"X2\": 3, \"method\": \"Monte Carlo (N = 1000)\", \"value\": 3.0171693622557476, \"reference\": 3.016646285925518}, {\"X1\": 3, \"X2\": 3, \"method\": \"Monte Carlo (N = 1000)\", \"value\": 3.27567907951304, \"reference\": 3.2658414188918976}, {\"X1\": 1, \"X2\": 4, \"method\": \"Monte Carlo (N = 1000)\", \"value\": 2.5048267205892545, \"reference\": 2.5135984193453154}, {\"X1\": 2, \"X2\": 4, \"method\": \"Monte Carlo (N = 1000)\", \"value\": 3.0062950733035536, \"reference\": 3.013019692393826}, {\"X1\": 3, \"X2\": 4, \"method\": \"Monte Carlo (N = 1000)\", \"value\": 2.404371289497986, \"reference\": 2.412448154161459}, {\"X1\": 1, \"X2\": 5, \"method\": \"Monte Carlo (N = 1000)\", \"value\": 3.2022788639492403, \"reference\": 3.2131981398743408}, {\"X1\": 2, \"X2\": 5, \"method\": \"Monte Carlo (N = 1000)\", \"value\": 3.4223411976330795, \"reference\": 3.4338183460204723}, {\"X1\": 3, \"X2\": 5, \"method\": \"Monte Carlo (N = 1000)\", \"value\": 3.275045735675896, \"reference\": 3.303157787449}, {\"X1\": 1, \"X2\": 1, \"method\": \"Monte Carlo (N = 10000)\", \"value\": 2.812365158359052, \"reference\": 2.8114327369983307}, {\"X1\": 2, \"X2\": 1, \"method\": \"Monte Carlo (N = 10000)\", \"value\": 3.171372103947953, \"reference\": 3.168868850634267}, {\"X1\": 3, \"X2\": 1, \"method\": \"Monte Carlo (N = 10000)\", \"value\": 3.1324101970846883, \"reference\": 3.1290649578904537}, {\"X1\": 1, \"X2\": 2, \"method\": \"Monte Carlo (N = 10000)\", \"value\": 2.5526267956944824, \"reference\": 2.544454427920859}, {\"X1\": 2, \"X2\": 2, \"method\": \"Monte Carlo (N = 10000)\", \"value\": 2.996337230527168, \"reference\": 2.9890683785753684}, {\"X1\": 3, \"X2\": 2, \"method\": \"Monte Carlo (N = 10000)\", \"value\": 2.2889788546756247, \"reference\": 2.2864812275802273}, {\"X1\": 1, \"X2\": 3, \"method\": \"Monte Carlo (N = 10000)\", \"value\": 2.4902992845684633, \"reference\": 2.486217880388986}, {\"X1\": 2, \"X2\": 3, \"method\": \"Monte Carlo (N = 10000)\", \"value\": 3.0216590335856552, \"reference\": 3.016646285925518}, {\"X1\": 3, \"X2\": 3, \"method\": \"Monte Carlo (N = 10000)\", \"value\": 3.2707437771940673, \"reference\": 3.2658414188918976}, {\"X1\": 1, \"X2\": 4, \"method\": \"Monte Carlo (N = 10000)\", \"value\": 2.5184583837213967, \"reference\": 2.5135984193453154}, {\"X1\": 2, \"X2\": 4, \"method\": \"Monte Carlo (N = 10000)\", \"value\": 3.0135771289119235, \"reference\": 3.013019692393826}, {\"X1\": 3, \"X2\": 4, \"method\": \"Monte Carlo (N = 10000)\", \"value\": 2.4177086709046067, \"reference\": 2.412448154161459}, {\"X1\": 1, \"X2\": 5, \"method\": \"Monte Carlo (N = 10000)\", \"value\": 3.212085374076748, \"reference\": 3.2131981398743408}, {\"X1\": 2, \"X2\": 5, \"method\": \"Monte Carlo (N = 10000)\", \"value\": 3.433520256949874, \"reference\": 3.4338183460204723}, {\"X1\": 3, \"X2\": 5, \"method\": \"Monte Carlo (N = 10000)\", \"value\": 3.304734529374545, \"reference\": 3.303157787449}, {\"X1\": 1, \"X2\": 1, \"method\": \"Monte Carlo (N = 100000)\", \"value\": 2.8120437142679426, \"reference\": 2.8114327369983307}, {\"X1\": 2, \"X2\": 1, \"method\": \"Monte Carlo (N = 100000)\", \"value\": 3.1671503092213817, \"reference\": 3.168868850634267}, {\"X1\": 3, \"X2\": 1, \"method\": \"Monte Carlo (N = 100000)\", \"value\": 3.129927980008789, \"reference\": 3.1290649578904537}, {\"X1\": 1, \"X2\": 2, \"method\": \"Monte Carlo (N = 100000)\", \"value\": 2.5439759368728834, \"reference\": 2.544454427920859}, {\"X1\": 2, \"X2\": 2, \"method\": \"Monte Carlo (N = 100000)\", \"value\": 2.984947307069035, \"reference\": 2.9890683785753684}, {\"X1\": 3, \"X2\": 2, \"method\": \"Monte Carlo (N = 100000)\", \"value\": 2.2866135270591306, \"reference\": 2.2864812275802273}, {\"X1\": 1, \"X2\": 3, \"method\": \"Monte Carlo (N = 100000)\", \"value\": 2.4840200185645696, \"reference\": 2.486217880388986}, {\"X1\": 2, \"X2\": 3, \"method\": \"Monte Carlo (N = 100000)\", \"value\": 3.015176889846433, \"reference\": 3.016646285925518}, {\"X1\": 3, \"X2\": 3, \"method\": \"Monte Carlo (N = 100000)\", \"value\": 3.2676491982378177, \"reference\": 3.2658414188918976}, {\"X1\": 1, \"X2\": 4, \"method\": \"Monte Carlo (N = 100000)\", \"value\": 2.5157021808676436, \"reference\": 2.5135984193453154}, {\"X1\": 2, \"X2\": 4, \"method\": \"Monte Carlo (N = 100000)\", \"value\": 3.0169700464337645, \"reference\": 3.013019692393826}, {\"X1\": 3, \"X2\": 4, \"method\": \"Monte Carlo (N = 100000)\", \"value\": 2.4092872870036453, \"reference\": 2.412448154161459}, {\"X1\": 1, \"X2\": 5, \"method\": \"Monte Carlo (N = 100000)\", \"value\": 3.214630072707082, \"reference\": 3.2131981398743408}, {\"X1\": 2, \"X2\": 5, \"method\": \"Monte Carlo (N = 100000)\", \"value\": 3.43424323929002, \"reference\": 3.4338183460204723}, {\"X1\": 3, \"X2\": 5, \"method\": \"Monte Carlo (N = 100000)\", \"value\": 3.303245208694369, \"reference\": 3.303157787449}, {\"X1\": 1, \"X2\": 1, \"method\": \"Uncertainty propagation method\", \"value\": 2.802358057029794, \"reference\": 2.8114327369983307}, {\"X1\": 2, \"X2\": 1, \"method\": \"Uncertainty propagation method\", \"value\": 3.163219136867506, \"reference\": 3.168868850634267}, {\"X1\": 3, \"X2\": 1, \"method\": \"Uncertainty propagation method\", \"value\": 3.115033515231101, \"reference\": 3.1290649578904537}, {\"X1\": 1, \"X2\": 2, \"method\": \"Uncertainty propagation method\", \"value\": 2.5342866788786154, \"reference\": 2.544454427920859}, {\"X1\": 2, \"X2\": 2, \"method\": \"Uncertainty propagation method\", \"value\": 2.9797506263512905, \"reference\": 2.9890683785753684}, {\"X1\": 3, \"X2\": 2, \"method\": \"Uncertainty propagation method\", \"value\": 2.286643213758674, \"reference\": 2.2864812275802273}, {\"X1\": 1, \"X2\": 3, \"method\": \"Uncertainty propagation method\", \"value\": 2.4851267358729814, \"reference\": 2.486217880388986}, {\"X1\": 2, \"X2\": 3, \"method\": \"Uncertainty propagation method\", \"value\": 3.012523969342508, \"reference\": 3.016646285925518}, {\"X1\": 3, \"X2\": 3, \"method\": \"Uncertainty propagation method\", \"value\": 3.2542863397839037, \"reference\": 3.2658414188918976}, {\"X1\": 1, \"X2\": 4, \"method\": \"Uncertainty propagation method\", \"value\": 2.5037891817025493, \"reference\": 2.5135984193453154}, {\"X1\": 2, \"X2\": 4, \"method\": \"Uncertainty propagation method\", \"value\": 2.9950683731070717, \"reference\": 3.013019692393826}, {\"X1\": 3, \"X2\": 4, \"method\": \"Uncertainty propagation method\", \"value\": 2.4180158932747062, \"reference\": 2.412448154161459}, {\"X1\": 1, \"X2\": 5, \"method\": \"Uncertainty propagation method\", \"value\": 3.2039667180199967, \"reference\": 3.2131981398743408}, {\"X1\": 2, \"X2\": 5, \"method\": \"Uncertainty propagation method\", \"value\": 3.4286533516734448, \"reference\": 3.4338183460204723}, {\"X1\": 3, \"X2\": 5, \"method\": \"Uncertainty propagation method\", \"value\": 3.2988724815556267, \"reference\": 3.303157787449}]}}, {\"mode\": \"vega-lite\"});\n",
       "</script>"
      ],
      "text/plain": [
       "alt.FacetChart(...)"
      ]
     },
     "execution_count": 77,
     "metadata": {},
     "output_type": "execute_result"
    }
   ],
   "source": [
    "points = alt.Chart().mark_point(size=60).encode(\n",
    "    x=alt.X('reference:Q', scale=alt.Scale(domain=[min_x, max_x], zero=False), axis=alt.Axis(title='Σ₀')),\n",
    "    y=alt.Y('value:Q', scale=alt.Scale(domain=[min_x, max_x], zero=False), axis=alt.Axis(title='Σ')),\n",
    "    color=alt.Color('X1:N', legend=None),\n",
    "    shape=alt.Shape('X2:N', legend=None)\n",
    ")\n",
    "diagonal = alt.Chart().mark_rule(strokeDash=[8, 8]).encode(\n",
    "    x=alt.value(0),\n",
    "    x2=alt.value('width'),\n",
    "    y=alt.value('height'),\n",
    "    y2=alt.value(0)\n",
    ")\n",
    "chart = alt.layer(\n",
    "    diagonal,\n",
    "    points,\n",
    "    data=df\n",
    ").facet(\n",
    "    column=alt.Column('method:N',\n",
    "        sort=['Uncertainty propagation method'] + [('Monte Carlo (N = ' + str(N) + ')') for N in Ns],\n",
    "        title=None,\n",
    "        header=alt.Header(labelFontSize=18)\n",
    "    )\n",
    ").configure_axis(\n",
    "    labelFontSize=18,\n",
    "    titleFontSize=18\n",
    ")\n",
    "chart"
   ]
  },
  {
   "cell_type": "code",
   "execution_count": 78,
   "id": "e09471df-854e-42a4-8d0c-fb84da5355a6",
   "metadata": {},
   "outputs": [],
   "source": [
    "chart.save('upper_interval_comparison.svg')"
   ]
  },
  {
   "cell_type": "code",
   "execution_count": null,
   "id": "fe63a400-bff3-4ffc-a3b8-d95123bcfa4b",
   "metadata": {},
   "outputs": [],
   "source": []
  }
 ],
 "metadata": {
  "kernelspec": {
   "display_name": "Python 3 (ipykernel)",
   "language": "python",
   "name": "python3"
  },
  "language_info": {
   "codemirror_mode": {
    "name": "ipython",
    "version": 3
   },
   "file_extension": ".py",
   "mimetype": "text/x-python",
   "name": "python",
   "nbconvert_exporter": "python",
   "pygments_lexer": "ipython3",
   "version": "3.12.10"
  }
 },
 "nbformat": 4,
 "nbformat_minor": 5
}
