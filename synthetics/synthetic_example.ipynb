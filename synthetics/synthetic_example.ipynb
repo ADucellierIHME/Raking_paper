{
 "cells": [
  {
   "cell_type": "markdown",
   "id": "5bb2c7cd-5a40-484c-9637-c4f2f6651a19",
   "metadata": {},
   "source": [
    "# Raking in 2D\n",
    "\n",
    "This notebook explains how to use the raking method on a small 2D example."
   ]
  },
  {
   "cell_type": "code",
   "execution_count": 1,
   "id": "0598f2c0-d7d2-4d90-a9ac-cca47125636e",
   "metadata": {},
   "outputs": [],
   "source": [
    "# Python modules\n",
    "import altair as alt\n",
    "import numpy as np\n",
    "import pandas as pd\n",
    "from scipy.stats import norm"
   ]
  },
  {
   "cell_type": "markdown",
   "id": "fb3bb8f7-8a43-4df1-93a3-bf329011f425",
   "metadata": {},
   "source": [
    "Modify this to see how much samples you need to get a good estimate of the mean and the covariance of the raked values with the Monte Carlo method."
   ]
  },
  {
   "cell_type": "code",
   "execution_count": 2,
   "id": "6f50dae6-3c54-48fa-82cc-6d249d24c86f",
   "metadata": {},
   "outputs": [],
   "source": [
    "# Parameters\n",
    "N = 100000 # Number of samples for Monte Carlo method"
   ]
  },
  {
   "cell_type": "markdown",
   "id": "e4c49ef3-9502-4fde-9d65-a07fb06587c5",
   "metadata": {},
   "source": [
    "## Generating the data\n",
    "\n",
    "We first begin by generating a balanced $3 \\times 5$ matrix. We compute the corresponding margins and then we add noise to the data. This way we have margins that sum correctly (thus the raking problem indeed has a solution), but we avoid having observations that already match the margins before the raking. "
   ]
  },
  {
   "cell_type": "code",
   "execution_count": 3,
   "id": "bcb3d946-404f-4a55-ae2a-73fadb9ad25d",
   "metadata": {},
   "outputs": [],
   "source": [
    "# Define variables and margins names\n",
    "x1 = [1, 2, 3, 1, 2, 3, 1, 2, 3, 1, 2, 3, 1, 2, 3]\n",
    "x2 = [1, 1, 1, 2, 2, 2, 3, 3, 3, 4, 4, 4, 5, 5, 5]\n",
    "margins = ['s1_1', 's1_2', 's1_3', 's1_4', 's1_5', 's2_1', 's2_2']\n",
    "\n",
    "# Generate balanced table\n",
    "rng = np.random.default_rng(0)\n",
    "beta_ij = rng.uniform(low=2.0, high=3.0, size=(3, 5))\n",
    "\n",
    "# Compute the margins\n",
    "s1 = np.sum(beta_ij, axis=0)\n",
    "s2 = np.sum(beta_ij, axis=1)\n",
    "\n",
    "# Add noise to the data\n",
    "mean = beta_ij.flatten(order='F') + rng.normal(0.0, 0.1, size=15)"
   ]
  },
  {
   "cell_type": "markdown",
   "id": "167a5da2-5a7a-4bb9-9324-b34dace83fe1",
   "metadata": {},
   "source": [
    "We then generate samples for the observations in order to be able to compare the two methods of uncertainty propagation (Monte Carlo simulation or combination of Delta method and Implicit Function Theorem)."
   ]
  },
  {
   "cell_type": "code",
   "execution_count": 4,
   "id": "5bd3f668-8856-4aa0-8800-79aebf05b0cd",
   "metadata": {},
   "outputs": [],
   "source": [
    "# Define the covariance matrix of the observations\n",
    "cov = 0.01 * np.ones((15, 15))\n",
    "np.fill_diagonal(cov, np.arange(0.01, 0.16, 0.01))\n",
    "\n",
    "# Generate samples\n",
    "y = rng.multivariate_normal(mean, cov, N)"
   ]
  },
  {
   "cell_type": "markdown",
   "id": "6768874a-6791-48c3-8ce2-9646934b86bb",
   "metadata": {},
   "source": [
    "## Applying the raking procedure to the true expectancy of the observations\n",
    "\n",
    "We start by computing the constraint matrix and the margin vector."
   ]
  },
  {
   "cell_type": "code",
   "execution_count": 5,
   "id": "a45250c8-bad2-4d58-bee3-0d27d8085e54",
   "metadata": {},
   "outputs": [],
   "source": [
    "from raking.compute_constraints import constraints_2D"
   ]
  },
  {
   "cell_type": "code",
   "execution_count": 6,
   "id": "2353d5ef-1f83-4be5-bce5-8d521d85b5d9",
   "metadata": {},
   "outputs": [],
   "source": [
    "(A, s) = constraints_2D(s1, s2, 3, 5)"
   ]
  },
  {
   "cell_type": "markdown",
   "id": "d485e260-a865-4fc4-a3aa-993c69231aa0",
   "metadata": {},
   "source": [
    "We then rake the true expectancy of the observations using the $\\chi^2$ distance."
   ]
  },
  {
   "cell_type": "code",
   "execution_count": 7,
   "id": "98022d31-ec68-4e0f-a3e1-c603912da793",
   "metadata": {},
   "outputs": [],
   "source": [
    "from raking.raking_methods import raking_chi2"
   ]
  },
  {
   "cell_type": "code",
   "execution_count": 8,
   "id": "bcdcb6bf-ddef-472f-9d42-41c72c85d2f2",
   "metadata": {},
   "outputs": [],
   "source": [
    "(beta_0, lambda_k) = raking_chi2(mean, A, s)"
   ]
  },
  {
   "cell_type": "markdown",
   "id": "34733a53-35ea-43d0-ad77-9a3ae45b386f",
   "metadata": {},
   "source": [
    "We can verify that the solution of the raking problem verify the constraints:\n",
    "\n",
    "$A \\beta_0 = s$"
   ]
  },
  {
   "cell_type": "code",
   "execution_count": 9,
   "id": "9930847f-c8e4-4337-adb5-693644749e59",
   "metadata": {},
   "outputs": [
    {
     "data": {
      "text/plain": [
       "True"
      ]
     },
     "execution_count": 9,
     "metadata": {},
     "output_type": "execute_result"
    }
   ],
   "source": [
    "np.allclose(np.matmul(A, beta_0), s)"
   ]
  },
  {
   "cell_type": "markdown",
   "id": "fbbfa4dd-8fda-4895-87dd-6fea471b2f8f",
   "metadata": {},
   "source": [
    "We store the results into a dataframe for plotting."
   ]
  },
  {
   "cell_type": "code",
   "execution_count": 10,
   "id": "a5ad4fc9-c6cd-4852-a7c7-032e7d6e045e",
   "metadata": {},
   "outputs": [],
   "source": [
    "df_raked = pd.DataFrame({'X1': x1, \\\n",
    "                         'X2': x2, \\\n",
    "                         'observations': mean, \\\n",
    "                         'raked_values': beta_0})"
   ]
  },
  {
   "cell_type": "markdown",
   "id": "60001bd2-0b08-4030-a071-600e1df280ee",
   "metadata": {},
   "source": [
    "## Propagate the uncertainties using Delta method and IFT\n",
    "\n",
    "We start by computing the gradient of the raked values with respect to the observations $y$: $\\frac{\\partial \\beta}{\\partial y}$ and the gradient of the raked values with respect to the margins $s$: $\\frac{\\partial \\beta}{\\partial s}$ using the Implicit Function Theorem."
   ]
  },
  {
   "cell_type": "code",
   "execution_count": 11,
   "id": "b6a99251-35d6-4eca-aeb0-a571c62e126b",
   "metadata": {},
   "outputs": [],
   "source": [
    "from raking.uncertainty_methods import compute_gradient"
   ]
  },
  {
   "cell_type": "code",
   "execution_count": 12,
   "id": "2b31d9a6-755e-4071-8412-d6b4ee9bb502",
   "metadata": {},
   "outputs": [],
   "source": [
    "(Dphi_y, Dphi_s) = compute_gradient(beta_0, lambda_k, mean, A, 'chi2')"
   ]
  },
  {
   "cell_type": "markdown",
   "id": "f84d8984-37f7-4fed-87ca-6a96fb46c2f2",
   "metadata": {},
   "source": [
    "We store the results into a dataframe for plotting."
   ]
  },
  {
   "cell_type": "code",
   "execution_count": 13,
   "id": "9af1b4a1-0cec-4518-8d09-9ae39cfd0049",
   "metadata": {},
   "outputs": [],
   "source": [
    "df_y = []\n",
    "df_s = []\n",
    "for i in range(0, 15):\n",
    "    df_y.append(pd.DataFrame({'raked_1': np.repeat(x1[i], 15), \\\n",
    "                              'raked_2': np.repeat(x2[i], 15), \\\n",
    "                              'X1': x1, \\\n",
    "                              'X2': x2, \\\n",
    "                              'grad_y': Dphi_y[i, :]}))\n",
    "    df_s.append(pd.DataFrame({'raked_1': np.repeat(x1[i], 7), \\\n",
    "                              'raked_2': np.repeat(x2[i], 7), \\\n",
    "                              'margins': margins, \\\n",
    "                              'grad_s': Dphi_s[i, :]}))\n",
    "df_y = pd.concat(df_y)\n",
    "df_s = pd.concat(df_s)"
   ]
  },
  {
   "cell_type": "markdown",
   "id": "92f2f1fc-973f-4307-a533-7405b6f37f42",
   "metadata": {},
   "source": [
    "Then we compute the covariance matrix of the raked values using the Delta method."
   ]
  },
  {
   "cell_type": "code",
   "execution_count": 14,
   "id": "8d6166d0-2a71-4f62-9df6-d2163e75c2a2",
   "metadata": {},
   "outputs": [],
   "source": [
    "from raking.uncertainty_methods import compute_covariance"
   ]
  },
  {
   "cell_type": "code",
   "execution_count": 15,
   "id": "a55a044b-398c-4528-affe-7c0072684b77",
   "metadata": {},
   "outputs": [],
   "source": [
    "covariance_0 = compute_covariance(Dphi_y, Dphi_s, cov, np.zeros((7, 7)), np.zeros((15, 7)))"
   ]
  },
  {
   "cell_type": "markdown",
   "id": "388655ae-7803-4079-824a-560132ba7285",
   "metadata": {},
   "source": [
    "## Monte Carlo simulation"
   ]
  },
  {
   "cell_type": "markdown",
   "id": "46197d1f-272e-43f3-999d-eca650b01369",
   "metadata": {},
   "source": [
    "We first apply the raking procedure to each sample."
   ]
  },
  {
   "cell_type": "code",
   "execution_count": 16,
   "id": "c908afb2-a950-4188-9697-9b959a2807b7",
   "metadata": {},
   "outputs": [],
   "source": [
    "beta = np.zeros((N, 15))\n",
    "for n in range(0, N):\n",
    "    y_n = y[n, :]\n",
    "    (beta_n, lambda_k) = raking_chi2(y_n, A, s)\n",
    "    beta[n, :] = beta_n"
   ]
  },
  {
   "cell_type": "markdown",
   "id": "2025b846-bc95-4eeb-8def-6b83655754f9",
   "metadata": {},
   "source": [
    "We compute the mean of the raked values."
   ]
  },
  {
   "cell_type": "code",
   "execution_count": 17,
   "id": "20c2ea44-bc7b-43d8-8091-4d6648b0f83b",
   "metadata": {},
   "outputs": [],
   "source": [
    "mean_samples = np.mean(beta, 0)"
   ]
  },
  {
   "cell_type": "markdown",
   "id": "805865ce-aa19-4f9d-a9c7-a6a8d9a8e3ea",
   "metadata": {},
   "source": [
    "We compute the covariance of the raked values."
   ]
  },
  {
   "cell_type": "code",
   "execution_count": 18,
   "id": "8bbc4da2-300f-49c9-9455-ed8c4e211e22",
   "metadata": {},
   "outputs": [],
   "source": [
    "covariance_samples = np.matmul(np.transpose(beta - mean_samples), beta - mean_samples) / (N - 1)"
   ]
  },
  {
   "cell_type": "markdown",
   "id": "59ef1e90-507e-4af2-989d-1ccf61a6626c",
   "metadata": {},
   "source": [
    "We also want to verify how well the delta method and the Monte Carlo simulation approximate the expectancy and the covariance of the raked values. We assume that if we do 1000000 simulations, we approximate well the true solution. We first generate 1000000 samples."
   ]
  },
  {
   "cell_type": "code",
   "execution_count": 19,
   "id": "c5833b43-c145-401e-bef2-c30f5931fdb7",
   "metadata": {},
   "outputs": [],
   "source": [
    "y_ref = rng.multivariate_normal(mean, cov, 1000000)"
   ]
  },
  {
   "cell_type": "markdown",
   "id": "f5e0372a-56d3-48df-85b6-8000bcb99a1b",
   "metadata": {},
   "source": [
    "We then apply the raking procedure to each sample."
   ]
  },
  {
   "cell_type": "code",
   "execution_count": 20,
   "id": "5149c611-df91-40ad-942e-b70de66e10ac",
   "metadata": {},
   "outputs": [],
   "source": [
    "beta_ref = np.zeros((1000000, 15))\n",
    "for n in range(0, 1000000):\n",
    "    y_ref_n = y_ref[n, :]\n",
    "    (beta_ref_n, lambda_k) = raking_chi2(y_ref_n, A, s)\n",
    "    beta_ref[n, :] = beta_ref_n"
   ]
  },
  {
   "cell_type": "markdown",
   "id": "28505082-b483-48e3-939a-084e869b554d",
   "metadata": {},
   "source": [
    "We compute the mean of the raked values."
   ]
  },
  {
   "cell_type": "code",
   "execution_count": 21,
   "id": "10f46a35-5894-46c2-a0db-65d63c4672ba",
   "metadata": {},
   "outputs": [],
   "source": [
    "mean_ref = np.mean(beta_ref, 0)"
   ]
  },
  {
   "cell_type": "markdown",
   "id": "f470761b-cb8a-46fe-b9f3-b5c2e7431734",
   "metadata": {},
   "source": [
    "We compute the cobariance of the raked values."
   ]
  },
  {
   "cell_type": "code",
   "execution_count": 22,
   "id": "3ef43643-62e7-4596-9add-ca48e67d4e76",
   "metadata": {},
   "outputs": [],
   "source": [
    "covariance_ref = np.matmul(np.transpose(beta_ref - mean_ref), beta_ref - mean_ref) / (1000000 - 1)"
   ]
  },
  {
   "cell_type": "markdown",
   "id": "c4145845-4be9-4134-ba91-5aa7d731feee",
   "metadata": {},
   "source": [
    "## Plots"
   ]
  },
  {
   "cell_type": "markdown",
   "id": "99edded8-4383-405c-a06b-349ca69f7f6c",
   "metadata": {},
   "source": [
    "We gather initial values and corresponding raked values, with their associated variances."
   ]
  },
  {
   "cell_type": "code",
   "execution_count": 23,
   "id": "49ff5b81-86e0-48fb-92f3-084178cd1c52",
   "metadata": {},
   "outputs": [],
   "source": [
    "initial = pd.DataFrame({'X1': x1, \\\n",
    "                         'X2': x2, \\\n",
    "                         'variance': np.arange(0.01, 0.16, 0.01)})\n",
    "variance = pd.DataFrame({'X1': x1, \\\n",
    "                         'X2': x2, \\\n",
    "                         'variance': np.diag(covariance_0)})\n",
    "df_obs = df_raked.drop(columns=['raked_values']).rename(columns={'observations': 'Value'})\n",
    "df_obs['Type'] = 'Initial'\n",
    "df_obs['width'] = 1\n",
    "df_obs = df_obs.merge(initial, how='inner', \\\n",
    "    left_on=['X1', 'X2'], \\\n",
    "    right_on=['X1', 'X2'])\n",
    "df_raked = df_raked.drop(columns=['observations']).rename(columns={'raked_values': 'Value'})\n",
    "df_raked['Type'] = 'Raked'\n",
    "df_raked['width'] = 2\n",
    "df_raked = df_raked.merge(variance, how='inner', \\\n",
    "    left_on=['X1', 'X2'], \\\n",
    "    right_on=['X1', 'X2'])\n",
    "df_raked = pd.concat([df_obs, df_raked])\n",
    "df_raked['Upper'] = df_raked['Value'] + np.sqrt(df_raked['variance'])\n",
    "df_raked['Lower'] = df_raked['Value'] - np.sqrt(df_raked['variance'])"
   ]
  },
  {
   "cell_type": "markdown",
   "id": "288f8b3a-0c42-4928-84b8-736291a77289",
   "metadata": {},
   "source": [
    "We plot initial values and raked values with their uncertainties (plus or minus the standard deviation)."
   ]
  },
  {
   "cell_type": "code",
   "execution_count": 24,
   "id": "121b74cd-7709-44fd-aed6-08314cbc6518",
   "metadata": {},
   "outputs": [
    {
     "data": {
      "text/html": [
       "\n",
       "<style>\n",
       "  #altair-viz-c315da27d60c44ff8f29d4c84ed4a9ba.vega-embed {\n",
       "    width: 100%;\n",
       "    display: flex;\n",
       "  }\n",
       "\n",
       "  #altair-viz-c315da27d60c44ff8f29d4c84ed4a9ba.vega-embed details,\n",
       "  #altair-viz-c315da27d60c44ff8f29d4c84ed4a9ba.vega-embed details summary {\n",
       "    position: relative;\n",
       "  }\n",
       "</style>\n",
       "<div id=\"altair-viz-c315da27d60c44ff8f29d4c84ed4a9ba\"></div>\n",
       "<script type=\"text/javascript\">\n",
       "  var VEGA_DEBUG = (typeof VEGA_DEBUG == \"undefined\") ? {} : VEGA_DEBUG;\n",
       "  (function(spec, embedOpt){\n",
       "    let outputDiv = document.currentScript.previousElementSibling;\n",
       "    if (outputDiv.id !== \"altair-viz-c315da27d60c44ff8f29d4c84ed4a9ba\") {\n",
       "      outputDiv = document.getElementById(\"altair-viz-c315da27d60c44ff8f29d4c84ed4a9ba\");\n",
       "    }\n",
       "\n",
       "    const paths = {\n",
       "      \"vega\": \"https://cdn.jsdelivr.net/npm/vega@5?noext\",\n",
       "      \"vega-lib\": \"https://cdn.jsdelivr.net/npm/vega-lib?noext\",\n",
       "      \"vega-lite\": \"https://cdn.jsdelivr.net/npm/vega-lite@5.20.1?noext\",\n",
       "      \"vega-embed\": \"https://cdn.jsdelivr.net/npm/vega-embed@6?noext\",\n",
       "    };\n",
       "\n",
       "    function maybeLoadScript(lib, version) {\n",
       "      var key = `${lib.replace(\"-\", \"\")}_version`;\n",
       "      return (VEGA_DEBUG[key] == version) ?\n",
       "        Promise.resolve(paths[lib]) :\n",
       "        new Promise(function(resolve, reject) {\n",
       "          var s = document.createElement('script');\n",
       "          document.getElementsByTagName(\"head\")[0].appendChild(s);\n",
       "          s.async = true;\n",
       "          s.onload = () => {\n",
       "            VEGA_DEBUG[key] = version;\n",
       "            return resolve(paths[lib]);\n",
       "          };\n",
       "          s.onerror = () => reject(`Error loading script: ${paths[lib]}`);\n",
       "          s.src = paths[lib];\n",
       "        });\n",
       "    }\n",
       "\n",
       "    function showError(err) {\n",
       "      outputDiv.innerHTML = `<div class=\"error\" style=\"color:red;\">${err}</div>`;\n",
       "      throw err;\n",
       "    }\n",
       "\n",
       "    function displayChart(vegaEmbed) {\n",
       "      vegaEmbed(outputDiv, spec, embedOpt)\n",
       "        .catch(err => showError(`Javascript Error: ${err.message}<br>This usually means there's a typo in your chart specification. See the javascript console for the full traceback.`));\n",
       "    }\n",
       "\n",
       "    if(typeof define === \"function\" && define.amd) {\n",
       "      requirejs.config({paths});\n",
       "      let deps = [\"vega-embed\"];\n",
       "      require(deps, displayChart, err => showError(`Error loading script: ${err.message}`));\n",
       "    } else {\n",
       "      maybeLoadScript(\"vega\", \"5\")\n",
       "        .then(() => maybeLoadScript(\"vega-lite\", \"5.20.1\"))\n",
       "        .then(() => maybeLoadScript(\"vega-embed\", \"6\"))\n",
       "        .catch(showError)\n",
       "        .then(() => displayChart(vegaEmbed));\n",
       "    }\n",
       "  })({\"config\": {\"view\": {\"continuousWidth\": 300, \"continuousHeight\": 300}, \"axis\": {\"labelFontSize\": 24, \"titleFontSize\": 24}, \"legend\": {\"labelFontSize\": 24, \"titleFontSize\": 24}}, \"data\": {\"name\": \"data-74cff6ac362d26a5a0fbb9d5f4a0d1ab\"}, \"facet\": {\"column\": {\"field\": \"X2\", \"header\": {\"labelFontSize\": 24, \"title\": \"X2\", \"titleFontSize\": 24}, \"type\": \"nominal\"}}, \"spec\": {\"layer\": [{\"mark\": {\"type\": \"point\", \"filled\": true}, \"encoding\": {\"color\": {\"field\": \"Type\", \"type\": \"nominal\"}, \"shape\": {\"field\": \"Type\", \"type\": \"nominal\"}, \"x\": {\"field\": \"Value\", \"type\": \"quantitative\"}, \"y\": {\"field\": \"X1\", \"type\": \"nominal\"}}}, {\"mark\": {\"type\": \"errorbar\", \"clip\": true, \"opacity\": 0.5}, \"encoding\": {\"color\": {\"field\": \"Type\", \"legend\": null, \"type\": \"nominal\"}, \"strokeWidth\": {\"field\": \"width\", \"legend\": null, \"type\": \"quantitative\"}, \"x\": {\"axis\": {\"title\": \"Raked value\"}, \"field\": \"Upper\", \"scale\": {\"zero\": false}, \"type\": \"quantitative\"}, \"x2\": {\"field\": \"Lower\"}, \"y\": {\"axis\": {\"title\": \"X1\"}, \"field\": \"X1\", \"type\": \"nominal\"}}}], \"resolve\": {\"scale\": {\"color\": \"independent\", \"shape\": \"independent\"}}}, \"$schema\": \"https://vega.github.io/schema/vega-lite/v5.20.1.json\", \"datasets\": {\"data-74cff6ac362d26a5a0fbb9d5f4a0d1ab\": [{\"X1\": 1, \"X2\": 1, \"Value\": 2.5637349518511092, \"Type\": \"Initial\", \"width\": 1, \"variance\": 0.01, \"Upper\": 2.6637349518511093, \"Lower\": 2.463734951851109}, {\"X1\": 2, \"X2\": 1, \"Value\": 2.858329678991991, \"Type\": \"Initial\", \"width\": 1, \"variance\": 0.02, \"Upper\": 2.9997510352293006, \"Lower\": 2.7169083227546813}, {\"X1\": 3, \"X2\": 1, \"Value\": 2.784223538484617, \"Type\": \"Initial\", \"width\": 1, \"variance\": 0.03, \"Upper\": 2.9574286192415045, \"Lower\": 2.611018457727729}, {\"X1\": 1, \"X2\": 2, \"Value\": 2.3109497674012833, \"Type\": \"Initial\", \"width\": 1, \"variance\": 0.04, \"Upper\": 2.5109497674012835, \"Lower\": 2.110949767401283}, {\"X1\": 2, \"X2\": 2, \"Value\": 2.7108871127114478, \"Type\": \"Initial\", \"width\": 1, \"variance\": 0.05, \"Upper\": 2.934493910461427, \"Lower\": 2.4872803149614686}, {\"X1\": 3, \"X2\": 2, \"Value\": 1.9898850338757446, \"Type\": \"Initial\", \"width\": 1, \"variance\": 0.06, \"Upper\": 2.2348340081540625, \"Lower\": 1.7449360595974268}, {\"X1\": 1, \"X2\": 3, \"Value\": 2.177619870991163, \"Type\": \"Initial\", \"width\": 1, \"variance\": 0.07, \"Upper\": 2.4421950020976224, \"Lower\": 1.9130447398847041}, {\"X1\": 2, \"X2\": 3, \"Value\": 2.662977093635337, \"Type\": \"Initial\", \"width\": 1, \"variance\": 0.08, \"Upper\": 2.945819806109956, \"Lower\": 2.380134381160718}, {\"X1\": 3, \"X2\": 3, \"Value\": 2.8925552835968715, \"Type\": \"Initial\", \"width\": 1, \"variance\": 0.09, \"Upper\": 3.1925552835968714, \"Lower\": 2.5925552835968717}, {\"X1\": 1, \"X2\": 4, \"Value\": 2.10687465369371, \"Type\": \"Initial\", \"width\": 1, \"variance\": 0.1, \"Upper\": 2.423102419710548, \"Lower\": 1.7906468876768722}, {\"X1\": 2, \"X2\": 4, \"Value\": 2.5530262212415105, \"Type\": \"Initial\", \"width\": 1, \"variance\": 0.11, \"Upper\": 2.8846887002770503, \"Lower\": 2.2213637422059707}, {\"X1\": 3, \"X2\": 4, \"Value\": 1.9592356503700832, \"Type\": \"Initial\", \"width\": 1, \"variance\": 0.12, \"Upper\": 2.3056458118838585, \"Lower\": 1.6128254888563078}, {\"X1\": 1, \"X2\": 5, \"Value\": 2.7210977015744304, \"Type\": \"Initial\", \"width\": 1, \"variance\": 0.13, \"Upper\": 3.0816528291208294, \"Lower\": 2.3605425740280315}, {\"X1\": 2, \"X2\": 5, \"Value\": 2.8892998412210344, \"Type\": \"Initial\", \"width\": 1, \"variance\": 0.14, \"Upper\": 3.2634655798984284, \"Lower\": 2.5151341025436404}, {\"X1\": 3, \"X2\": 5, \"Value\": 2.751674958776949, \"Type\": \"Initial\", \"width\": 1, \"variance\": 0.15, \"Upper\": 3.1389732933976906, \"Lower\": 2.364376624156207}, {\"X1\": 1, \"X2\": 1, \"Value\": 2.58994150818443, \"Type\": \"Raked\", \"width\": 2, \"variance\": 0.011745743564998558, \"Upper\": 2.698319289878828, \"Lower\": 2.481563726490032}, {\"X1\": 2, \"X2\": 1, \"Value\": 2.9252081543638564, \"Type\": \"Raked\", \"width\": 2, \"variance\": 0.01474680074329588, \"Upper\": 3.046644560533077, \"Lower\": 2.803771748194636}, {\"X1\": 3, \"X2\": 1, \"Value\": 2.8504222208720384, \"Type\": \"Raked\", \"width\": 2, \"variance\": 0.018227225741736852, \"Upper\": 2.9854304641082825, \"Lower\": 2.7154139776357944}, {\"X1\": 1, \"X2\": 2, \"Value\": 2.246598427748494, \"Type\": \"Raked\", \"width\": 2, \"variance\": 0.02154507797726516, \"Upper\": 2.3933808448742013, \"Lower\": 2.0998160106227868}, {\"X1\": 2, \"X2\": 2, \"Value\": 2.6711169107336254, \"Type\": \"Raked\", \"width\": 2, \"variance\": 0.024796509571526296, \"Upper\": 2.828585985702415, \"Lower\": 2.5136478357648357}, {\"X1\": 3, \"X2\": 2, \"Value\": 1.9614457105899243, \"Type\": \"Raked\", \"width\": 2, \"variance\": 0.02752949361255412, \"Upper\": 2.127365852864918, \"Lower\": 1.7955255683149307}, {\"X1\": 1, \"X2\": 3, \"Value\": 2.127053480589635, \"Type\": \"Raked\", \"width\": 2, \"variance\": 0.033377022150674826, \"Upper\": 2.3097472740000153, \"Lower\": 1.9443596871792543}, {\"X1\": 2, \"X2\": 3, \"Value\": 2.636226903269259, \"Type\": \"Raked\", \"width\": 2, \"variance\": 0.036860861600944914, \"Upper\": 2.8282187301810966, \"Lower\": 2.4442350763574217}, {\"X1\": 3, \"X2\": 3, \"Value\": 2.8645940686494837, \"Type\": \"Raked\", \"width\": 2, \"variance\": 0.03953187402760226, \"Upper\": 3.063420309441795, \"Lower\": 2.6657678278571724}, {\"X1\": 1, \"X2\": 4, \"Value\": 2.07963056619109, \"Type\": \"Raked\", \"width\": 2, \"variance\": 0.0468339085514627, \"Upper\": 2.296041999695567, \"Lower\": 1.8632191326866128}, {\"X1\": 2, \"X2\": 4, \"Value\": 2.5536508992596545, \"Type\": \"Raked\", \"width\": 2, \"variance\": 0.05072275802311684, \"Upper\": 2.7788680345382937, \"Lower\": 2.3284337639810153}, {\"X1\": 3, \"X2\": 4, \"Value\": 1.960456817271945, \"Type\": \"Raked\", \"width\": 2, \"variance\": 0.054500208854164095, \"Upper\": 2.1939096151865645, \"Lower\": 1.7270040193573257}, {\"X1\": 1, \"X2\": 5, \"Value\": 2.7342958628869063, \"Type\": \"Raked\", \"width\": 2, \"variance\": 0.0574236826314824, \"Upper\": 2.9739282535011187, \"Lower\": 2.494663472272694}, {\"X1\": 2, \"X2\": 5, \"Value\": 2.9413824541233926, \"Type\": \"Raked\", \"width\": 2, \"variance\": 0.061808010623508686, \"Upper\": 3.1899946232211835, \"Lower\": 2.6927702850256017}, {\"X1\": 3, \"X2\": 5, \"Value\": 2.8023185417452012, \"Type\": \"Raked\", \"width\": 2, \"variance\": 0.0641854635569678, \"Upper\": 3.0556670439254345, \"Lower\": 2.548970039564968}]}}, {\"mode\": \"vega-lite\"});\n",
       "</script>"
      ],
      "text/plain": [
       "alt.FacetChart(...)"
      ]
     },
     "execution_count": 24,
     "metadata": {},
     "output_type": "execute_result"
    }
   ],
   "source": [
    "bar = alt.Chart(df_raked).mark_errorbar(clip=True, opacity=0.5).encode(\n",
    "    alt.X('Upper:Q', scale=alt.Scale(zero=False), axis=alt.Axis(title='Raked value')),\n",
    "    alt.X2('Lower:Q'),\n",
    "    alt.Y('X1:N', axis=alt.Axis(title='X1')),\n",
    "    color=alt.Color('Type:N', legend=None),\n",
    "    strokeWidth=alt.StrokeWidth('width:Q', legend=None)\n",
    ")\n",
    "point = alt.Chart(df_raked).mark_point(\n",
    "    filled=True\n",
    ").encode(\n",
    "    alt.X('Value:Q'),\n",
    "    alt.Y('X1:N'),\n",
    "    color=alt.Color('Type:N'),\n",
    "    shape=alt.Shape('Type:N')\n",
    ")\n",
    "chart = alt.layer(point, bar).resolve_scale(\n",
    "    shape='independent',\n",
    "    color='independent'\n",
    ").facet(\n",
    "    column=alt.Column('X2:N', header=alt.Header(title='X2', titleFontSize=24, labelFontSize=24)),\n",
    ").configure_axis(\n",
    "    labelFontSize=24,\n",
    "    titleFontSize=24\n",
    ").configure_legend(\n",
    "    labelFontSize=24,\n",
    "    titleFontSize=24\n",
    ")\n",
    "chart"
   ]
  },
  {
   "cell_type": "code",
   "execution_count": 25,
   "id": "02081e9f-d2bf-4e73-b470-72d465a2a46a",
   "metadata": {},
   "outputs": [],
   "source": [
    "#chart.save('synthetics_raked_values_1.svg')"
   ]
  },
  {
   "cell_type": "code",
   "execution_count": 26,
   "id": "f48d13da-24a3-41c7-ae7a-9ff5e4634944",
   "metadata": {},
   "outputs": [
    {
     "data": {
      "text/html": [
       "\n",
       "<style>\n",
       "  #altair-viz-3a1fce5ab1ec4fef8761f1687d866dd2.vega-embed {\n",
       "    width: 100%;\n",
       "    display: flex;\n",
       "  }\n",
       "\n",
       "  #altair-viz-3a1fce5ab1ec4fef8761f1687d866dd2.vega-embed details,\n",
       "  #altair-viz-3a1fce5ab1ec4fef8761f1687d866dd2.vega-embed details summary {\n",
       "    position: relative;\n",
       "  }\n",
       "</style>\n",
       "<div id=\"altair-viz-3a1fce5ab1ec4fef8761f1687d866dd2\"></div>\n",
       "<script type=\"text/javascript\">\n",
       "  var VEGA_DEBUG = (typeof VEGA_DEBUG == \"undefined\") ? {} : VEGA_DEBUG;\n",
       "  (function(spec, embedOpt){\n",
       "    let outputDiv = document.currentScript.previousElementSibling;\n",
       "    if (outputDiv.id !== \"altair-viz-3a1fce5ab1ec4fef8761f1687d866dd2\") {\n",
       "      outputDiv = document.getElementById(\"altair-viz-3a1fce5ab1ec4fef8761f1687d866dd2\");\n",
       "    }\n",
       "\n",
       "    const paths = {\n",
       "      \"vega\": \"https://cdn.jsdelivr.net/npm/vega@5?noext\",\n",
       "      \"vega-lib\": \"https://cdn.jsdelivr.net/npm/vega-lib?noext\",\n",
       "      \"vega-lite\": \"https://cdn.jsdelivr.net/npm/vega-lite@5.20.1?noext\",\n",
       "      \"vega-embed\": \"https://cdn.jsdelivr.net/npm/vega-embed@6?noext\",\n",
       "    };\n",
       "\n",
       "    function maybeLoadScript(lib, version) {\n",
       "      var key = `${lib.replace(\"-\", \"\")}_version`;\n",
       "      return (VEGA_DEBUG[key] == version) ?\n",
       "        Promise.resolve(paths[lib]) :\n",
       "        new Promise(function(resolve, reject) {\n",
       "          var s = document.createElement('script');\n",
       "          document.getElementsByTagName(\"head\")[0].appendChild(s);\n",
       "          s.async = true;\n",
       "          s.onload = () => {\n",
       "            VEGA_DEBUG[key] = version;\n",
       "            return resolve(paths[lib]);\n",
       "          };\n",
       "          s.onerror = () => reject(`Error loading script: ${paths[lib]}`);\n",
       "          s.src = paths[lib];\n",
       "        });\n",
       "    }\n",
       "\n",
       "    function showError(err) {\n",
       "      outputDiv.innerHTML = `<div class=\"error\" style=\"color:red;\">${err}</div>`;\n",
       "      throw err;\n",
       "    }\n",
       "\n",
       "    function displayChart(vegaEmbed) {\n",
       "      vegaEmbed(outputDiv, spec, embedOpt)\n",
       "        .catch(err => showError(`Javascript Error: ${err.message}<br>This usually means there's a typo in your chart specification. See the javascript console for the full traceback.`));\n",
       "    }\n",
       "\n",
       "    if(typeof define === \"function\" && define.amd) {\n",
       "      requirejs.config({paths});\n",
       "      let deps = [\"vega-embed\"];\n",
       "      require(deps, displayChart, err => showError(`Error loading script: ${err.message}`));\n",
       "    } else {\n",
       "      maybeLoadScript(\"vega\", \"5\")\n",
       "        .then(() => maybeLoadScript(\"vega-lite\", \"5.20.1\"))\n",
       "        .then(() => maybeLoadScript(\"vega-embed\", \"6\"))\n",
       "        .catch(showError)\n",
       "        .then(() => displayChart(vegaEmbed));\n",
       "    }\n",
       "  })({\"config\": {\"view\": {\"continuousWidth\": 300, \"continuousHeight\": 300}, \"axis\": {\"labelFontSize\": 24, \"titleFontSize\": 24}, \"legend\": {\"labelFontSize\": 24, \"titleFontSize\": 24}}, \"data\": {\"name\": \"data-74cff6ac362d26a5a0fbb9d5f4a0d1ab\"}, \"facet\": {\"column\": {\"field\": \"X1\", \"header\": {\"labelFontSize\": 24, \"title\": \"X1\", \"titleFontSize\": 24}, \"type\": \"nominal\"}}, \"spec\": {\"layer\": [{\"mark\": {\"type\": \"point\", \"filled\": true}, \"encoding\": {\"color\": {\"field\": \"Type\", \"type\": \"nominal\"}, \"shape\": {\"field\": \"Type\", \"type\": \"nominal\"}, \"x\": {\"field\": \"Value\", \"type\": \"quantitative\"}, \"y\": {\"field\": \"X2\", \"type\": \"nominal\"}}}, {\"mark\": {\"type\": \"errorbar\", \"clip\": true, \"opacity\": 0.5}, \"encoding\": {\"color\": {\"field\": \"Type\", \"legend\": null, \"type\": \"nominal\"}, \"strokeWidth\": {\"field\": \"width\", \"legend\": null, \"type\": \"quantitative\"}, \"x\": {\"axis\": {\"title\": \"Raked value\"}, \"field\": \"Upper\", \"scale\": {\"zero\": false}, \"type\": \"quantitative\"}, \"x2\": {\"field\": \"Lower\"}, \"y\": {\"axis\": {\"title\": \"X2\"}, \"field\": \"X2\", \"type\": \"nominal\"}}}], \"resolve\": {\"scale\": {\"color\": \"independent\", \"shape\": \"independent\"}}}, \"$schema\": \"https://vega.github.io/schema/vega-lite/v5.20.1.json\", \"datasets\": {\"data-74cff6ac362d26a5a0fbb9d5f4a0d1ab\": [{\"X1\": 1, \"X2\": 1, \"Value\": 2.5637349518511092, \"Type\": \"Initial\", \"width\": 1, \"variance\": 0.01, \"Upper\": 2.6637349518511093, \"Lower\": 2.463734951851109}, {\"X1\": 2, \"X2\": 1, \"Value\": 2.858329678991991, \"Type\": \"Initial\", \"width\": 1, \"variance\": 0.02, \"Upper\": 2.9997510352293006, \"Lower\": 2.7169083227546813}, {\"X1\": 3, \"X2\": 1, \"Value\": 2.784223538484617, \"Type\": \"Initial\", \"width\": 1, \"variance\": 0.03, \"Upper\": 2.9574286192415045, \"Lower\": 2.611018457727729}, {\"X1\": 1, \"X2\": 2, \"Value\": 2.3109497674012833, \"Type\": \"Initial\", \"width\": 1, \"variance\": 0.04, \"Upper\": 2.5109497674012835, \"Lower\": 2.110949767401283}, {\"X1\": 2, \"X2\": 2, \"Value\": 2.7108871127114478, \"Type\": \"Initial\", \"width\": 1, \"variance\": 0.05, \"Upper\": 2.934493910461427, \"Lower\": 2.4872803149614686}, {\"X1\": 3, \"X2\": 2, \"Value\": 1.9898850338757446, \"Type\": \"Initial\", \"width\": 1, \"variance\": 0.06, \"Upper\": 2.2348340081540625, \"Lower\": 1.7449360595974268}, {\"X1\": 1, \"X2\": 3, \"Value\": 2.177619870991163, \"Type\": \"Initial\", \"width\": 1, \"variance\": 0.07, \"Upper\": 2.4421950020976224, \"Lower\": 1.9130447398847041}, {\"X1\": 2, \"X2\": 3, \"Value\": 2.662977093635337, \"Type\": \"Initial\", \"width\": 1, \"variance\": 0.08, \"Upper\": 2.945819806109956, \"Lower\": 2.380134381160718}, {\"X1\": 3, \"X2\": 3, \"Value\": 2.8925552835968715, \"Type\": \"Initial\", \"width\": 1, \"variance\": 0.09, \"Upper\": 3.1925552835968714, \"Lower\": 2.5925552835968717}, {\"X1\": 1, \"X2\": 4, \"Value\": 2.10687465369371, \"Type\": \"Initial\", \"width\": 1, \"variance\": 0.1, \"Upper\": 2.423102419710548, \"Lower\": 1.7906468876768722}, {\"X1\": 2, \"X2\": 4, \"Value\": 2.5530262212415105, \"Type\": \"Initial\", \"width\": 1, \"variance\": 0.11, \"Upper\": 2.8846887002770503, \"Lower\": 2.2213637422059707}, {\"X1\": 3, \"X2\": 4, \"Value\": 1.9592356503700832, \"Type\": \"Initial\", \"width\": 1, \"variance\": 0.12, \"Upper\": 2.3056458118838585, \"Lower\": 1.6128254888563078}, {\"X1\": 1, \"X2\": 5, \"Value\": 2.7210977015744304, \"Type\": \"Initial\", \"width\": 1, \"variance\": 0.13, \"Upper\": 3.0816528291208294, \"Lower\": 2.3605425740280315}, {\"X1\": 2, \"X2\": 5, \"Value\": 2.8892998412210344, \"Type\": \"Initial\", \"width\": 1, \"variance\": 0.14, \"Upper\": 3.2634655798984284, \"Lower\": 2.5151341025436404}, {\"X1\": 3, \"X2\": 5, \"Value\": 2.751674958776949, \"Type\": \"Initial\", \"width\": 1, \"variance\": 0.15, \"Upper\": 3.1389732933976906, \"Lower\": 2.364376624156207}, {\"X1\": 1, \"X2\": 1, \"Value\": 2.58994150818443, \"Type\": \"Raked\", \"width\": 2, \"variance\": 0.011745743564998558, \"Upper\": 2.698319289878828, \"Lower\": 2.481563726490032}, {\"X1\": 2, \"X2\": 1, \"Value\": 2.9252081543638564, \"Type\": \"Raked\", \"width\": 2, \"variance\": 0.01474680074329588, \"Upper\": 3.046644560533077, \"Lower\": 2.803771748194636}, {\"X1\": 3, \"X2\": 1, \"Value\": 2.8504222208720384, \"Type\": \"Raked\", \"width\": 2, \"variance\": 0.018227225741736852, \"Upper\": 2.9854304641082825, \"Lower\": 2.7154139776357944}, {\"X1\": 1, \"X2\": 2, \"Value\": 2.246598427748494, \"Type\": \"Raked\", \"width\": 2, \"variance\": 0.02154507797726516, \"Upper\": 2.3933808448742013, \"Lower\": 2.0998160106227868}, {\"X1\": 2, \"X2\": 2, \"Value\": 2.6711169107336254, \"Type\": \"Raked\", \"width\": 2, \"variance\": 0.024796509571526296, \"Upper\": 2.828585985702415, \"Lower\": 2.5136478357648357}, {\"X1\": 3, \"X2\": 2, \"Value\": 1.9614457105899243, \"Type\": \"Raked\", \"width\": 2, \"variance\": 0.02752949361255412, \"Upper\": 2.127365852864918, \"Lower\": 1.7955255683149307}, {\"X1\": 1, \"X2\": 3, \"Value\": 2.127053480589635, \"Type\": \"Raked\", \"width\": 2, \"variance\": 0.033377022150674826, \"Upper\": 2.3097472740000153, \"Lower\": 1.9443596871792543}, {\"X1\": 2, \"X2\": 3, \"Value\": 2.636226903269259, \"Type\": \"Raked\", \"width\": 2, \"variance\": 0.036860861600944914, \"Upper\": 2.8282187301810966, \"Lower\": 2.4442350763574217}, {\"X1\": 3, \"X2\": 3, \"Value\": 2.8645940686494837, \"Type\": \"Raked\", \"width\": 2, \"variance\": 0.03953187402760226, \"Upper\": 3.063420309441795, \"Lower\": 2.6657678278571724}, {\"X1\": 1, \"X2\": 4, \"Value\": 2.07963056619109, \"Type\": \"Raked\", \"width\": 2, \"variance\": 0.0468339085514627, \"Upper\": 2.296041999695567, \"Lower\": 1.8632191326866128}, {\"X1\": 2, \"X2\": 4, \"Value\": 2.5536508992596545, \"Type\": \"Raked\", \"width\": 2, \"variance\": 0.05072275802311684, \"Upper\": 2.7788680345382937, \"Lower\": 2.3284337639810153}, {\"X1\": 3, \"X2\": 4, \"Value\": 1.960456817271945, \"Type\": \"Raked\", \"width\": 2, \"variance\": 0.054500208854164095, \"Upper\": 2.1939096151865645, \"Lower\": 1.7270040193573257}, {\"X1\": 1, \"X2\": 5, \"Value\": 2.7342958628869063, \"Type\": \"Raked\", \"width\": 2, \"variance\": 0.0574236826314824, \"Upper\": 2.9739282535011187, \"Lower\": 2.494663472272694}, {\"X1\": 2, \"X2\": 5, \"Value\": 2.9413824541233926, \"Type\": \"Raked\", \"width\": 2, \"variance\": 0.061808010623508686, \"Upper\": 3.1899946232211835, \"Lower\": 2.6927702850256017}, {\"X1\": 3, \"X2\": 5, \"Value\": 2.8023185417452012, \"Type\": \"Raked\", \"width\": 2, \"variance\": 0.0641854635569678, \"Upper\": 3.0556670439254345, \"Lower\": 2.548970039564968}]}}, {\"mode\": \"vega-lite\"});\n",
       "</script>"
      ],
      "text/plain": [
       "alt.FacetChart(...)"
      ]
     },
     "execution_count": 26,
     "metadata": {},
     "output_type": "execute_result"
    }
   ],
   "source": [
    "bar = alt.Chart(df_raked).mark_errorbar(clip=True, opacity=0.5).encode(\n",
    "    alt.X('Upper:Q', scale=alt.Scale(zero=False), axis=alt.Axis(title='Raked value')),\n",
    "    alt.X2('Lower:Q'),\n",
    "    alt.Y('X2:N', axis=alt.Axis(title='X2')),\n",
    "    color=alt.Color('Type:N', legend=None),\n",
    "    strokeWidth=alt.StrokeWidth('width:Q', legend=None)\n",
    ")\n",
    "point = alt.Chart(df_raked).mark_point(\n",
    "    filled=True\n",
    ").encode(\n",
    "    alt.X('Value:Q'),\n",
    "    alt.Y('X2:N'),\n",
    "    color=alt.Color('Type:N'),\n",
    "    shape=alt.Shape('Type:N')\n",
    ")\n",
    "chart = alt.layer(point, bar).resolve_scale(\n",
    "    shape='independent',\n",
    "    color='independent'\n",
    ").facet(\n",
    "    column=alt.Column('X1:N', header=alt.Header(title='X1', titleFontSize=24, labelFontSize=24)),\n",
    ").configure_axis(\n",
    "    labelFontSize=24,\n",
    "    titleFontSize=24\n",
    ").configure_legend(\n",
    "    labelFontSize=24,\n",
    "    titleFontSize=24\n",
    ")\n",
    "chart"
   ]
  },
  {
   "cell_type": "code",
   "execution_count": 27,
   "id": "f9ab02a6-3439-40bc-a863-d468872053ec",
   "metadata": {},
   "outputs": [],
   "source": [
    "#chart.save('synthetics_raked_values_2.svg')"
   ]
  },
  {
   "cell_type": "markdown",
   "id": "14c31498-e48d-46f8-9b07-3f13a72fa666",
   "metadata": {},
   "source": [
    "Now we take one observation ($X_1 = 3$ and $X_2 = 4$) and we look at how it will influence the raked values."
   ]
  },
  {
   "cell_type": "code",
   "execution_count": 28,
   "id": "43c9632f-ad59-4793-9837-063822d1288c",
   "metadata": {},
   "outputs": [
    {
     "data": {
      "text/html": [
       "\n",
       "<style>\n",
       "  #altair-viz-997e35692dd1416e97da410590799f7e.vega-embed {\n",
       "    width: 100%;\n",
       "    display: flex;\n",
       "  }\n",
       "\n",
       "  #altair-viz-997e35692dd1416e97da410590799f7e.vega-embed details,\n",
       "  #altair-viz-997e35692dd1416e97da410590799f7e.vega-embed details summary {\n",
       "    position: relative;\n",
       "  }\n",
       "</style>\n",
       "<div id=\"altair-viz-997e35692dd1416e97da410590799f7e\"></div>\n",
       "<script type=\"text/javascript\">\n",
       "  var VEGA_DEBUG = (typeof VEGA_DEBUG == \"undefined\") ? {} : VEGA_DEBUG;\n",
       "  (function(spec, embedOpt){\n",
       "    let outputDiv = document.currentScript.previousElementSibling;\n",
       "    if (outputDiv.id !== \"altair-viz-997e35692dd1416e97da410590799f7e\") {\n",
       "      outputDiv = document.getElementById(\"altair-viz-997e35692dd1416e97da410590799f7e\");\n",
       "    }\n",
       "\n",
       "    const paths = {\n",
       "      \"vega\": \"https://cdn.jsdelivr.net/npm/vega@5?noext\",\n",
       "      \"vega-lib\": \"https://cdn.jsdelivr.net/npm/vega-lib?noext\",\n",
       "      \"vega-lite\": \"https://cdn.jsdelivr.net/npm/vega-lite@5.20.1?noext\",\n",
       "      \"vega-embed\": \"https://cdn.jsdelivr.net/npm/vega-embed@6?noext\",\n",
       "    };\n",
       "\n",
       "    function maybeLoadScript(lib, version) {\n",
       "      var key = `${lib.replace(\"-\", \"\")}_version`;\n",
       "      return (VEGA_DEBUG[key] == version) ?\n",
       "        Promise.resolve(paths[lib]) :\n",
       "        new Promise(function(resolve, reject) {\n",
       "          var s = document.createElement('script');\n",
       "          document.getElementsByTagName(\"head\")[0].appendChild(s);\n",
       "          s.async = true;\n",
       "          s.onload = () => {\n",
       "            VEGA_DEBUG[key] = version;\n",
       "            return resolve(paths[lib]);\n",
       "          };\n",
       "          s.onerror = () => reject(`Error loading script: ${paths[lib]}`);\n",
       "          s.src = paths[lib];\n",
       "        });\n",
       "    }\n",
       "\n",
       "    function showError(err) {\n",
       "      outputDiv.innerHTML = `<div class=\"error\" style=\"color:red;\">${err}</div>`;\n",
       "      throw err;\n",
       "    }\n",
       "\n",
       "    function displayChart(vegaEmbed) {\n",
       "      vegaEmbed(outputDiv, spec, embedOpt)\n",
       "        .catch(err => showError(`Javascript Error: ${err.message}<br>This usually means there's a typo in your chart specification. See the javascript console for the full traceback.`));\n",
       "    }\n",
       "\n",
       "    if(typeof define === \"function\" && define.amd) {\n",
       "      requirejs.config({paths});\n",
       "      let deps = [\"vega-embed\"];\n",
       "      require(deps, displayChart, err => showError(`Error loading script: ${err.message}`));\n",
       "    } else {\n",
       "      maybeLoadScript(\"vega\", \"5\")\n",
       "        .then(() => maybeLoadScript(\"vega-lite\", \"5.20.1\"))\n",
       "        .then(() => maybeLoadScript(\"vega-embed\", \"6\"))\n",
       "        .catch(showError)\n",
       "        .then(() => displayChart(vegaEmbed));\n",
       "    }\n",
       "  })({\"config\": {\"view\": {\"continuousWidth\": 300, \"continuousHeight\": 300}, \"axis\": {\"labelFontSize\": 12, \"titleFontSize\": 12}, \"legend\": {\"labelFontSize\": 10, \"titleFontSize\": 10}, \"title\": {\"fontSize\": 12}}, \"layer\": [{\"mark\": {\"type\": \"rect\"}, \"encoding\": {\"color\": {\"field\": \"grad_y\", \"legend\": {\"title\": [\"Effect of\", \"one obs.\"]}, \"scale\": {\"domain\": [-0.5873646452030209, 0.5873646452030209], \"reverse\": true, \"scheme\": \"redblue\"}, \"type\": \"quantitative\"}, \"x\": {\"axis\": {\"title\": \"X1\"}, \"field\": \"raked_1\", \"type\": \"nominal\"}, \"y\": {\"axis\": {\"title\": \"X2\"}, \"field\": \"raked_2\", \"type\": \"nominal\"}}}, {\"mark\": {\"type\": \"text\", \"baseline\": \"middle\"}, \"encoding\": {\"text\": {\"field\": \"grad_y\", \"format\": \".2f\", \"type\": \"quantitative\"}, \"x\": {\"axis\": {\"title\": \"X1\"}, \"field\": \"raked_1\", \"type\": \"nominal\"}, \"y\": {\"axis\": {\"title\": \"X2\"}, \"field\": \"raked_2\", \"type\": \"nominal\"}}}], \"data\": {\"name\": \"data-418f559d260a108d16adf0bd4e8340d1\"}, \"height\": 180, \"width\": 120, \"$schema\": \"https://vega.github.io/schema/vega-lite/v5.20.1.json\", \"datasets\": {\"data-418f559d260a108d16adf0bd4e8340d1\": [{\"raked_1\": 1, \"raked_2\": 1, \"X1\": 3, \"X2\": 4, \"grad_y\": 0.07189018830423886}, {\"raked_1\": 2, \"raked_2\": 1, \"X1\": 3, \"X2\": 4, \"grad_y\": 0.08420406280385374}, {\"raked_1\": 3, \"raked_2\": 1, \"X1\": 3, \"X2\": 4, \"grad_y\": -0.1560942511080926}, {\"raked_1\": 1, \"raked_2\": 2, \"X1\": 3, \"X2\": 4, \"grad_y\": 0.05389199779978289}, {\"raked_1\": 2, \"raked_2\": 2, \"X1\": 3, \"X2\": 4, \"grad_y\": 0.06706266346936784}, {\"raked_1\": 3, \"raked_2\": 2, \"X1\": 3, \"X2\": 4, \"grad_y\": -0.12095466126915073}, {\"raked_1\": 1, \"raked_2\": 3, \"X1\": 3, \"X2\": 4, \"grad_y\": 0.06744275821820027}, {\"raked_1\": 2, \"raked_2\": 3, \"X1\": 3, \"X2\": 4, \"grad_y\": 0.08625076680779499}, {\"raked_1\": 3, \"raked_2\": 3, \"X1\": 3, \"X2\": 4, \"grad_y\": -0.15369352502599526}, {\"raked_1\": 1, \"raked_2\": 4, \"X1\": 3, \"X2\": 4, \"grad_y\": -0.2672011614143447}, {\"raked_1\": 2, \"raked_2\": 4, \"X1\": 3, \"X2\": 4, \"grad_y\": -0.3201634837886762}, {\"raked_1\": 3, \"raked_2\": 4, \"X1\": 3, \"X2\": 4, \"grad_y\": 0.5873646452030209}, {\"raked_1\": 1, \"raked_2\": 5, \"X1\": 3, \"X2\": 4, \"grad_y\": 0.07397621709212267}, {\"raked_1\": 2, \"raked_2\": 5, \"X1\": 3, \"X2\": 4, \"grad_y\": 0.08264599070765964}, {\"raked_1\": 3, \"raked_2\": 5, \"X1\": 3, \"X2\": 4, \"grad_y\": -0.1566222077997823}]}}, {\"mode\": \"vega-lite\"});\n",
       "</script>"
      ],
      "text/plain": [
       "alt.LayerChart(...)"
      ]
     },
     "execution_count": 28,
     "metadata": {},
     "output_type": "execute_result"
    }
   ],
   "source": [
    "index = np.argmax(np.abs(df_y.grad_y))\n",
    "index_var1 = df_y.iloc[index].X1\n",
    "index_var2 = df_y.iloc[index].X2\n",
    "df_y_loc = df_y.loc[(df_y.X1==index_var1)&(df_y.X2==index_var2)]\n",
    "max_scale = max(abs(df_y_loc['grad_y'].min()), abs(df_y_loc['grad_y'].max()))\n",
    "\n",
    "base = alt.Chart(df_y_loc).encode(\n",
    "    x=alt.X('raked_1:N', axis=alt.Axis(title='X1')),\n",
    "    y=alt.Y('raked_2:N', axis=alt.Axis(title='X2')),\n",
    ")\n",
    "\n",
    "heatmap = base.mark_rect().encode(\n",
    "    color=alt.Color('grad_y:Q',\n",
    "        scale=alt.Scale(scheme='redblue', domain=[-max_scale, max_scale], reverse=True),\n",
    "        legend=alt.Legend(title=['Effect of', 'one obs.']))\n",
    ")\n",
    "\n",
    "text = base.mark_text(baseline='middle').encode(\n",
    "    alt.Text('grad_y:Q', format='.2f')\n",
    ")\n",
    "\n",
    "chart = alt.layer(heatmap, text\n",
    ").properties(\n",
    "    width=120,\n",
    "    height=180\n",
    ").configure_title(\n",
    "    fontSize=12\n",
    ").configure_axis(\n",
    "    labelFontSize=12,\n",
    "    titleFontSize=12\n",
    ").configure_legend(\n",
    "    labelFontSize=10,\n",
    "    titleFontSize=10\n",
    ")\n",
    "chart"
   ]
  },
  {
   "cell_type": "code",
   "execution_count": 29,
   "id": "698f5f64-ed5b-44dc-b752-95f1debc2ca1",
   "metadata": {},
   "outputs": [],
   "source": [
    "#chart.save('synthetics_most_important_initial_value.svg')"
   ]
  },
  {
   "cell_type": "markdown",
   "id": "2673f417-8389-4756-9a9d-4f21ba1c4dfe",
   "metadata": {},
   "source": [
    "Now we take one raked value ($X_1 = 3$ and $X_2 = 4$) and we look at how it is nfluenced by the observations."
   ]
  },
  {
   "cell_type": "code",
   "execution_count": 30,
   "id": "215ef5ee-1716-4ceb-b329-af0bbe58ba07",
   "metadata": {},
   "outputs": [
    {
     "data": {
      "text/html": [
       "\n",
       "<style>\n",
       "  #altair-viz-cce8bb1e751945f383641b20e811e933.vega-embed {\n",
       "    width: 100%;\n",
       "    display: flex;\n",
       "  }\n",
       "\n",
       "  #altair-viz-cce8bb1e751945f383641b20e811e933.vega-embed details,\n",
       "  #altair-viz-cce8bb1e751945f383641b20e811e933.vega-embed details summary {\n",
       "    position: relative;\n",
       "  }\n",
       "</style>\n",
       "<div id=\"altair-viz-cce8bb1e751945f383641b20e811e933\"></div>\n",
       "<script type=\"text/javascript\">\n",
       "  var VEGA_DEBUG = (typeof VEGA_DEBUG == \"undefined\") ? {} : VEGA_DEBUG;\n",
       "  (function(spec, embedOpt){\n",
       "    let outputDiv = document.currentScript.previousElementSibling;\n",
       "    if (outputDiv.id !== \"altair-viz-cce8bb1e751945f383641b20e811e933\") {\n",
       "      outputDiv = document.getElementById(\"altair-viz-cce8bb1e751945f383641b20e811e933\");\n",
       "    }\n",
       "\n",
       "    const paths = {\n",
       "      \"vega\": \"https://cdn.jsdelivr.net/npm/vega@5?noext\",\n",
       "      \"vega-lib\": \"https://cdn.jsdelivr.net/npm/vega-lib?noext\",\n",
       "      \"vega-lite\": \"https://cdn.jsdelivr.net/npm/vega-lite@5.20.1?noext\",\n",
       "      \"vega-embed\": \"https://cdn.jsdelivr.net/npm/vega-embed@6?noext\",\n",
       "    };\n",
       "\n",
       "    function maybeLoadScript(lib, version) {\n",
       "      var key = `${lib.replace(\"-\", \"\")}_version`;\n",
       "      return (VEGA_DEBUG[key] == version) ?\n",
       "        Promise.resolve(paths[lib]) :\n",
       "        new Promise(function(resolve, reject) {\n",
       "          var s = document.createElement('script');\n",
       "          document.getElementsByTagName(\"head\")[0].appendChild(s);\n",
       "          s.async = true;\n",
       "          s.onload = () => {\n",
       "            VEGA_DEBUG[key] = version;\n",
       "            return resolve(paths[lib]);\n",
       "          };\n",
       "          s.onerror = () => reject(`Error loading script: ${paths[lib]}`);\n",
       "          s.src = paths[lib];\n",
       "        });\n",
       "    }\n",
       "\n",
       "    function showError(err) {\n",
       "      outputDiv.innerHTML = `<div class=\"error\" style=\"color:red;\">${err}</div>`;\n",
       "      throw err;\n",
       "    }\n",
       "\n",
       "    function displayChart(vegaEmbed) {\n",
       "      vegaEmbed(outputDiv, spec, embedOpt)\n",
       "        .catch(err => showError(`Javascript Error: ${err.message}<br>This usually means there's a typo in your chart specification. See the javascript console for the full traceback.`));\n",
       "    }\n",
       "\n",
       "    if(typeof define === \"function\" && define.amd) {\n",
       "      requirejs.config({paths});\n",
       "      let deps = [\"vega-embed\"];\n",
       "      require(deps, displayChart, err => showError(`Error loading script: ${err.message}`));\n",
       "    } else {\n",
       "      maybeLoadScript(\"vega\", \"5\")\n",
       "        .then(() => maybeLoadScript(\"vega-lite\", \"5.20.1\"))\n",
       "        .then(() => maybeLoadScript(\"vega-embed\", \"6\"))\n",
       "        .catch(showError)\n",
       "        .then(() => displayChart(vegaEmbed));\n",
       "    }\n",
       "  })({\"config\": {\"view\": {\"continuousWidth\": 300, \"continuousHeight\": 300}, \"axis\": {\"labelFontSize\": 12, \"titleFontSize\": 12}, \"legend\": {\"labelFontSize\": 10, \"titleFontSize\": 10}, \"title\": {\"fontSize\": 12}}, \"layer\": [{\"mark\": {\"type\": \"rect\"}, \"encoding\": {\"color\": {\"field\": \"grad_y\", \"legend\": {\"title\": [\"Effect of\", \"all obs.\"]}, \"scale\": {\"domain\": [-0.5873646452030209, 0.5873646452030209], \"reverse\": true, \"scheme\": \"redblue\"}, \"type\": \"quantitative\"}, \"x\": {\"axis\": {\"title\": \"X1\"}, \"field\": \"X1\", \"type\": \"nominal\"}, \"y\": {\"axis\": {\"title\": \"X2\"}, \"field\": \"X2\", \"type\": \"nominal\"}}}, {\"mark\": {\"type\": \"text\", \"baseline\": \"middle\"}, \"encoding\": {\"text\": {\"field\": \"grad_y\", \"format\": \".2f\", \"type\": \"quantitative\"}, \"x\": {\"axis\": {\"title\": \"X1\"}, \"field\": \"X1\", \"type\": \"nominal\"}, \"y\": {\"axis\": {\"title\": \"X2\"}, \"field\": \"X2\", \"type\": \"nominal\"}}}], \"data\": {\"name\": \"data-5246de657e829161a2550084ce41e1ee\"}, \"height\": 180, \"width\": 120, \"$schema\": \"https://vega.github.io/schema/vega-lite/v5.20.1.json\", \"datasets\": {\"data-5246de657e829161a2550084ce41e1ee\": [{\"raked_1\": 3, \"raked_2\": 4, \"X1\": 1, \"X2\": 1, \"grad_y\": 0.055466325680407574}, {\"raked_1\": 3, \"raked_2\": 4, \"X1\": 2, \"X2\": 1, \"grad_y\": 0.059031151246395484}, {\"raked_1\": 3, \"raked_2\": 4, \"X1\": 3, \"X2\": 1, \"grad_y\": -0.11238386672849188}, {\"raked_1\": 3, \"raked_2\": 4, \"X1\": 1, \"X2\": 2, \"grad_y\": 0.04438996389972947}, {\"raked_1\": 3, \"raked_2\": 4, \"X1\": 2, \"X2\": 2, \"grad_y\": 0.04772730341559318}, {\"raked_1\": 3, \"raked_2\": 4, \"X1\": 3, \"X2\": 2, \"grad_y\": -0.11731647331428524}, {\"raked_1\": 3, \"raked_2\": 4, \"X1\": 1, \"X2\": 3, \"grad_y\": 0.059233263338503477}, {\"raked_1\": 3, \"raked_2\": 4, \"X1\": 2, \"X2\": 3, \"grad_y\": 0.06278081652379161}, {\"raked_1\": 3, \"raked_2\": 4, \"X1\": 3, \"X2\": 3, \"grad_y\": -0.10303182493487224}, {\"raked_1\": 3, \"raked_2\": 4, \"X1\": 1, \"X2\": 4, \"grad_y\": -0.24511122770665275}, {\"raked_1\": 3, \"raked_2\": 4, \"X1\": 2, \"X2\": 4, \"grad_y\": -0.2456059259194809}, {\"raked_1\": 3, \"raked_2\": 4, \"X1\": 3, \"X2\": 4, \"grad_y\": 0.5873646452030209}, {\"raked_1\": 3, \"raked_2\": 4, \"X1\": 1, \"X2\": 5, \"grad_y\": 0.053489116206258354}, {\"raked_1\": 3, \"raked_2\": 4, \"X1\": 2, \"X2\": 5, \"grad_y\": 0.057016969278628885}, {\"raked_1\": 3, \"raked_2\": 4, \"X1\": 3, \"X2\": 5, \"grad_y\": -0.11349916002010321}]}}, {\"mode\": \"vega-lite\"});\n",
       "</script>"
      ],
      "text/plain": [
       "alt.LayerChart(...)"
      ]
     },
     "execution_count": 30,
     "metadata": {},
     "output_type": "execute_result"
    }
   ],
   "source": [
    "index = np.argmax(np.abs(df_y.grad_y))\n",
    "index_raked_1 = df_y.iloc[index].raked_1\n",
    "index_raked_2 = df_y.iloc[index].raked_2\n",
    "df_y_loc = df_y.loc[(df_y.raked_1==index_raked_1)&(df_y.raked_2==index_raked_2)]\n",
    "max_scale = max(abs(df_y_loc['grad_y'].min()), abs(df_y_loc['grad_y'].max()))\n",
    "\n",
    "base = alt.Chart(df_y_loc).encode(\n",
    "    x=alt.X('X1:N', axis=alt.Axis(title='X1')),\n",
    "    y=alt.Y('X2:N', axis=alt.Axis(title='X2')),\n",
    ")\n",
    "\n",
    "heatmap = base.mark_rect().encode(\n",
    "    color=alt.Color('grad_y:Q',\n",
    "        scale=alt.Scale(scheme='redblue', domain=[-max_scale, max_scale], reverse=True),\n",
    "        legend=alt.Legend(title=['Effect of', 'all obs.']))\n",
    ")\n",
    "\n",
    "text = base.mark_text(baseline='middle').encode(\n",
    "    alt.Text('grad_y:Q', format='.2f')\n",
    ")\n",
    "\n",
    "chart = alt.layer(heatmap, text\n",
    ").properties(\n",
    "    width=120,\n",
    "    height=180\n",
    ").configure_title(\n",
    "    fontSize=12\n",
    ").configure_axis(\n",
    "    labelFontSize=12,\n",
    "    titleFontSize=12\n",
    ").configure_legend(\n",
    "    labelFontSize=10,\n",
    "    titleFontSize=10\n",
    ")\n",
    "chart"
   ]
  },
  {
   "cell_type": "code",
   "execution_count": 31,
   "id": "8393765c-807f-4704-ade7-3b2587fe59f8",
   "metadata": {},
   "outputs": [],
   "source": [
    "#chart.save('synthetics_most_important_raked_value.svg')"
   ]
  },
  {
   "cell_type": "markdown",
   "id": "fd65c784-50c0-4e53-a27f-9caf46e94e1f",
   "metadata": {},
   "source": [
    "We compare the raked value of the mean of the observations with the mean of the raked values for each sample of observations."
   ]
  },
  {
   "cell_type": "code",
   "execution_count": 32,
   "id": "1d4b52ca-8f0c-49d6-b25a-9473b9427c4f",
   "metadata": {},
   "outputs": [
    {
     "data": {
      "text/html": [
       "\n",
       "<style>\n",
       "  #altair-viz-8727b2bb1d8b4c40a160f2cd615b1bc6.vega-embed {\n",
       "    width: 100%;\n",
       "    display: flex;\n",
       "  }\n",
       "\n",
       "  #altair-viz-8727b2bb1d8b4c40a160f2cd615b1bc6.vega-embed details,\n",
       "  #altair-viz-8727b2bb1d8b4c40a160f2cd615b1bc6.vega-embed details summary {\n",
       "    position: relative;\n",
       "  }\n",
       "</style>\n",
       "<div id=\"altair-viz-8727b2bb1d8b4c40a160f2cd615b1bc6\"></div>\n",
       "<script type=\"text/javascript\">\n",
       "  var VEGA_DEBUG = (typeof VEGA_DEBUG == \"undefined\") ? {} : VEGA_DEBUG;\n",
       "  (function(spec, embedOpt){\n",
       "    let outputDiv = document.currentScript.previousElementSibling;\n",
       "    if (outputDiv.id !== \"altair-viz-8727b2bb1d8b4c40a160f2cd615b1bc6\") {\n",
       "      outputDiv = document.getElementById(\"altair-viz-8727b2bb1d8b4c40a160f2cd615b1bc6\");\n",
       "    }\n",
       "\n",
       "    const paths = {\n",
       "      \"vega\": \"https://cdn.jsdelivr.net/npm/vega@5?noext\",\n",
       "      \"vega-lib\": \"https://cdn.jsdelivr.net/npm/vega-lib?noext\",\n",
       "      \"vega-lite\": \"https://cdn.jsdelivr.net/npm/vega-lite@5.20.1?noext\",\n",
       "      \"vega-embed\": \"https://cdn.jsdelivr.net/npm/vega-embed@6?noext\",\n",
       "    };\n",
       "\n",
       "    function maybeLoadScript(lib, version) {\n",
       "      var key = `${lib.replace(\"-\", \"\")}_version`;\n",
       "      return (VEGA_DEBUG[key] == version) ?\n",
       "        Promise.resolve(paths[lib]) :\n",
       "        new Promise(function(resolve, reject) {\n",
       "          var s = document.createElement('script');\n",
       "          document.getElementsByTagName(\"head\")[0].appendChild(s);\n",
       "          s.async = true;\n",
       "          s.onload = () => {\n",
       "            VEGA_DEBUG[key] = version;\n",
       "            return resolve(paths[lib]);\n",
       "          };\n",
       "          s.onerror = () => reject(`Error loading script: ${paths[lib]}`);\n",
       "          s.src = paths[lib];\n",
       "        });\n",
       "    }\n",
       "\n",
       "    function showError(err) {\n",
       "      outputDiv.innerHTML = `<div class=\"error\" style=\"color:red;\">${err}</div>`;\n",
       "      throw err;\n",
       "    }\n",
       "\n",
       "    function displayChart(vegaEmbed) {\n",
       "      vegaEmbed(outputDiv, spec, embedOpt)\n",
       "        .catch(err => showError(`Javascript Error: ${err.message}<br>This usually means there's a typo in your chart specification. See the javascript console for the full traceback.`));\n",
       "    }\n",
       "\n",
       "    if(typeof define === \"function\" && define.amd) {\n",
       "      requirejs.config({paths});\n",
       "      let deps = [\"vega-embed\"];\n",
       "      require(deps, displayChart, err => showError(`Error loading script: ${err.message}`));\n",
       "    } else {\n",
       "      maybeLoadScript(\"vega\", \"5\")\n",
       "        .then(() => maybeLoadScript(\"vega-lite\", \"5.20.1\"))\n",
       "        .then(() => maybeLoadScript(\"vega-embed\", \"6\"))\n",
       "        .catch(showError)\n",
       "        .then(() => displayChart(vegaEmbed));\n",
       "    }\n",
       "  })({\"config\": {\"view\": {\"continuousWidth\": 300, \"continuousHeight\": 300}, \"axis\": {\"labelFontSize\": 18, \"titleFontSize\": 18}, \"title\": {\"anchor\": \"middle\", \"fontSize\": 24}}, \"hconcat\": [{\"layer\": [{\"data\": {\"name\": \"empty\"}, \"mark\": {\"type\": \"rule\", \"strokeDash\": [8, 8]}, \"encoding\": {\"x\": {\"value\": 0}, \"x2\": {\"value\": \"width\"}, \"y\": {\"value\": \"height\"}, \"y2\": {\"value\": 0}}}, {\"data\": {\"name\": \"data-bb3aec50353383ae9622d8e1f1b6129d\"}, \"mark\": {\"type\": \"point\", \"size\": 60}, \"encoding\": {\"color\": {\"field\": \"X1\", \"legend\": {\"title\": \"X1\"}, \"type\": \"nominal\"}, \"shape\": {\"field\": \"X2\", \"legend\": {\"title\": \"X2\"}, \"type\": \"nominal\"}, \"x\": {\"axis\": {\"title\": \"Reference\"}, \"field\": \"reference\", \"scale\": {\"domain\": [1.8, 3.0], \"zero\": false}, \"type\": \"quantitative\"}, \"y\": {\"axis\": {\"title\": \"Delta method and IFT\"}, \"field\": \"delta_method\", \"scale\": {\"domain\": [1.8, 3.0], \"zero\": false}, \"type\": \"quantitative\"}}}]}, {\"layer\": [{\"data\": {\"name\": \"empty\"}, \"mark\": {\"type\": \"rule\", \"strokeDash\": [8, 8]}, \"encoding\": {\"x\": {\"value\": 0}, \"x2\": {\"value\": \"width\"}, \"y\": {\"value\": \"height\"}, \"y2\": {\"value\": 0}}}, {\"data\": {\"name\": \"data-bb3aec50353383ae9622d8e1f1b6129d\"}, \"mark\": {\"type\": \"point\", \"size\": 60}, \"encoding\": {\"color\": {\"field\": \"X1\", \"legend\": {\"title\": \"X1\"}, \"type\": \"nominal\"}, \"shape\": {\"field\": \"X2\", \"legend\": {\"title\": \"X2\"}, \"type\": \"nominal\"}, \"x\": {\"axis\": {\"title\": \"Reference\"}, \"field\": \"reference\", \"scale\": {\"domain\": [1.8, 3.0], \"zero\": false}, \"type\": \"quantitative\"}, \"y\": {\"axis\": {\"title\": \"Monte Carlo simulation\"}, \"field\": \"monte_carlo\", \"scale\": {\"domain\": [1.8, 3.0], \"zero\": false}, \"type\": \"quantitative\"}}}]}], \"title\": \"100000 samples\", \"$schema\": \"https://vega.github.io/schema/vega-lite/v5.20.1.json\", \"datasets\": {\"empty\": [{}], \"data-bb3aec50353383ae9622d8e1f1b6129d\": [{\"X1\": 1, \"X2\": 1, \"delta_method\": 2.58994150818443, \"monte_carlo\": 2.590581237048719, \"reference\": 2.590473992940043}, {\"X1\": 2, \"X2\": 1, \"delta_method\": 2.9252081543638564, \"monte_carlo\": 2.923836731483312, \"reference\": 2.9230745566324257}, {\"X1\": 3, \"X2\": 1, \"delta_method\": 2.8504222208720384, \"monte_carlo\": 2.8511528957853414, \"reference\": 2.8520223196882326}, {\"X1\": 1, \"X2\": 2, \"delta_method\": 2.246598427748494, \"monte_carlo\": 2.248099310693044, \"reference\": 2.2476551295371348}, {\"X1\": 2, \"X2\": 2, \"delta_method\": 2.6711169107336254, \"monte_carlo\": 2.671085390452502, \"reference\": 2.6719139929564975}, {\"X1\": 3, \"X2\": 2, \"delta_method\": 1.9614457105899243, \"monte_carlo\": 1.9599763578672424, \"reference\": 1.9595919351924314}, {\"X1\": 1, \"X2\": 3, \"delta_method\": 2.127053480589635, \"monte_carlo\": 2.1253622607763605, \"reference\": 2.1253100657649378}, {\"X1\": 2, \"X2\": 3, \"delta_method\": 2.636226903269259, \"monte_carlo\": 2.6353072586739894, \"reference\": 2.634700942494859}, {\"X1\": 3, \"X2\": 3, \"delta_method\": 2.8645940686494837, \"monte_carlo\": 2.8672047529554927, \"reference\": 2.8678632537978554}, {\"X1\": 1, \"X2\": 4, \"delta_method\": 2.07963056619109, \"monte_carlo\": 2.080104060716957, \"reference\": 2.0799734416197633}, {\"X1\": 2, \"X2\": 4, \"delta_method\": 2.5536508992596545, \"monte_carlo\": 2.5561366539677426, \"reference\": 2.5569290940899396}, {\"X1\": 3, \"X2\": 4, \"delta_method\": 1.960456817271945, \"monte_carlo\": 1.9574974749670493, \"reference\": 1.956835658380418}, {\"X1\": 1, \"X2\": 5, \"delta_method\": 2.7342958628869063, \"monte_carlo\": 2.733372929952486, \"reference\": 2.7341071689918444}, {\"X1\": 2, \"X2\": 5, \"delta_method\": 2.9413824541233926, \"monte_carlo\": 2.9412192968497, \"reference\": 2.9409667454793587}, {\"X1\": 3, \"X2\": 5, \"delta_method\": 2.8023185417452012, \"monte_carlo\": 2.803405860886719, \"reference\": 2.8029241748693967}]}}, {\"mode\": \"vega-lite\"});\n",
       "</script>"
      ],
      "text/plain": [
       "alt.HConcatChart(...)"
      ]
     },
     "execution_count": 32,
     "metadata": {},
     "output_type": "execute_result"
    }
   ],
   "source": [
    "delta_method = pd.DataFrame({'X1': x1, \\\n",
    "                             'X2': x2, \\\n",
    "                             'delta_method': df_raked.loc[df_raked.Type=='Raked'].Value})\n",
    "monte_carlo = pd.DataFrame({'X1': x1, \\\n",
    "                          'X2': x2, \\\n",
    "                          'monte_carlo': mean_samples})\n",
    "reference = pd.DataFrame({'X1': x1, \\\n",
    "                          'X2': x2, \\\n",
    "                          'reference': mean_ref})\n",
    "df = delta_method.merge(\n",
    "    monte_carlo, how='inner', on=['X1', 'X2']).merge(\n",
    "    reference, how='inner', on=['X1', 'X2'])\n",
    "\n",
    "#min_x = min(df['delta_method'].min(), df['monte_carlo'].min(), df['reference'].min())\n",
    "#max_x = max(df['delta_method'].max(), df['monte_carlo'].max(), df['reference'].max())\n",
    "min_x = 1.8\n",
    "max_x = 3.0\n",
    "\n",
    "points_delta = alt.Chart(df).mark_point(size=60).encode(\n",
    "    x=alt.X('reference:Q', scale=alt.Scale(domain=[min_x, max_x], zero=False), axis=alt.Axis(title='Reference')),\n",
    "    y=alt.Y('delta_method:Q', scale=alt.Scale(domain=[min_x, max_x], zero=False), axis=alt.Axis(title='Delta method and IFT')),\n",
    "    color=alt.Color('X1:N', legend=alt.Legend(title='X1')),\n",
    "    shape=alt.Shape('X2:N', legend=alt.Legend(title='X2'))\n",
    ")\n",
    "\n",
    "points_samples = alt.Chart(df).mark_point(size=60).encode(\n",
    "    x=alt.X('reference:Q', scale=alt.Scale(domain=[min_x, max_x], zero=False), axis=alt.Axis(title='Reference')),\n",
    "    y=alt.Y('monte_carlo:Q', scale=alt.Scale(domain=[min_x, max_x], zero=False), axis=alt.Axis(title='Monte Carlo simulation')),\n",
    "    color=alt.Color('X1:N', legend=alt.Legend(title='X1')),\n",
    "    shape=alt.Shape('X2:N', legend=alt.Legend(title='X2'))\n",
    ")\n",
    "\n",
    "diagonal = alt.Chart().mark_rule(strokeDash=[8, 8]).encode(\n",
    "    x=alt.value(0),\n",
    "    x2=alt.value('width'),\n",
    "    y=alt.value('height'),\n",
    "    y2=alt.value(0)\n",
    ")\n",
    "\n",
    "chart_delta = (diagonal + points_delta)\n",
    "\n",
    "chart_samples = (diagonal + points_samples)\n",
    "\n",
    "chart = alt.hconcat(chart_delta, chart_samples).properties(\n",
    "    title=str(N) + ' samples',\n",
    ").configure_title(\n",
    "    anchor='middle',\n",
    "    fontSize=24\n",
    ").configure_axis(\n",
    "    labelFontSize=18,\n",
    "    titleFontSize=18\n",
    ")\n",
    "chart"
   ]
  },
  {
   "cell_type": "code",
   "execution_count": 33,
   "id": "5195c9e1-7081-4a0b-8a1b-800d29a1d54a",
   "metadata": {},
   "outputs": [],
   "source": [
    "#chart.save('mean_comparison_' + str(N) + 'samples.svg')"
   ]
  },
  {
   "cell_type": "markdown",
   "id": "6eb9d491-e1d8-4c02-851d-5db395a260a7",
   "metadata": {},
   "source": [
    "We compare the covariance matrix of the mean of the observations with the covariance matrix of the raked values for each sample of observations."
   ]
  },
  {
   "cell_type": "code",
   "execution_count": 34,
   "id": "89e1c1c7-c4c0-4dd2-9344-288e7e01f8d7",
   "metadata": {},
   "outputs": [
    {
     "data": {
      "text/html": [
       "\n",
       "<style>\n",
       "  #altair-viz-7478e43bad214a1c840f5f450b21eb6a.vega-embed {\n",
       "    width: 100%;\n",
       "    display: flex;\n",
       "  }\n",
       "\n",
       "  #altair-viz-7478e43bad214a1c840f5f450b21eb6a.vega-embed details,\n",
       "  #altair-viz-7478e43bad214a1c840f5f450b21eb6a.vega-embed details summary {\n",
       "    position: relative;\n",
       "  }\n",
       "</style>\n",
       "<div id=\"altair-viz-7478e43bad214a1c840f5f450b21eb6a\"></div>\n",
       "<script type=\"text/javascript\">\n",
       "  var VEGA_DEBUG = (typeof VEGA_DEBUG == \"undefined\") ? {} : VEGA_DEBUG;\n",
       "  (function(spec, embedOpt){\n",
       "    let outputDiv = document.currentScript.previousElementSibling;\n",
       "    if (outputDiv.id !== \"altair-viz-7478e43bad214a1c840f5f450b21eb6a\") {\n",
       "      outputDiv = document.getElementById(\"altair-viz-7478e43bad214a1c840f5f450b21eb6a\");\n",
       "    }\n",
       "\n",
       "    const paths = {\n",
       "      \"vega\": \"https://cdn.jsdelivr.net/npm/vega@5?noext\",\n",
       "      \"vega-lib\": \"https://cdn.jsdelivr.net/npm/vega-lib?noext\",\n",
       "      \"vega-lite\": \"https://cdn.jsdelivr.net/npm/vega-lite@5.20.1?noext\",\n",
       "      \"vega-embed\": \"https://cdn.jsdelivr.net/npm/vega-embed@6?noext\",\n",
       "    };\n",
       "\n",
       "    function maybeLoadScript(lib, version) {\n",
       "      var key = `${lib.replace(\"-\", \"\")}_version`;\n",
       "      return (VEGA_DEBUG[key] == version) ?\n",
       "        Promise.resolve(paths[lib]) :\n",
       "        new Promise(function(resolve, reject) {\n",
       "          var s = document.createElement('script');\n",
       "          document.getElementsByTagName(\"head\")[0].appendChild(s);\n",
       "          s.async = true;\n",
       "          s.onload = () => {\n",
       "            VEGA_DEBUG[key] = version;\n",
       "            return resolve(paths[lib]);\n",
       "          };\n",
       "          s.onerror = () => reject(`Error loading script: ${paths[lib]}`);\n",
       "          s.src = paths[lib];\n",
       "        });\n",
       "    }\n",
       "\n",
       "    function showError(err) {\n",
       "      outputDiv.innerHTML = `<div class=\"error\" style=\"color:red;\">${err}</div>`;\n",
       "      throw err;\n",
       "    }\n",
       "\n",
       "    function displayChart(vegaEmbed) {\n",
       "      vegaEmbed(outputDiv, spec, embedOpt)\n",
       "        .catch(err => showError(`Javascript Error: ${err.message}<br>This usually means there's a typo in your chart specification. See the javascript console for the full traceback.`));\n",
       "    }\n",
       "\n",
       "    if(typeof define === \"function\" && define.amd) {\n",
       "      requirejs.config({paths});\n",
       "      let deps = [\"vega-embed\"];\n",
       "      require(deps, displayChart, err => showError(`Error loading script: ${err.message}`));\n",
       "    } else {\n",
       "      maybeLoadScript(\"vega\", \"5\")\n",
       "        .then(() => maybeLoadScript(\"vega-lite\", \"5.20.1\"))\n",
       "        .then(() => maybeLoadScript(\"vega-embed\", \"6\"))\n",
       "        .catch(showError)\n",
       "        .then(() => displayChart(vegaEmbed));\n",
       "    }\n",
       "  })({\"config\": {\"view\": {\"continuousWidth\": 300, \"continuousHeight\": 300}, \"axis\": {\"labelFontSize\": 18, \"titleFontSize\": 18}, \"title\": {\"anchor\": \"middle\", \"fontSize\": 24}}, \"hconcat\": [{\"layer\": [{\"data\": {\"name\": \"empty\"}, \"mark\": {\"type\": \"rule\", \"strokeDash\": [8, 8]}, \"encoding\": {\"x\": {\"value\": 0}, \"x2\": {\"value\": \"width\"}, \"y\": {\"value\": \"height\"}, \"y2\": {\"value\": 0}}}, {\"data\": {\"name\": \"data-fb5139469d1d5c9984ec7e75b070d16d\"}, \"mark\": {\"type\": \"point\", \"size\": 60}, \"encoding\": {\"color\": {\"field\": \"X1\", \"legend\": {\"title\": \"X1\"}, \"type\": \"nominal\"}, \"shape\": {\"field\": \"X2\", \"legend\": {\"title\": \"X2\"}, \"type\": \"nominal\"}, \"x\": {\"axis\": {\"title\": \"Sample variance (1000000 draws)\"}, \"field\": \"reference\", \"scale\": {\"domain\": [0.01, 0.07], \"zero\": false}, \"type\": \"quantitative\"}, \"y\": {\"axis\": {\"title\": \"Variance (Delta method + IFT)\"}, \"field\": \"delta_method\", \"scale\": {\"domain\": [0.01, 0.07], \"zero\": false}, \"type\": \"quantitative\"}}}]}, {\"layer\": [{\"data\": {\"name\": \"empty\"}, \"mark\": {\"type\": \"rule\", \"strokeDash\": [8, 8]}, \"encoding\": {\"x\": {\"value\": 0}, \"x2\": {\"value\": \"width\"}, \"y\": {\"value\": \"height\"}, \"y2\": {\"value\": 0}}}, {\"data\": {\"name\": \"data-fb5139469d1d5c9984ec7e75b070d16d\"}, \"mark\": {\"type\": \"point\", \"size\": 60}, \"encoding\": {\"color\": {\"field\": \"X1\", \"legend\": {\"title\": \"X1\"}, \"type\": \"nominal\"}, \"shape\": {\"field\": \"X2\", \"legend\": {\"title\": \"X2\"}, \"type\": \"nominal\"}, \"x\": {\"axis\": {\"title\": \"Sample variance (1000000 draws)\"}, \"field\": \"reference\", \"scale\": {\"domain\": [0.01, 0.07], \"zero\": false}, \"type\": \"quantitative\"}, \"y\": {\"axis\": {\"title\": \"Sample variance (100000 draws)\"}, \"field\": \"monte_carlo\", \"scale\": {\"domain\": [0.01, 0.07], \"zero\": false}, \"type\": \"quantitative\"}}}]}], \"title\": \"100000 samples\", \"$schema\": \"https://vega.github.io/schema/vega-lite/v5.20.1.json\", \"datasets\": {\"empty\": [{}], \"data-fb5139469d1d5c9984ec7e75b070d16d\": [{\"X1\": 1, \"X2\": 1, \"delta_method\": 0.011745743564998558, \"monte_carlo\": 0.012248301332106148, \"reference\": 0.012226648711579486}, {\"X1\": 2, \"X2\": 1, \"delta_method\": 0.01474680074329588, \"monte_carlo\": 0.01519596508920308, \"reference\": 0.015234578619932633}, {\"X1\": 3, \"X2\": 1, \"delta_method\": 0.018227225741736852, \"monte_carlo\": 0.018882827386249718, \"reference\": 0.018884734147593677}, {\"X1\": 1, \"X2\": 2, \"delta_method\": 0.02154507797726516, \"monte_carlo\": 0.022028842293899547, \"reference\": 0.022062921075849586}, {\"X1\": 2, \"X2\": 2, \"delta_method\": 0.024796509571526296, \"monte_carlo\": 0.025429284972376065, \"reference\": 0.02540005096218609}, {\"X1\": 3, \"X2\": 2, \"delta_method\": 0.02752949361255412, \"monte_carlo\": 0.028336825672120272, \"reference\": 0.028302989294193028}, {\"X1\": 1, \"X2\": 3, \"delta_method\": 0.033377022150674826, \"monte_carlo\": 0.03411317617466059, \"reference\": 0.034206778156325626}, {\"X1\": 2, \"X2\": 3, \"delta_method\": 0.036860861600944914, \"monte_carlo\": 0.03781663256695072, \"reference\": 0.03784919813067522}, {\"X1\": 3, \"X2\": 3, \"delta_method\": 0.03953187402760226, \"monte_carlo\": 0.04050816806938347, \"reference\": 0.040629532375302174}, {\"X1\": 1, \"X2\": 4, \"delta_method\": 0.0468339085514627, \"monte_carlo\": 0.04899997022861267, \"reference\": 0.04883738568783888}, {\"X1\": 2, \"X2\": 4, \"delta_method\": 0.05072275802311684, \"monte_carlo\": 0.052940034819021806, \"reference\": 0.05281310496422814}, {\"X1\": 3, \"X2\": 4, \"delta_method\": 0.054500208854164095, \"monte_carlo\": 0.0569553549672325, \"reference\": 0.057135701978870274}, {\"X1\": 1, \"X2\": 5, \"delta_method\": 0.0574236826314824, \"monte_carlo\": 0.05937405774006161, \"reference\": 0.0593753786798867}, {\"X1\": 2, \"X2\": 5, \"delta_method\": 0.061808010623508686, \"monte_carlo\": 0.06383883681903454, \"reference\": 0.06403829816100728}, {\"X1\": 3, \"X2\": 5, \"delta_method\": 0.0641854635569678, \"monte_carlo\": 0.0668164600365823, \"reference\": 0.06671538356167603}]}}, {\"mode\": \"vega-lite\"});\n",
       "</script>"
      ],
      "text/plain": [
       "alt.HConcatChart(...)"
      ]
     },
     "execution_count": 34,
     "metadata": {},
     "output_type": "execute_result"
    }
   ],
   "source": [
    "delta_method = pd.DataFrame({'X1': x1, \\\n",
    "                             'X2': x2, \\\n",
    "                             'delta_method': np.diag(covariance_0)})\n",
    "monte_carlo = pd.DataFrame({'X1': x1, \\\n",
    "                          'X2': x2, \\\n",
    "                          'monte_carlo': np.diag(covariance_samples)})\n",
    "reference = pd.DataFrame({'X1': x1, \\\n",
    "                          'X2': x2, \\\n",
    "                          'reference': np.diag(covariance_ref)})\n",
    "df = delta_method.merge(\n",
    "    monte_carlo, how='inner', on=['X1', 'X2']).merge(\n",
    "    reference, how='inner', on=['X1', 'X2'])\n",
    "\n",
    "#min_x = min(df['delta_method'].min(), df['all_draws'].min(), df['reference'].min())\n",
    "#max_x = max(df['delta_method'].max(), df['all_draws'].max(), df['reference'].max())\n",
    "min_x = 0.01\n",
    "max_x = 0.07\n",
    "\n",
    "points_delta = alt.Chart(df).mark_point(size=60).encode(\n",
    "#    x=alt.X('reference:Q', scale=alt.Scale(domain=[min_x, max_x], zero=False), axis=alt.Axis(title='Reference')),\n",
    "    x=alt.X('reference:Q', scale=alt.Scale(domain=[min_x, max_x], zero=False), axis=alt.Axis(title='Sample variance (1000000 draws)')),\n",
    "#    y=alt.Y('delta_method:Q', scale=alt.Scale(domain=[min_x, max_x], zero=False), axis=alt.Axis(title='Delta method and IFT')),\n",
    "    y=alt.Y('delta_method:Q', scale=alt.Scale(domain=[min_x, max_x], zero=False), axis=alt.Axis(title='Variance (Delta method + IFT)')),\n",
    "    color=alt.Color('X1:N', legend=alt.Legend(title='X1')),\n",
    "    shape=alt.Shape('X2:N', legend=alt.Legend(title='X2'))\n",
    ")\n",
    "\n",
    "points_samples = alt.Chart(df).mark_point(size=60).encode(\n",
    "#    x=alt.X('reference:Q', scale=alt.Scale(domain=[min_x, max_x], zero=False), axis=alt.Axis(title='Reference')),\n",
    "    x=alt.X('reference:Q', scale=alt.Scale(domain=[min_x, max_x], zero=False), axis=alt.Axis(title='Sample variance (1000000 draws)')),\n",
    "#    y=alt.Y('monte_carlo:Q', scale=alt.Scale(domain=[min_x, max_x], zero=False), axis=alt.Axis(title='Monte Carlo simulation')),\n",
    "    y=alt.Y('monte_carlo:Q', scale=alt.Scale(domain=[min_x, max_x], zero=False), axis=alt.Axis(title='Sample variance (' + str(N) + ' draws)')),\n",
    "    color=alt.Color('X1:N', legend=alt.Legend(title='X1')),\n",
    "    shape=alt.Shape('X2:N', legend=alt.Legend(title='X2'))\n",
    ")\n",
    "\n",
    "diagonal = alt.Chart().mark_rule(strokeDash=[8, 8]).encode(\n",
    "    x=alt.value(0),\n",
    "    x2=alt.value('width'),\n",
    "    y=alt.value('height'),\n",
    "    y2=alt.value(0)\n",
    ")\n",
    "\n",
    "chart_delta = (diagonal + points_delta)\n",
    "\n",
    "chart_samples = (diagonal + points_samples)\n",
    "\n",
    "chart = alt.hconcat(chart_delta, chart_samples).properties(\n",
    "    title=str(N) + ' samples',\n",
    ").configure_title(\n",
    "    anchor='middle',\n",
    "    fontSize=24\n",
    ").configure_axis(\n",
    "    labelFontSize=18,\n",
    "    titleFontSize=18\n",
    ")\n",
    "chart"
   ]
  },
  {
   "cell_type": "code",
   "execution_count": 35,
   "id": "8fc8b66f-ce96-451d-ba85-89a74f910398",
   "metadata": {},
   "outputs": [],
   "source": [
    "#chart.save('variance_comparison_' + str(N) + 'samples.svg')\n",
    "chart.save('variance_comparison_' + str(N) + 'draws.svg')"
   ]
  },
  {
   "cell_type": "markdown",
   "id": "72378009-d396-4079-afa4-2962c4508d03",
   "metadata": {},
   "source": [
    "We compare the 2.5% percentiles for both methods."
   ]
  },
  {
   "cell_type": "code",
   "execution_count": 36,
   "id": "8a8a8a51-1dce-4a86-8069-50e058f25020",
   "metadata": {},
   "outputs": [
    {
     "data": {
      "text/html": [
       "\n",
       "<style>\n",
       "  #altair-viz-ebe5cac4c11444f4912791e07b54bb34.vega-embed {\n",
       "    width: 100%;\n",
       "    display: flex;\n",
       "  }\n",
       "\n",
       "  #altair-viz-ebe5cac4c11444f4912791e07b54bb34.vega-embed details,\n",
       "  #altair-viz-ebe5cac4c11444f4912791e07b54bb34.vega-embed details summary {\n",
       "    position: relative;\n",
       "  }\n",
       "</style>\n",
       "<div id=\"altair-viz-ebe5cac4c11444f4912791e07b54bb34\"></div>\n",
       "<script type=\"text/javascript\">\n",
       "  var VEGA_DEBUG = (typeof VEGA_DEBUG == \"undefined\") ? {} : VEGA_DEBUG;\n",
       "  (function(spec, embedOpt){\n",
       "    let outputDiv = document.currentScript.previousElementSibling;\n",
       "    if (outputDiv.id !== \"altair-viz-ebe5cac4c11444f4912791e07b54bb34\") {\n",
       "      outputDiv = document.getElementById(\"altair-viz-ebe5cac4c11444f4912791e07b54bb34\");\n",
       "    }\n",
       "\n",
       "    const paths = {\n",
       "      \"vega\": \"https://cdn.jsdelivr.net/npm/vega@5?noext\",\n",
       "      \"vega-lib\": \"https://cdn.jsdelivr.net/npm/vega-lib?noext\",\n",
       "      \"vega-lite\": \"https://cdn.jsdelivr.net/npm/vega-lite@5.20.1?noext\",\n",
       "      \"vega-embed\": \"https://cdn.jsdelivr.net/npm/vega-embed@6?noext\",\n",
       "    };\n",
       "\n",
       "    function maybeLoadScript(lib, version) {\n",
       "      var key = `${lib.replace(\"-\", \"\")}_version`;\n",
       "      return (VEGA_DEBUG[key] == version) ?\n",
       "        Promise.resolve(paths[lib]) :\n",
       "        new Promise(function(resolve, reject) {\n",
       "          var s = document.createElement('script');\n",
       "          document.getElementsByTagName(\"head\")[0].appendChild(s);\n",
       "          s.async = true;\n",
       "          s.onload = () => {\n",
       "            VEGA_DEBUG[key] = version;\n",
       "            return resolve(paths[lib]);\n",
       "          };\n",
       "          s.onerror = () => reject(`Error loading script: ${paths[lib]}`);\n",
       "          s.src = paths[lib];\n",
       "        });\n",
       "    }\n",
       "\n",
       "    function showError(err) {\n",
       "      outputDiv.innerHTML = `<div class=\"error\" style=\"color:red;\">${err}</div>`;\n",
       "      throw err;\n",
       "    }\n",
       "\n",
       "    function displayChart(vegaEmbed) {\n",
       "      vegaEmbed(outputDiv, spec, embedOpt)\n",
       "        .catch(err => showError(`Javascript Error: ${err.message}<br>This usually means there's a typo in your chart specification. See the javascript console for the full traceback.`));\n",
       "    }\n",
       "\n",
       "    if(typeof define === \"function\" && define.amd) {\n",
       "      requirejs.config({paths});\n",
       "      let deps = [\"vega-embed\"];\n",
       "      require(deps, displayChart, err => showError(`Error loading script: ${err.message}`));\n",
       "    } else {\n",
       "      maybeLoadScript(\"vega\", \"5\")\n",
       "        .then(() => maybeLoadScript(\"vega-lite\", \"5.20.1\"))\n",
       "        .then(() => maybeLoadScript(\"vega-embed\", \"6\"))\n",
       "        .catch(showError)\n",
       "        .then(() => displayChart(vegaEmbed));\n",
       "    }\n",
       "  })({\"config\": {\"view\": {\"continuousWidth\": 300, \"continuousHeight\": 300}, \"axis\": {\"labelFontSize\": 18, \"titleFontSize\": 18}, \"title\": {\"anchor\": \"middle\", \"fontSize\": 24}}, \"hconcat\": [{\"layer\": [{\"data\": {\"name\": \"empty\"}, \"mark\": {\"type\": \"rule\", \"strokeDash\": [8, 8]}, \"encoding\": {\"x\": {\"value\": 0}, \"x2\": {\"value\": \"width\"}, \"y\": {\"value\": \"height\"}, \"y2\": {\"value\": 0}}}, {\"data\": {\"name\": \"data-7aa75e52224afad3e72e36749adfed1b\"}, \"mark\": {\"type\": \"point\", \"size\": 60}, \"encoding\": {\"color\": {\"field\": \"X1\", \"legend\": {\"title\": \"X1\"}, \"type\": \"nominal\"}, \"shape\": {\"field\": \"X2\", \"legend\": {\"title\": \"X2\"}, \"type\": \"nominal\"}, \"x\": {\"axis\": {\"title\": \"Reference\"}, \"field\": \"reference\", \"scale\": {\"domain\": [1.2, 2.8], \"zero\": false}, \"type\": \"quantitative\"}, \"y\": {\"axis\": {\"title\": \"Delta method and IFT\"}, \"field\": \"delta_method\", \"scale\": {\"domain\": [1.2, 2.8], \"zero\": false}, \"type\": \"quantitative\"}}}]}, {\"layer\": [{\"data\": {\"name\": \"empty\"}, \"mark\": {\"type\": \"rule\", \"strokeDash\": [8, 8]}, \"encoding\": {\"x\": {\"value\": 0}, \"x2\": {\"value\": \"width\"}, \"y\": {\"value\": \"height\"}, \"y2\": {\"value\": 0}}}, {\"data\": {\"name\": \"data-7aa75e52224afad3e72e36749adfed1b\"}, \"mark\": {\"type\": \"point\", \"size\": 60}, \"encoding\": {\"color\": {\"field\": \"X1\", \"legend\": {\"title\": \"X1\"}, \"type\": \"nominal\"}, \"shape\": {\"field\": \"X2\", \"legend\": {\"title\": \"X2\"}, \"type\": \"nominal\"}, \"x\": {\"axis\": {\"title\": \"Reference\"}, \"field\": \"reference\", \"scale\": {\"domain\": [1.2, 2.8], \"zero\": false}, \"type\": \"quantitative\"}, \"y\": {\"axis\": {\"title\": \"Monte Carlo simulation\"}, \"field\": \"monte_carlo\", \"scale\": {\"domain\": [1.2, 2.8], \"zero\": false}, \"type\": \"quantitative\"}}}]}], \"title\": \"100000 samples\", \"$schema\": \"https://vega.github.io/schema/vega-lite/v5.20.1.json\", \"datasets\": {\"empty\": [{}], \"data-7aa75e52224afad3e72e36749adfed1b\": [{\"X1\": 1, \"X2\": 1, \"delta_method\": 2.377524959339066, \"monte_carlo\": 2.3760111701919424, \"reference\": 2.3764845010060207}, {\"X1\": 2, \"X2\": 1, \"delta_method\": 2.687197171860207, \"monte_carlo\": 2.685871549825026, \"reference\": 2.683443057287339}, {\"X1\": 3, \"X2\": 1, \"delta_method\": 2.5858109265129765, \"monte_carlo\": 2.588018637646124, \"reference\": 2.5899173384072225}, {\"X1\": 1, \"X2\": 2, \"delta_method\": 1.9589101766183723, \"monte_carlo\": 1.9623573428411347, \"reference\": 1.960885136222847}, {\"X1\": 2, \"X2\": 2, \"delta_method\": 2.36248319511596, \"monte_carlo\": 2.361237517261577, \"reference\": 2.363053111827818}, {\"X1\": 3, \"X2\": 2, \"delta_method\": 1.636248207421175, \"monte_carlo\": 1.6261707524476268, \"reference\": 1.6258643444168692}, {\"X1\": 1, \"X2\": 3, \"delta_method\": 1.7689802253062876, \"monte_carlo\": 1.763053453494174, \"reference\": 1.7614912502106799}, {\"X1\": 2, \"X2\": 3, \"delta_method\": 2.25992983719601, \"monte_carlo\": 2.254395691817175, \"reference\": 2.2533032629183163}, {\"X1\": 3, \"X2\": 3, \"delta_method\": 2.4749017975150647, \"monte_carlo\": 2.475725393845752, \"reference\": 2.4738877091624314}, {\"X1\": 1, \"X2\": 4, \"delta_method\": 1.65547195067963, \"monte_carlo\": 1.6450609317365197, \"reference\": 1.6455569522214908}, {\"X1\": 2, \"X2\": 4, \"delta_method\": 2.1122334254122364, \"monte_carlo\": 2.1087997552492976, \"reference\": 2.109328848869228}, {\"X1\": 3, \"X2\": 4, \"delta_method\": 1.5028977412691835, \"monte_carlo\": 1.474210273340422, \"reference\": 1.4735613068809896}, {\"X1\": 1, \"X2\": 5, \"delta_method\": 2.264625007753816, \"monte_carlo\": 2.2524022246468376, \"reference\": 2.2526893627973514}, {\"X1\": 2, \"X2\": 5, \"delta_method\": 2.45411155657334, \"monte_carlo\": 2.441878421031264, \"reference\": 2.439274887894621}, {\"X1\": 3, \"X2\": 5, \"delta_method\": 2.305764601934776, \"monte_carlo\": 2.287234832102293, \"reference\": 2.2873301752727007}]}}, {\"mode\": \"vega-lite\"});\n",
       "</script>"
      ],
      "text/plain": [
       "alt.HConcatChart(...)"
      ]
     },
     "execution_count": 36,
     "metadata": {},
     "output_type": "execute_result"
    }
   ],
   "source": [
    "delta_method = pd.DataFrame({'X1': x1, \\\n",
    "                             'X2': x2, \\\n",
    "                             'delta_method': df_raked.loc[df_raked.Type=='Raked'].Value + \\\n",
    "                                 np.sqrt(np.diag(covariance_0)) * norm.ppf(0.025, 0, 1)})\n",
    "monte_carlo = pd.DataFrame({'X1': x1, \\\n",
    "                          'X2': x2, \\\n",
    "                          'monte_carlo': np.quantile(beta, 0.025, axis=0)})\n",
    "reference = pd.DataFrame({'X1': x1, \\\n",
    "                          'X2': x2, \\\n",
    "                          'reference': np.quantile(beta_ref, 0.025, axis=0)})\n",
    "df = delta_method.merge(\n",
    "    monte_carlo, how='inner', on=['X1', 'X2']).merge(\n",
    "    reference, how='inner', on=['X1', 'X2'])\n",
    "\n",
    "#min_x = min(df['delta_method'].min(), df['monte_carlo'].min(), df['reference'].min())\n",
    "#max_x = max(df['delta_method'].max(), df['monte_carlo'].max(), df['reference'].max())\n",
    "min_x = 1.2\n",
    "max_x = 2.8\n",
    "\n",
    "points_delta = alt.Chart(df).mark_point(size=60).encode(\n",
    "    x=alt.X('reference:Q', scale=alt.Scale(domain=[min_x, max_x], zero=False), axis=alt.Axis(title='Reference')),\n",
    "    y=alt.Y('delta_method:Q', scale=alt.Scale(domain=[min_x, max_x], zero=False), axis=alt.Axis(title='Delta method and IFT')),\n",
    "    color=alt.Color('X1:N', legend=alt.Legend(title='X1')),\n",
    "    shape=alt.Shape('X2:N', legend=alt.Legend(title='X2'))\n",
    ")\n",
    "\n",
    "points_samples = alt.Chart(df).mark_point(size=60).encode(\n",
    "    x=alt.X('reference:Q', scale=alt.Scale(domain=[min_x, max_x], zero=False), axis=alt.Axis(title='Reference')),\n",
    "    y=alt.Y('monte_carlo:Q', scale=alt.Scale(domain=[min_x, max_x], zero=False), axis=alt.Axis(title='Monte Carlo simulation')),\n",
    "    color=alt.Color('X1:N', legend=alt.Legend(title='X1')),\n",
    "    shape=alt.Shape('X2:N', legend=alt.Legend(title='X2'))\n",
    ")\n",
    "\n",
    "diagonal = alt.Chart().mark_rule(strokeDash=[8, 8]).encode(\n",
    "    x=alt.value(0),\n",
    "    x2=alt.value('width'),\n",
    "    y=alt.value('height'),\n",
    "    y2=alt.value(0)\n",
    ")\n",
    "\n",
    "chart_delta = (diagonal + points_delta)\n",
    "\n",
    "chart_samples = (diagonal + points_samples)\n",
    "\n",
    "chart = alt.hconcat(chart_delta, chart_samples).properties(\n",
    "    title=str(N) + ' samples',\n",
    ").configure_title(\n",
    "    anchor='middle',\n",
    "    fontSize=24\n",
    ").configure_axis(\n",
    "    labelFontSize=18,\n",
    "    titleFontSize=18\n",
    ")\n",
    "chart"
   ]
  },
  {
   "cell_type": "code",
   "execution_count": 37,
   "id": "3217195f-f867-492b-abcc-77d4de0da3c9",
   "metadata": {},
   "outputs": [],
   "source": [
    "#chart.save('lower_interval_comparison_' + str(N) + 'samples.svg')"
   ]
  },
  {
   "cell_type": "markdown",
   "id": "0d8b7a5d-b81a-40d7-aa52-a74f36adcf26",
   "metadata": {},
   "source": [
    "We compare the 97.55% percentiles for both methods."
   ]
  },
  {
   "cell_type": "code",
   "execution_count": 38,
   "id": "8ea180e9-52d5-48b2-a63b-add4317a08f3",
   "metadata": {},
   "outputs": [
    {
     "data": {
      "text/html": [
       "\n",
       "<style>\n",
       "  #altair-viz-7b4f9cfb8d3748c283f47c80c87afdcc.vega-embed {\n",
       "    width: 100%;\n",
       "    display: flex;\n",
       "  }\n",
       "\n",
       "  #altair-viz-7b4f9cfb8d3748c283f47c80c87afdcc.vega-embed details,\n",
       "  #altair-viz-7b4f9cfb8d3748c283f47c80c87afdcc.vega-embed details summary {\n",
       "    position: relative;\n",
       "  }\n",
       "</style>\n",
       "<div id=\"altair-viz-7b4f9cfb8d3748c283f47c80c87afdcc\"></div>\n",
       "<script type=\"text/javascript\">\n",
       "  var VEGA_DEBUG = (typeof VEGA_DEBUG == \"undefined\") ? {} : VEGA_DEBUG;\n",
       "  (function(spec, embedOpt){\n",
       "    let outputDiv = document.currentScript.previousElementSibling;\n",
       "    if (outputDiv.id !== \"altair-viz-7b4f9cfb8d3748c283f47c80c87afdcc\") {\n",
       "      outputDiv = document.getElementById(\"altair-viz-7b4f9cfb8d3748c283f47c80c87afdcc\");\n",
       "    }\n",
       "\n",
       "    const paths = {\n",
       "      \"vega\": \"https://cdn.jsdelivr.net/npm/vega@5?noext\",\n",
       "      \"vega-lib\": \"https://cdn.jsdelivr.net/npm/vega-lib?noext\",\n",
       "      \"vega-lite\": \"https://cdn.jsdelivr.net/npm/vega-lite@5.20.1?noext\",\n",
       "      \"vega-embed\": \"https://cdn.jsdelivr.net/npm/vega-embed@6?noext\",\n",
       "    };\n",
       "\n",
       "    function maybeLoadScript(lib, version) {\n",
       "      var key = `${lib.replace(\"-\", \"\")}_version`;\n",
       "      return (VEGA_DEBUG[key] == version) ?\n",
       "        Promise.resolve(paths[lib]) :\n",
       "        new Promise(function(resolve, reject) {\n",
       "          var s = document.createElement('script');\n",
       "          document.getElementsByTagName(\"head\")[0].appendChild(s);\n",
       "          s.async = true;\n",
       "          s.onload = () => {\n",
       "            VEGA_DEBUG[key] = version;\n",
       "            return resolve(paths[lib]);\n",
       "          };\n",
       "          s.onerror = () => reject(`Error loading script: ${paths[lib]}`);\n",
       "          s.src = paths[lib];\n",
       "        });\n",
       "    }\n",
       "\n",
       "    function showError(err) {\n",
       "      outputDiv.innerHTML = `<div class=\"error\" style=\"color:red;\">${err}</div>`;\n",
       "      throw err;\n",
       "    }\n",
       "\n",
       "    function displayChart(vegaEmbed) {\n",
       "      vegaEmbed(outputDiv, spec, embedOpt)\n",
       "        .catch(err => showError(`Javascript Error: ${err.message}<br>This usually means there's a typo in your chart specification. See the javascript console for the full traceback.`));\n",
       "    }\n",
       "\n",
       "    if(typeof define === \"function\" && define.amd) {\n",
       "      requirejs.config({paths});\n",
       "      let deps = [\"vega-embed\"];\n",
       "      require(deps, displayChart, err => showError(`Error loading script: ${err.message}`));\n",
       "    } else {\n",
       "      maybeLoadScript(\"vega\", \"5\")\n",
       "        .then(() => maybeLoadScript(\"vega-lite\", \"5.20.1\"))\n",
       "        .then(() => maybeLoadScript(\"vega-embed\", \"6\"))\n",
       "        .catch(showError)\n",
       "        .then(() => displayChart(vegaEmbed));\n",
       "    }\n",
       "  })({\"config\": {\"view\": {\"continuousWidth\": 300, \"continuousHeight\": 300}, \"axis\": {\"labelFontSize\": 18, \"titleFontSize\": 18}, \"title\": {\"anchor\": \"middle\", \"fontSize\": 24}}, \"hconcat\": [{\"layer\": [{\"data\": {\"name\": \"empty\"}, \"mark\": {\"type\": \"rule\", \"strokeDash\": [8, 8]}, \"encoding\": {\"x\": {\"value\": 0}, \"x2\": {\"value\": \"width\"}, \"y\": {\"value\": \"height\"}, \"y2\": {\"value\": 0}}}, {\"data\": {\"name\": \"data-d1aeb12e4e10c100c84a7605cd21b693\"}, \"mark\": {\"type\": \"point\", \"size\": 60}, \"encoding\": {\"color\": {\"field\": \"X1\", \"legend\": {\"title\": \"X1\"}, \"type\": \"nominal\"}, \"shape\": {\"field\": \"X2\", \"legend\": {\"title\": \"X2\"}, \"type\": \"nominal\"}, \"x\": {\"axis\": {\"title\": \"Reference\"}, \"field\": \"reference\", \"scale\": {\"domain\": [2.2, 3.5], \"zero\": false}, \"type\": \"quantitative\"}, \"y\": {\"axis\": {\"title\": \"Delta method and IFT\"}, \"field\": \"delta_method\", \"scale\": {\"domain\": [2.2, 3.5], \"zero\": false}, \"type\": \"quantitative\"}}}]}, {\"layer\": [{\"data\": {\"name\": \"empty\"}, \"mark\": {\"type\": \"rule\", \"strokeDash\": [8, 8]}, \"encoding\": {\"x\": {\"value\": 0}, \"x2\": {\"value\": \"width\"}, \"y\": {\"value\": \"height\"}, \"y2\": {\"value\": 0}}}, {\"data\": {\"name\": \"data-d1aeb12e4e10c100c84a7605cd21b693\"}, \"mark\": {\"type\": \"point\", \"size\": 60}, \"encoding\": {\"color\": {\"field\": \"X1\", \"legend\": {\"title\": \"X1\"}, \"type\": \"nominal\"}, \"shape\": {\"field\": \"X2\", \"legend\": {\"title\": \"X2\"}, \"type\": \"nominal\"}, \"x\": {\"axis\": {\"title\": \"Reference\"}, \"field\": \"reference\", \"scale\": {\"domain\": [2.2, 3.5], \"zero\": false}, \"type\": \"quantitative\"}, \"y\": {\"axis\": {\"title\": \"Monte Carlo simulation\"}, \"field\": \"monte_carlo\", \"scale\": {\"domain\": [2.2, 3.5], \"zero\": false}, \"type\": \"quantitative\"}}}]}], \"title\": \"100000 samples\", \"$schema\": \"https://vega.github.io/schema/vega-lite/v5.20.1.json\", \"datasets\": {\"empty\": [{}], \"data-d1aeb12e4e10c100c84a7605cd21b693\": [{\"X1\": 1, \"X2\": 1, \"delta_method\": 2.802358057029794, \"monte_carlo\": 2.8127885043130574, \"reference\": 2.8115029054085867}, {\"X1\": 2, \"X2\": 1, \"delta_method\": 3.163219136867506, \"monte_carlo\": 3.1703102298968564, \"reference\": 3.167948754811857}, {\"X1\": 3, \"X2\": 1, \"delta_method\": 3.1150335152311004, \"monte_carlo\": 3.1299713994807963, \"reference\": 3.1299885154403944}, {\"X1\": 1, \"X2\": 2, \"delta_method\": 2.534286678878616, \"monte_carlo\": 2.542891743070796, \"reference\": 2.5437234969920484}, {\"X1\": 2, \"X2\": 2, \"delta_method\": 2.979750626351291, \"monte_carlo\": 2.9879460379212226, \"reference\": 2.9884276928547524}, {\"X1\": 3, \"X2\": 2, \"delta_method\": 2.2866432137586736, \"monte_carlo\": 2.287679623372229, \"reference\": 2.2863089725273347}, {\"X1\": 1, \"X2\": 3, \"delta_method\": 2.485126735872982, \"monte_carlo\": 2.4851593811480446, \"reference\": 2.487423198431304}, {\"X1\": 2, \"X2\": 3, \"delta_method\": 3.0125239693425083, \"monte_carlo\": 3.0149830148728425, \"reference\": 3.0160491258617714}, {\"X1\": 3, \"X2\": 3, \"delta_method\": 3.254286339783903, \"monte_carlo\": 3.2642044985191463, \"reference\": 3.265559785146472}, {\"X1\": 1, \"X2\": 4, \"delta_method\": 2.5037891817025497, \"monte_carlo\": 2.5156210356327184, \"reference\": 2.514311511476411}, {\"X1\": 2, \"X2\": 4, \"delta_method\": 2.995068373107072, \"monte_carlo\": 3.0141285438178786, \"reference\": 3.0143009377494017}, {\"X1\": 3, \"X2\": 4, \"delta_method\": 2.4180158932747062, \"monte_carlo\": 2.4166037490907515, \"reference\": 2.41369869994239}, {\"X1\": 1, \"X2\": 5, \"delta_method\": 3.203966718019996, \"monte_carlo\": 3.210710944912902, \"reference\": 3.211285914424604}, {\"X1\": 2, \"X2\": 5, \"delta_method\": 3.4286533516734448, \"monte_carlo\": 3.435228565700802, \"reference\": 3.4349825555121005}, {\"X1\": 3, \"X2\": 5, \"delta_method\": 3.2988724815556263, \"monte_carlo\": 3.3069144039431078, \"reference\": 3.3040114635976794}]}}, {\"mode\": \"vega-lite\"});\n",
       "</script>"
      ],
      "text/plain": [
       "alt.HConcatChart(...)"
      ]
     },
     "execution_count": 38,
     "metadata": {},
     "output_type": "execute_result"
    }
   ],
   "source": [
    "delta_method = pd.DataFrame({'X1': x1, \\\n",
    "                             'X2': x2, \\\n",
    "                             'delta_method': df_raked.loc[df_raked.Type=='Raked'].Value + \\\n",
    "                                 np.sqrt(np.diag(covariance_0)) * norm.ppf(0.975, 0, 1)})\n",
    "monte_carlo = pd.DataFrame({'X1': x1, \\\n",
    "                          'X2': x2, \\\n",
    "                          'monte_carlo': np.quantile(beta, 0.975, axis=0)})\n",
    "reference = pd.DataFrame({'X1': x1, \\\n",
    "                          'X2': x2, \\\n",
    "                          'reference': np.quantile(beta_ref, 0.975, axis=0)})\n",
    "df = delta_method.merge(\n",
    "    monte_carlo, how='inner', on=['X1', 'X2']).merge(\n",
    "    reference, how='inner', on=['X1', 'X2'])\n",
    "\n",
    "#min_x = min(df['delta_method'].min(), df['monte_carlo'].min(), df['reference'].min())\n",
    "#max_x = max(df['delta_method'].max(), df['monte_carlo'].max(), df['reference'].max())\n",
    "min_x = 2.2\n",
    "max_x = 3.5\n",
    "\n",
    "points_delta = alt.Chart(df).mark_point(size=60).encode(\n",
    "    x=alt.X('reference:Q', scale=alt.Scale(domain=[min_x, max_x], zero=False), axis=alt.Axis(title='Reference')),\n",
    "    y=alt.Y('delta_method:Q', scale=alt.Scale(domain=[min_x, max_x], zero=False), axis=alt.Axis(title='Delta method and IFT')),\n",
    "    color=alt.Color('X1:N', legend=alt.Legend(title='X1')),\n",
    "    shape=alt.Shape('X2:N', legend=alt.Legend(title='X2'))\n",
    ")\n",
    "\n",
    "points_samples = alt.Chart(df).mark_point(size=60).encode(\n",
    "    x=alt.X('reference:Q', scale=alt.Scale(domain=[min_x, max_x], zero=False), axis=alt.Axis(title='Reference')),\n",
    "    y=alt.Y('monte_carlo:Q', scale=alt.Scale(domain=[min_x, max_x], zero=False), axis=alt.Axis(title='Monte Carlo simulation')),\n",
    "    color=alt.Color('X1:N', legend=alt.Legend(title='X1')),\n",
    "    shape=alt.Shape('X2:N', legend=alt.Legend(title='X2'))\n",
    ")\n",
    "\n",
    "diagonal = alt.Chart().mark_rule(strokeDash=[8, 8]).encode(\n",
    "    x=alt.value(0),\n",
    "    x2=alt.value('width'),\n",
    "    y=alt.value('height'),\n",
    "    y2=alt.value(0)\n",
    ")\n",
    "\n",
    "chart_delta = (diagonal + points_delta)\n",
    "\n",
    "chart_samples = (diagonal + points_samples)\n",
    "\n",
    "chart = alt.hconcat(chart_delta, chart_samples).properties(\n",
    "    title=str(N) + ' samples',\n",
    ").configure_title(\n",
    "    anchor='middle',\n",
    "    fontSize=24\n",
    ").configure_axis(\n",
    "    labelFontSize=18,\n",
    "    titleFontSize=18\n",
    ")\n",
    "chart"
   ]
  },
  {
   "cell_type": "code",
   "execution_count": 39,
   "id": "e09471df-854e-42a4-8d0c-fb84da5355a6",
   "metadata": {},
   "outputs": [],
   "source": [
    "#chart.save('upper_interval_comparison_' + str(N) + 'samples.svg')"
   ]
  }
 ],
 "metadata": {
  "kernelspec": {
   "display_name": "env_raking",
   "language": "python",
   "name": "env_raking"
  },
  "language_info": {
   "codemirror_mode": {
    "name": "ipython",
    "version": 3
   },
   "file_extension": ".py",
   "mimetype": "text/x-python",
   "name": "python",
   "nbconvert_exporter": "python",
   "pygments_lexer": "ipython3",
   "version": "3.11.5"
  }
 },
 "nbformat": 4,
 "nbformat_minor": 5
}
